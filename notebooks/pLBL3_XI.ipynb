{
 "cells": [
  {
   "cell_type": "markdown",
   "metadata": {},
   "source": [
    "# pLBL3_XI \n",
    "\n",
    "This notebook describe the cloning strategy for the  pLBL3_XI vectors:\n",
    "\n",
    "- pLBL3_1362_2\n",
    "- pLBL3_8054_2\n",
    "- pLBL3_15405_2\n",
    "\n",
    "The pLBL3_XI are three vectors expressing one of three metagenomic xylose isomerases (XI) genes. Each of these\n",
    "XI are identified by a number, 1362_2, 8054_2 and 15405_2. The XI genes were synthesized, and amplified with tailed primers\n",
    "allowing recombination with [pLBL3](pLBL3.ipynb) linearized with AjiI."
   ]
  },
  {
   "cell_type": "code",
   "execution_count": 1,
   "metadata": {
    "execution": {
     "iopub.execute_input": "2021-09-19T20:33:08.811233Z",
     "iopub.status.busy": "2021-09-19T20:33:08.810050Z",
     "iopub.status.idle": "2021-09-19T20:33:09.295248Z",
     "shell.execute_reply": "2021-09-19T20:33:09.295614Z"
    }
   },
   "outputs": [],
   "source": [
    "from pydna.all import *"
   ]
  },
  {
   "cell_type": "code",
   "execution_count": 2,
   "metadata": {
    "execution": {
     "iopub.execute_input": "2021-09-19T20:33:09.308245Z",
     "iopub.status.busy": "2021-09-19T20:33:09.303292Z",
     "iopub.status.idle": "2021-09-19T20:33:09.321944Z",
     "shell.execute_reply": "2021-09-19T20:33:09.322397Z"
    }
   },
   "outputs": [],
   "source": [
    "pLBL3 = read(\"pLBL3.gb\")"
   ]
  },
  {
   "cell_type": "markdown",
   "metadata": {},
   "source": [
    "The three XI sequences are available in this file [Nucleotidic_sequences_optimized (idtdna).txt](Nucleotidic_sequences_optimized%20(idtdna).txt)"
   ]
  },
  {
   "cell_type": "code",
   "execution_count": 3,
   "metadata": {
    "execution": {
     "iopub.execute_input": "2021-09-19T20:33:09.326025Z",
     "iopub.status.busy": "2021-09-19T20:33:09.325333Z",
     "iopub.status.idle": "2021-09-19T20:33:09.328238Z",
     "shell.execute_reply": "2021-09-19T20:33:09.328631Z"
    }
   },
   "outputs": [],
   "source": [
    "xi_8054_2, xi_1362_2, xi_15405_2 = parse(\"Nucleotidic_sequences_optimized (idtdna).txt\")"
   ]
  },
  {
   "cell_type": "markdown",
   "metadata": {},
   "source": [
    "All three sequences are about 1.3 kb"
   ]
  },
  {
   "cell_type": "code",
   "execution_count": 4,
   "metadata": {
    "execution": {
     "iopub.execute_input": "2021-09-19T20:33:09.341108Z",
     "iopub.status.busy": "2021-09-19T20:33:09.340536Z",
     "iopub.status.idle": "2021-09-19T20:33:09.343072Z",
     "shell.execute_reply": "2021-09-19T20:33:09.343425Z"
    }
   },
   "outputs": [
    {
     "data": {
      "text/plain": [
       "[1347, 1311, 1347]"
      ]
     },
     "execution_count": 4,
     "metadata": {},
     "output_type": "execute_result"
    }
   ],
   "source": [
    "[len(x) for x in (xi_1362_2, xi_8054_2, xi_15405_2)]"
   ]
  },
  {
   "cell_type": "markdown",
   "metadata": {},
   "source": [
    "They all encode open reading frames"
   ]
  },
  {
   "cell_type": "code",
   "execution_count": 5,
   "metadata": {
    "execution": {
     "iopub.execute_input": "2021-09-19T20:33:09.349926Z",
     "iopub.status.busy": "2021-09-19T20:33:09.348875Z",
     "iopub.status.idle": "2021-09-19T20:33:09.352737Z",
     "shell.execute_reply": "2021-09-19T20:33:09.353273Z"
    }
   },
   "outputs": [
    {
     "data": {
      "text/plain": [
       "[True, True, True]"
      ]
     },
     "execution_count": 5,
     "metadata": {},
     "output_type": "execute_result"
    }
   ],
   "source": [
    "[x.isorf() for x in ( xi_8054_2, xi_1362_2, xi_15405_2 )]"
   ]
  },
  {
   "cell_type": "markdown",
   "metadata": {},
   "source": [
    "Primers used can be found in this file [LBL_primers2.txt](LBL_primers2.txt)."
   ]
  },
  {
   "cell_type": "code",
   "execution_count": 6,
   "metadata": {
    "execution": {
     "iopub.execute_input": "2021-09-19T20:33:09.358404Z",
     "iopub.status.busy": "2021-09-19T20:33:09.357673Z",
     "iopub.status.idle": "2021-09-19T20:33:09.362806Z",
     "shell.execute_reply": "2021-09-19T20:33:09.363257Z"
    }
   },
   "outputs": [],
   "source": [
    "(Fw_8054_2,\n",
    " Rv_8054_2,\n",
    " \n",
    " Fw_15405_2,\n",
    " Rv_15405_2,\n",
    " \n",
    " Fw_1362_6,\n",
    " Rv_1362_6,\n",
    " \n",
    " Fw_flk5_XI,\n",
    " Rv_flk3_XI,\n",
    " \n",
    " Fw_Conf_1362_6,\n",
    " Rv_Conf_1362_6,\n",
    " \n",
    " Fw_Conf_8054_2,\n",
    " Rv_Conf_8054_2,\n",
    " \n",
    " Fw_Conf_15405_2,\n",
    " Rv_Conf_15405_2,\n",
    " \n",
    " *rest )= parse_primers(\"LBL_primers2.txt\")"
   ]
  },
  {
   "cell_type": "markdown",
   "metadata": {},
   "source": [
    "The pLBL3 vector was linearized with AjiI."
   ]
  },
  {
   "cell_type": "code",
   "execution_count": 7,
   "metadata": {
    "execution": {
     "iopub.execute_input": "2021-09-19T20:33:09.374823Z",
     "iopub.status.busy": "2021-09-19T20:33:09.367194Z",
     "iopub.status.idle": "2021-09-19T20:33:09.377116Z",
     "shell.execute_reply": "2021-09-19T20:33:09.376641Z"
    }
   },
   "outputs": [],
   "source": [
    "pLBL3 = read(\"pLBL3.gb\")"
   ]
  },
  {
   "cell_type": "code",
   "execution_count": 8,
   "metadata": {
    "execution": {
     "iopub.execute_input": "2021-09-19T20:33:09.380987Z",
     "iopub.status.busy": "2021-09-19T20:33:09.380423Z",
     "iopub.status.idle": "2021-09-19T20:33:09.383287Z",
     "shell.execute_reply": "2021-09-19T20:33:09.382756Z"
    }
   },
   "outputs": [],
   "source": [
    "from Bio.Restriction import AjiI"
   ]
  },
  {
   "cell_type": "code",
   "execution_count": 9,
   "metadata": {
    "execution": {
     "iopub.execute_input": "2021-09-19T20:33:09.392194Z",
     "iopub.status.busy": "2021-09-19T20:33:09.391759Z",
     "iopub.status.idle": "2021-09-19T20:33:09.393476Z",
     "shell.execute_reply": "2021-09-19T20:33:09.393827Z"
    }
   },
   "outputs": [],
   "source": [
    "pLBL3_AjiI = pLBL3.linearize(AjiI)"
   ]
  },
  {
   "cell_type": "markdown",
   "metadata": {},
   "source": [
    "## pLBL3_1362_2"
   ]
  },
  {
   "cell_type": "markdown",
   "metadata": {},
   "source": [
    "Primers are designed for the first XI sequence, xi_1362_2"
   ]
  },
  {
   "cell_type": "code",
   "execution_count": 10,
   "metadata": {
    "execution": {
     "iopub.execute_input": "2021-09-19T20:33:09.400600Z",
     "iopub.status.busy": "2021-09-19T20:33:09.399365Z",
     "iopub.status.idle": "2021-09-19T20:33:09.406207Z",
     "shell.execute_reply": "2021-09-19T20:33:09.405383Z"
    }
   },
   "outputs": [],
   "source": [
    "product = primer_design(xi_1362_2)"
   ]
  },
  {
   "cell_type": "markdown",
   "metadata": {},
   "source": [
    "Tails added for recombination"
   ]
  },
  {
   "cell_type": "code",
   "execution_count": 11,
   "metadata": {
    "execution": {
     "iopub.execute_input": "2021-09-19T20:33:09.414073Z",
     "iopub.status.busy": "2021-09-19T20:33:09.413218Z",
     "iopub.status.idle": "2021-09-19T20:33:09.416324Z",
     "shell.execute_reply": "2021-09-19T20:33:09.415585Z"
    }
   },
   "outputs": [],
   "source": [
    "vector, product_tails = circular_assembly_fragments((pLBL3_AjiI, product))"
   ]
  },
  {
   "cell_type": "markdown",
   "metadata": {},
   "source": [
    "Assembly of the linear vector and PCR product."
   ]
  },
  {
   "cell_type": "code",
   "execution_count": 12,
   "metadata": {
    "execution": {
     "iopub.execute_input": "2021-09-19T20:33:09.465622Z",
     "iopub.status.busy": "2021-09-19T20:33:09.429631Z",
     "iopub.status.idle": "2021-09-19T20:33:09.596966Z",
     "shell.execute_reply": "2021-09-19T20:33:09.597361Z"
    }
   },
   "outputs": [
    {
     "data": {
      "text/plain": [
       "Assembly\n",
       "fragments..: 7576bp 1417bp\n",
       "limit(bp)..: 25\n",
       "G.nodes....: 4\n",
       "algorithm..: common_sub_strings"
      ]
     },
     "execution_count": 12,
     "metadata": {},
     "output_type": "execute_result"
    }
   ],
   "source": [
    "asm1362_2 = Assembly((pLBL3_AjiI, product_tails))\n",
    "asm1362_2"
   ]
  },
  {
   "cell_type": "code",
   "execution_count": 13,
   "metadata": {
    "execution": {
     "iopub.execute_input": "2021-09-19T20:33:09.601508Z",
     "iopub.status.busy": "2021-09-19T20:33:09.600735Z",
     "iopub.status.idle": "2021-09-19T20:33:09.850995Z",
     "shell.execute_reply": "2021-09-19T20:33:09.851342Z"
    }
   },
   "outputs": [
    {
     "data": {
      "text/plain": [
       "BkTMVvkcn1ptfGtISXhfYxR2u8g"
      ]
     },
     "execution_count": 13,
     "metadata": {},
     "output_type": "execute_result"
    }
   ],
   "source": [
    "theoretical_construct = asm1362_2.assemble_circular()[0]\n",
    "theoretical_construct.cseguid()"
   ]
  },
  {
   "cell_type": "code",
   "execution_count": 14,
   "metadata": {
    "execution": {
     "iopub.execute_input": "2021-09-19T20:33:09.868816Z",
     "iopub.status.busy": "2021-09-19T20:33:09.864260Z",
     "iopub.status.idle": "2021-09-19T20:33:09.870550Z",
     "shell.execute_reply": "2021-09-19T20:33:09.869943Z"
    }
   },
   "outputs": [],
   "source": [
    "assert theoretical_construct.cseguid() == \"BkTMVvkcn1ptfGtISXhfYxR2u8g\""
   ]
  },
  {
   "cell_type": "markdown",
   "metadata": {},
   "source": [
    "The construction was in fact done with manually designed primers for the sequence, but these yield the same construct."
   ]
  },
  {
   "cell_type": "code",
   "execution_count": 15,
   "metadata": {
    "execution": {
     "iopub.execute_input": "2021-09-19T20:33:09.879630Z",
     "iopub.status.busy": "2021-09-19T20:33:09.878810Z",
     "iopub.status.idle": "2021-09-19T20:33:09.881639Z",
     "shell.execute_reply": "2021-09-19T20:33:09.882227Z"
    }
   },
   "outputs": [
    {
     "data": {
      "text/html": [
       "Amplicon(1437)"
      ],
      "text/plain": [
       "Amplicon(1437)"
      ]
     },
     "execution_count": 15,
     "metadata": {},
     "output_type": "execute_result"
    }
   ],
   "source": [
    "product_1362_2 = pcr( Fw_1362_6, Rv_1362_6, xi_1362_2 )\n",
    "product_1362_2"
   ]
  },
  {
   "cell_type": "code",
   "execution_count": 16,
   "metadata": {
    "execution": {
     "iopub.execute_input": "2021-09-19T20:33:09.886951Z",
     "iopub.status.busy": "2021-09-19T20:33:09.886188Z",
     "iopub.status.idle": "2021-09-19T20:33:09.888073Z",
     "shell.execute_reply": "2021-09-19T20:33:09.888636Z"
    }
   },
   "outputs": [],
   "source": [
    "product_1362_2.name = \"product_1362_2\""
   ]
  },
  {
   "cell_type": "code",
   "execution_count": 17,
   "metadata": {
    "execution": {
     "iopub.execute_input": "2021-09-19T20:33:09.968048Z",
     "iopub.status.busy": "2021-09-19T20:33:09.932194Z",
     "iopub.status.idle": "2021-09-19T20:33:10.130296Z",
     "shell.execute_reply": "2021-09-19T20:33:10.131937Z"
    }
   },
   "outputs": [
    {
     "data": {
      "text/plain": [
       "Assembly\n",
       "fragments..: 7576bp 1437bp\n",
       "limit(bp)..: 25\n",
       "G.nodes....: 4\n",
       "algorithm..: common_sub_strings"
      ]
     },
     "execution_count": 17,
     "metadata": {},
     "output_type": "execute_result"
    }
   ],
   "source": [
    "asm1362_2 = Assembly((pLBL3_AjiI, product_1362_2))\n",
    "asm1362_2"
   ]
  },
  {
   "cell_type": "code",
   "execution_count": 18,
   "metadata": {
    "execution": {
     "iopub.execute_input": "2021-09-19T20:33:10.144724Z",
     "iopub.status.busy": "2021-09-19T20:33:10.143980Z",
     "iopub.status.idle": "2021-09-19T20:33:10.146628Z",
     "shell.execute_reply": "2021-09-19T20:33:10.147499Z"
    }
   },
   "outputs": [
    {
     "data": {
      "text/plain": [
       "[Contig(o8923), Contig(o8923)]"
      ]
     },
     "execution_count": 18,
     "metadata": {},
     "output_type": "execute_result"
    }
   ],
   "source": [
    "candidates1362_2 = asm1362_2.assemble_circular()\n",
    "candidates1362_2"
   ]
  },
  {
   "cell_type": "code",
   "execution_count": 19,
   "metadata": {
    "execution": {
     "iopub.execute_input": "2021-09-19T20:33:10.155244Z",
     "iopub.status.busy": "2021-09-19T20:33:10.154146Z",
     "iopub.status.idle": "2021-09-19T20:33:10.157258Z",
     "shell.execute_reply": "2021-09-19T20:33:10.156839Z"
    }
   },
   "outputs": [],
   "source": [
    "candidate1362_2 = candidates1362_2[0]"
   ]
  },
  {
   "cell_type": "code",
   "execution_count": 20,
   "metadata": {
    "execution": {
     "iopub.execute_input": "2021-09-19T20:33:10.163375Z",
     "iopub.status.busy": "2021-09-19T20:33:10.162383Z",
     "iopub.status.idle": "2021-09-19T20:33:10.166907Z",
     "shell.execute_reply": "2021-09-19T20:33:10.167417Z"
    }
   },
   "outputs": [
    {
     "data": {
      "text/html": [
       "<pre> -|pLBL3_lin|45\n",
       "|            \\/\n",
       "|            /\\\n",
       "|            45|product_1362_2|45\n",
       "|                              \\/\n",
       "|                              /\\\n",
       "|                              45-\n",
       "|                                 |\n",
       " ---------------------------------</pre>"
      ],
      "text/plain": [
       "Contig(o8923)"
      ]
     },
     "execution_count": 20,
     "metadata": {},
     "output_type": "execute_result"
    }
   ],
   "source": [
    "candidate1362_2"
   ]
  },
  {
   "cell_type": "code",
   "execution_count": 21,
   "metadata": {
    "execution": {
     "iopub.execute_input": "2021-09-19T20:33:10.209405Z",
     "iopub.status.busy": "2021-09-19T20:33:10.193151Z",
     "iopub.status.idle": "2021-09-19T20:33:10.849980Z",
     "shell.execute_reply": "2021-09-19T20:33:10.850413Z"
    }
   },
   "outputs": [],
   "source": [
    "pLBL3_1362_2 = candidate1362_2.synced(pLBL3)"
   ]
  },
  {
   "cell_type": "code",
   "execution_count": 22,
   "metadata": {
    "execution": {
     "iopub.execute_input": "2021-09-19T20:33:10.854145Z",
     "iopub.status.busy": "2021-09-19T20:33:10.853529Z",
     "iopub.status.idle": "2021-09-19T20:33:10.856554Z",
     "shell.execute_reply": "2021-09-19T20:33:10.856108Z"
    }
   },
   "outputs": [
    {
     "data": {
      "text/plain": [
       "Dseqrecord(o8923)"
      ]
     },
     "execution_count": 22,
     "metadata": {},
     "output_type": "execute_result"
    }
   ],
   "source": [
    "pLBL3_1362_2"
   ]
  },
  {
   "cell_type": "code",
   "execution_count": 23,
   "metadata": {
    "execution": {
     "iopub.execute_input": "2021-09-19T20:33:10.866719Z",
     "iopub.status.busy": "2021-09-19T20:33:10.865946Z",
     "iopub.status.idle": "2021-09-19T20:33:10.869352Z",
     "shell.execute_reply": "2021-09-19T20:33:10.868751Z"
    }
   },
   "outputs": [
    {
     "data": {
      "text/plain": [
       "BkTMVvkcn1ptfGtISXhfYxR2u8g"
      ]
     },
     "execution_count": 23,
     "metadata": {},
     "output_type": "execute_result"
    }
   ],
   "source": [
    "pLBL3_1362_2.cseguid()"
   ]
  },
  {
   "cell_type": "code",
   "execution_count": 24,
   "metadata": {
    "execution": {
     "iopub.execute_input": "2021-09-19T20:33:10.873939Z",
     "iopub.status.busy": "2021-09-19T20:33:10.872802Z",
     "iopub.status.idle": "2021-09-19T20:33:10.876243Z",
     "shell.execute_reply": "2021-09-19T20:33:10.875575Z"
    }
   },
   "outputs": [],
   "source": [
    "assert len(pLBL3_1362_2) == 8923"
   ]
  },
  {
   "cell_type": "code",
   "execution_count": 25,
   "metadata": {
    "execution": {
     "iopub.execute_input": "2021-09-19T20:33:10.899935Z",
     "iopub.status.busy": "2021-09-19T20:33:10.899486Z",
     "iopub.status.idle": "2021-09-19T20:33:10.901508Z",
     "shell.execute_reply": "2021-09-19T20:33:10.901852Z"
    }
   },
   "outputs": [],
   "source": [
    "assert pLBL3_1362_2.cseguid() ==  theoretical_construct.cseguid() == \"BkTMVvkcn1ptfGtISXhfYxR2u8g\""
   ]
  },
  {
   "cell_type": "code",
   "execution_count": 26,
   "metadata": {
    "execution": {
     "iopub.execute_input": "2021-09-19T20:33:10.915728Z",
     "iopub.status.busy": "2021-09-19T20:33:10.915121Z",
     "iopub.status.idle": "2021-09-19T20:33:10.917645Z",
     "shell.execute_reply": "2021-09-19T20:33:10.918018Z"
    }
   },
   "outputs": [
    {
     "data": {
      "text/plain": [
       "cSEGUID_BkTMVvkcn1ptfGtISXhfYxR2u8g"
      ]
     },
     "execution_count": 26,
     "metadata": {},
     "output_type": "execute_result"
    }
   ],
   "source": [
    "pLBL3_1362_2.stamp()"
   ]
  },
  {
   "cell_type": "code",
   "execution_count": 27,
   "metadata": {
    "execution": {
     "iopub.execute_input": "2021-09-19T20:33:10.921417Z",
     "iopub.status.busy": "2021-09-19T20:33:10.920900Z",
     "iopub.status.idle": "2021-09-19T20:33:10.922995Z",
     "shell.execute_reply": "2021-09-19T20:33:10.922551Z"
    }
   },
   "outputs": [],
   "source": [
    "pLBL3_1362_2.name = \"pLBL3_1362_2\""
   ]
  },
  {
   "cell_type": "code",
   "execution_count": 28,
   "metadata": {
    "execution": {
     "iopub.execute_input": "2021-09-19T20:33:10.934795Z",
     "iopub.status.busy": "2021-09-19T20:33:10.934311Z",
     "iopub.status.idle": "2021-09-19T20:33:10.939108Z",
     "shell.execute_reply": "2021-09-19T20:33:10.939470Z"
    }
   },
   "outputs": [
    {
     "data": {
      "text/html": [
       "<font face=monospace><a href='pLBL3_1362_2.gb' target='_blank'>pLBL3_1362_2.gb</a></font><br>"
      ]
     },
     "metadata": {},
     "output_type": "display_data"
    }
   ],
   "source": [
    "pLBL3_1362_2.write(\"pLBL3_1362_2.gb\")"
   ]
  },
  {
   "cell_type": "markdown",
   "metadata": {},
   "source": [
    "## pLBL3_8054_2"
   ]
  },
  {
   "cell_type": "code",
   "execution_count": 29,
   "metadata": {
    "execution": {
     "iopub.execute_input": "2021-09-19T20:33:10.944996Z",
     "iopub.status.busy": "2021-09-19T20:33:10.944558Z",
     "iopub.status.idle": "2021-09-19T20:33:10.946364Z",
     "shell.execute_reply": "2021-09-19T20:33:10.946694Z"
    }
   },
   "outputs": [],
   "source": [
    "product = primer_design(xi_8054_2)"
   ]
  },
  {
   "cell_type": "code",
   "execution_count": 30,
   "metadata": {
    "execution": {
     "iopub.execute_input": "2021-09-19T20:33:10.951778Z",
     "iopub.status.busy": "2021-09-19T20:33:10.951213Z",
     "iopub.status.idle": "2021-09-19T20:33:10.953816Z",
     "shell.execute_reply": "2021-09-19T20:33:10.954329Z"
    }
   },
   "outputs": [],
   "source": [
    "vector, product_tails = circular_assembly_fragments((pLBL3_AjiI, product))"
   ]
  },
  {
   "cell_type": "code",
   "execution_count": 31,
   "metadata": {
    "execution": {
     "iopub.execute_input": "2021-09-19T20:33:10.997471Z",
     "iopub.status.busy": "2021-09-19T20:33:10.971771Z",
     "iopub.status.idle": "2021-09-19T20:33:11.189326Z",
     "shell.execute_reply": "2021-09-19T20:33:11.188474Z"
    }
   },
   "outputs": [
    {
     "data": {
      "text/plain": [
       "Assembly\n",
       "fragments..: 7576bp 1381bp\n",
       "limit(bp)..: 25\n",
       "G.nodes....: 4\n",
       "algorithm..: common_sub_strings"
      ]
     },
     "execution_count": 31,
     "metadata": {},
     "output_type": "execute_result"
    }
   ],
   "source": [
    "asm8054_2 = Assembly((pLBL3_AjiI, product_tails))\n",
    "asm8054_2"
   ]
  },
  {
   "cell_type": "code",
   "execution_count": 32,
   "metadata": {
    "execution": {
     "iopub.execute_input": "2021-09-19T20:33:11.205170Z",
     "iopub.status.busy": "2021-09-19T20:33:11.203550Z",
     "iopub.status.idle": "2021-09-19T20:33:11.213588Z",
     "shell.execute_reply": "2021-09-19T20:33:11.214233Z"
    }
   },
   "outputs": [
    {
     "data": {
      "text/plain": [
       "901r0RNABCaZvc4TWAk5W3OOLLE"
      ]
     },
     "execution_count": 32,
     "metadata": {},
     "output_type": "execute_result"
    }
   ],
   "source": [
    "theoretical_construct = asm8054_2.assemble_circular()[0]\n",
    "theoretical_construct.cseguid()"
   ]
  },
  {
   "cell_type": "code",
   "execution_count": 33,
   "metadata": {
    "execution": {
     "iopub.execute_input": "2021-09-19T20:33:11.242764Z",
     "iopub.status.busy": "2021-09-19T20:33:11.241444Z",
     "iopub.status.idle": "2021-09-19T20:33:11.244157Z",
     "shell.execute_reply": "2021-09-19T20:33:11.245233Z"
    }
   },
   "outputs": [],
   "source": [
    "assert theoretical_construct.cseguid() == \"901r0RNABCaZvc4TWAk5W3OOLLE\""
   ]
  },
  {
   "cell_type": "code",
   "execution_count": 34,
   "metadata": {
    "execution": {
     "iopub.execute_input": "2021-09-19T20:33:11.251735Z",
     "iopub.status.busy": "2021-09-19T20:33:11.250489Z",
     "iopub.status.idle": "2021-09-19T20:33:11.255977Z",
     "shell.execute_reply": "2021-09-19T20:33:11.256400Z"
    }
   },
   "outputs": [
    {
     "data": {
      "text/html": [
       "Amplicon(1401)"
      ],
      "text/plain": [
       "Amplicon(1401)"
      ]
     },
     "execution_count": 34,
     "metadata": {},
     "output_type": "execute_result"
    }
   ],
   "source": [
    "product_8054_2 =  pcr( Fw_8054_2, Rv_8054_2, xi_8054_2 )\n",
    "product_8054_2"
   ]
  },
  {
   "cell_type": "code",
   "execution_count": 35,
   "metadata": {
    "execution": {
     "iopub.execute_input": "2021-09-19T20:33:11.260530Z",
     "iopub.status.busy": "2021-09-19T20:33:11.260009Z",
     "iopub.status.idle": "2021-09-19T20:33:11.262592Z",
     "shell.execute_reply": "2021-09-19T20:33:11.262017Z"
    }
   },
   "outputs": [],
   "source": [
    "product_8054_2.name = \"product_8054_2\""
   ]
  },
  {
   "cell_type": "code",
   "execution_count": 36,
   "metadata": {
    "execution": {
     "iopub.execute_input": "2021-09-19T20:33:11.292238Z",
     "iopub.status.busy": "2021-09-19T20:33:11.281154Z",
     "iopub.status.idle": "2021-09-19T20:33:11.473895Z",
     "shell.execute_reply": "2021-09-19T20:33:11.474312Z"
    }
   },
   "outputs": [
    {
     "data": {
      "text/plain": [
       "Assembly\n",
       "fragments..: 7576bp 1401bp\n",
       "limit(bp)..: 25\n",
       "G.nodes....: 4\n",
       "algorithm..: common_sub_strings"
      ]
     },
     "execution_count": 36,
     "metadata": {},
     "output_type": "execute_result"
    }
   ],
   "source": [
    "asm8054_2 = Assembly((pLBL3_AjiI, product_8054_2))\n",
    "asm8054_2"
   ]
  },
  {
   "cell_type": "code",
   "execution_count": 37,
   "metadata": {
    "execution": {
     "iopub.execute_input": "2021-09-19T20:33:11.483541Z",
     "iopub.status.busy": "2021-09-19T20:33:11.483094Z",
     "iopub.status.idle": "2021-09-19T20:33:11.485218Z",
     "shell.execute_reply": "2021-09-19T20:33:11.485612Z"
    }
   },
   "outputs": [],
   "source": [
    "candidates8054_2 = asm8054_2.assemble_circular()"
   ]
  },
  {
   "cell_type": "code",
   "execution_count": 38,
   "metadata": {
    "execution": {
     "iopub.execute_input": "2021-09-19T20:33:11.489524Z",
     "iopub.status.busy": "2021-09-19T20:33:11.488685Z",
     "iopub.status.idle": "2021-09-19T20:33:11.492531Z",
     "shell.execute_reply": "2021-09-19T20:33:11.491972Z"
    }
   },
   "outputs": [
    {
     "data": {
      "text/plain": [
       "[Contig(o8887), Contig(o8887)]"
      ]
     },
     "execution_count": 38,
     "metadata": {},
     "output_type": "execute_result"
    }
   ],
   "source": [
    "candidates8054_2"
   ]
  },
  {
   "cell_type": "code",
   "execution_count": 39,
   "metadata": {
    "execution": {
     "iopub.execute_input": "2021-09-19T20:33:11.496718Z",
     "iopub.status.busy": "2021-09-19T20:33:11.496075Z",
     "iopub.status.idle": "2021-09-19T20:33:11.499023Z",
     "shell.execute_reply": "2021-09-19T20:33:11.499646Z"
    }
   },
   "outputs": [],
   "source": [
    "candidate8054_2 = candidates8054_2[0]"
   ]
  },
  {
   "cell_type": "code",
   "execution_count": 40,
   "metadata": {
    "execution": {
     "iopub.execute_input": "2021-09-19T20:33:11.504396Z",
     "iopub.status.busy": "2021-09-19T20:33:11.503743Z",
     "iopub.status.idle": "2021-09-19T20:33:11.507236Z",
     "shell.execute_reply": "2021-09-19T20:33:11.506700Z"
    }
   },
   "outputs": [
    {
     "data": {
      "text/html": [
       "<pre> -|pLBL3_lin|45\n",
       "|            \\/\n",
       "|            /\\\n",
       "|            45|product_8054_2|45\n",
       "|                              \\/\n",
       "|                              /\\\n",
       "|                              45-\n",
       "|                                 |\n",
       " ---------------------------------</pre>"
      ],
      "text/plain": [
       "Contig(o8887)"
      ]
     },
     "execution_count": 40,
     "metadata": {},
     "output_type": "execute_result"
    }
   ],
   "source": [
    "candidate8054_2"
   ]
  },
  {
   "cell_type": "code",
   "execution_count": 41,
   "metadata": {
    "execution": {
     "iopub.execute_input": "2021-09-19T20:33:11.568974Z",
     "iopub.status.busy": "2021-09-19T20:33:11.548339Z",
     "iopub.status.idle": "2021-09-19T20:33:12.116429Z",
     "shell.execute_reply": "2021-09-19T20:33:12.115800Z"
    }
   },
   "outputs": [],
   "source": [
    "pLBL3_8054_2 = candidate8054_2.synced(pLBL3)"
   ]
  },
  {
   "cell_type": "code",
   "execution_count": 42,
   "metadata": {
    "execution": {
     "iopub.execute_input": "2021-09-19T20:33:12.122012Z",
     "iopub.status.busy": "2021-09-19T20:33:12.121433Z",
     "iopub.status.idle": "2021-09-19T20:33:12.124243Z",
     "shell.execute_reply": "2021-09-19T20:33:12.124604Z"
    }
   },
   "outputs": [
    {
     "data": {
      "text/plain": [
       "Dseqrecord(o8887)"
      ]
     },
     "execution_count": 42,
     "metadata": {},
     "output_type": "execute_result"
    }
   ],
   "source": [
    "pLBL3_8054_2"
   ]
  },
  {
   "cell_type": "code",
   "execution_count": 43,
   "metadata": {
    "execution": {
     "iopub.execute_input": "2021-09-19T20:33:12.145596Z",
     "iopub.status.busy": "2021-09-19T20:33:12.144743Z",
     "iopub.status.idle": "2021-09-19T20:33:12.147399Z",
     "shell.execute_reply": "2021-09-19T20:33:12.147816Z"
    }
   },
   "outputs": [
    {
     "data": {
      "text/plain": [
       "901r0RNABCaZvc4TWAk5W3OOLLE"
      ]
     },
     "execution_count": 43,
     "metadata": {},
     "output_type": "execute_result"
    }
   ],
   "source": [
    "pLBL3_8054_2.cseguid()"
   ]
  },
  {
   "cell_type": "code",
   "execution_count": 44,
   "metadata": {
    "execution": {
     "iopub.execute_input": "2021-09-19T20:33:12.155669Z",
     "iopub.status.busy": "2021-09-19T20:33:12.155223Z",
     "iopub.status.idle": "2021-09-19T20:33:12.167272Z",
     "shell.execute_reply": "2021-09-19T20:33:12.166753Z"
    }
   },
   "outputs": [],
   "source": [
    "assert pLBL3_8054_2.cseguid() == theoretical_construct.cseguid() == \"901r0RNABCaZvc4TWAk5W3OOLLE\""
   ]
  },
  {
   "cell_type": "code",
   "execution_count": 45,
   "metadata": {
    "execution": {
     "iopub.execute_input": "2021-09-19T20:33:12.171570Z",
     "iopub.status.busy": "2021-09-19T20:33:12.170977Z",
     "iopub.status.idle": "2021-09-19T20:33:12.172687Z",
     "shell.execute_reply": "2021-09-19T20:33:12.173112Z"
    }
   },
   "outputs": [],
   "source": [
    "assert len(pLBL3_8054_2) == 8887"
   ]
  },
  {
   "cell_type": "code",
   "execution_count": 46,
   "metadata": {
    "execution": {
     "iopub.execute_input": "2021-09-19T20:33:12.187788Z",
     "iopub.status.busy": "2021-09-19T20:33:12.187126Z",
     "iopub.status.idle": "2021-09-19T20:33:12.190207Z",
     "shell.execute_reply": "2021-09-19T20:33:12.190627Z"
    }
   },
   "outputs": [
    {
     "data": {
      "text/plain": [
       "cSEGUID_901r0RNABCaZvc4TWAk5W3OOLLE"
      ]
     },
     "execution_count": 46,
     "metadata": {},
     "output_type": "execute_result"
    }
   ],
   "source": [
    "pLBL3_8054_2.stamp()"
   ]
  },
  {
   "cell_type": "code",
   "execution_count": 47,
   "metadata": {
    "execution": {
     "iopub.execute_input": "2021-09-19T20:33:12.194712Z",
     "iopub.status.busy": "2021-09-19T20:33:12.193908Z",
     "iopub.status.idle": "2021-09-19T20:33:12.196587Z",
     "shell.execute_reply": "2021-09-19T20:33:12.197252Z"
    }
   },
   "outputs": [],
   "source": [
    "pLBL3_8054_2.name = \"pLBL3_8054_2\""
   ]
  },
  {
   "cell_type": "code",
   "execution_count": 48,
   "metadata": {
    "execution": {
     "iopub.execute_input": "2021-09-19T20:33:12.204101Z",
     "iopub.status.busy": "2021-09-19T20:33:12.203007Z",
     "iopub.status.idle": "2021-09-19T20:33:12.216247Z",
     "shell.execute_reply": "2021-09-19T20:33:12.216783Z"
    }
   },
   "outputs": [
    {
     "data": {
      "text/html": [
       "<font face=monospace><a href='pLBL3_8054_2.gb' target='_blank'>pLBL3_8054_2.gb</a></font><br>"
      ]
     },
     "metadata": {},
     "output_type": "display_data"
    }
   ],
   "source": [
    "pLBL3_8054_2.write(\"pLBL3_8054_2.gb\")"
   ]
  },
  {
   "cell_type": "markdown",
   "metadata": {},
   "source": [
    "## pLBL3_15405_2"
   ]
  },
  {
   "cell_type": "code",
   "execution_count": 49,
   "metadata": {
    "execution": {
     "iopub.execute_input": "2021-09-19T20:33:12.225223Z",
     "iopub.status.busy": "2021-09-19T20:33:12.224556Z",
     "iopub.status.idle": "2021-09-19T20:33:12.227562Z",
     "shell.execute_reply": "2021-09-19T20:33:12.227928Z"
    }
   },
   "outputs": [],
   "source": [
    "product = primer_design(xi_15405_2)"
   ]
  },
  {
   "cell_type": "code",
   "execution_count": 50,
   "metadata": {
    "execution": {
     "iopub.execute_input": "2021-09-19T20:33:12.233304Z",
     "iopub.status.busy": "2021-09-19T20:33:12.232814Z",
     "iopub.status.idle": "2021-09-19T20:33:12.235396Z",
     "shell.execute_reply": "2021-09-19T20:33:12.235756Z"
    }
   },
   "outputs": [],
   "source": [
    "vector, product_tails = circular_assembly_fragments((pLBL3_AjiI, product))"
   ]
  },
  {
   "cell_type": "code",
   "execution_count": 51,
   "metadata": {
    "execution": {
     "iopub.execute_input": "2021-09-19T20:33:12.278706Z",
     "iopub.status.busy": "2021-09-19T20:33:12.242898Z",
     "iopub.status.idle": "2021-09-19T20:33:12.459011Z",
     "shell.execute_reply": "2021-09-19T20:33:12.458506Z"
    }
   },
   "outputs": [
    {
     "data": {
      "text/plain": [
       "Assembly\n",
       "fragments..: 7576bp 1417bp\n",
       "limit(bp)..: 25\n",
       "G.nodes....: 4\n",
       "algorithm..: common_sub_strings"
      ]
     },
     "execution_count": 51,
     "metadata": {},
     "output_type": "execute_result"
    }
   ],
   "source": [
    "asm8054_2 = Assembly((pLBL3_AjiI, product_tails))\n",
    "asm8054_2"
   ]
  },
  {
   "cell_type": "code",
   "execution_count": 52,
   "metadata": {
    "execution": {
     "iopub.execute_input": "2021-09-19T20:33:12.481216Z",
     "iopub.status.busy": "2021-09-19T20:33:12.480505Z",
     "iopub.status.idle": "2021-09-19T20:33:12.483874Z",
     "shell.execute_reply": "2021-09-19T20:33:12.484409Z"
    }
   },
   "outputs": [
    {
     "data": {
      "text/plain": [
       "HylWyhxrRssq_qkrJAGeG--pCN0"
      ]
     },
     "execution_count": 52,
     "metadata": {},
     "output_type": "execute_result"
    }
   ],
   "source": [
    "theoretical_construct = asm8054_2.assemble_circular()[0]\n",
    "theoretical_construct.cseguid()"
   ]
  },
  {
   "cell_type": "code",
   "execution_count": 53,
   "metadata": {
    "execution": {
     "iopub.execute_input": "2021-09-19T20:33:12.495067Z",
     "iopub.status.busy": "2021-09-19T20:33:12.494597Z",
     "iopub.status.idle": "2021-09-19T20:33:12.496560Z",
     "shell.execute_reply": "2021-09-19T20:33:12.496916Z"
    }
   },
   "outputs": [],
   "source": [
    "assert theoretical_construct.cseguid() == \"HylWyhxrRssq_qkrJAGeG--pCN0\""
   ]
  },
  {
   "cell_type": "code",
   "execution_count": 54,
   "metadata": {
    "execution": {
     "iopub.execute_input": "2021-09-19T20:33:12.505511Z",
     "iopub.status.busy": "2021-09-19T20:33:12.504451Z",
     "iopub.status.idle": "2021-09-19T20:33:12.510356Z",
     "shell.execute_reply": "2021-09-19T20:33:12.509944Z"
    }
   },
   "outputs": [
    {
     "data": {
      "text/html": [
       "Amplicon(1437)"
      ],
      "text/plain": [
       "Amplicon(1437)"
      ]
     },
     "execution_count": 54,
     "metadata": {},
     "output_type": "execute_result"
    }
   ],
   "source": [
    "product_15405_2 = pcr( Fw_15405_2, Rv_15405_2, xi_15405_2 )\n",
    "product_15405_2"
   ]
  },
  {
   "cell_type": "code",
   "execution_count": 55,
   "metadata": {
    "execution": {
     "iopub.execute_input": "2021-09-19T20:33:12.514079Z",
     "iopub.status.busy": "2021-09-19T20:33:12.513637Z",
     "iopub.status.idle": "2021-09-19T20:33:12.516114Z",
     "shell.execute_reply": "2021-09-19T20:33:12.515680Z"
    }
   },
   "outputs": [],
   "source": [
    "product_15405_2.name= \"product_15405_2\""
   ]
  },
  {
   "cell_type": "code",
   "execution_count": 56,
   "metadata": {
    "execution": {
     "iopub.execute_input": "2021-09-19T20:33:12.595406Z",
     "iopub.status.busy": "2021-09-19T20:33:12.559381Z",
     "iopub.status.idle": "2021-09-19T20:33:12.769388Z",
     "shell.execute_reply": "2021-09-19T20:33:12.768929Z"
    }
   },
   "outputs": [
    {
     "data": {
      "text/plain": [
       "Assembly\n",
       "fragments..: 7576bp 1437bp\n",
       "limit(bp)..: 25\n",
       "G.nodes....: 4\n",
       "algorithm..: common_sub_strings"
      ]
     },
     "execution_count": 56,
     "metadata": {},
     "output_type": "execute_result"
    }
   ],
   "source": [
    "asm15405_2 = Assembly((pLBL3_AjiI, product_15405_2))\n",
    "asm15405_2"
   ]
  },
  {
   "cell_type": "code",
   "execution_count": 57,
   "metadata": {
    "execution": {
     "iopub.execute_input": "2021-09-19T20:33:12.776990Z",
     "iopub.status.busy": "2021-09-19T20:33:12.776276Z",
     "iopub.status.idle": "2021-09-19T20:33:12.778410Z",
     "shell.execute_reply": "2021-09-19T20:33:12.778032Z"
    }
   },
   "outputs": [],
   "source": [
    "candidates15405_2 = asm15405_2.assemble_circular()"
   ]
  },
  {
   "cell_type": "code",
   "execution_count": 58,
   "metadata": {
    "execution": {
     "iopub.execute_input": "2021-09-19T20:33:12.782367Z",
     "iopub.status.busy": "2021-09-19T20:33:12.781562Z",
     "iopub.status.idle": "2021-09-19T20:33:12.786253Z",
     "shell.execute_reply": "2021-09-19T20:33:12.785785Z"
    }
   },
   "outputs": [
    {
     "data": {
      "text/plain": [
       "[Contig(o8923), Contig(o8923)]"
      ]
     },
     "execution_count": 58,
     "metadata": {},
     "output_type": "execute_result"
    }
   ],
   "source": [
    "candidates15405_2"
   ]
  },
  {
   "cell_type": "code",
   "execution_count": 59,
   "metadata": {
    "execution": {
     "iopub.execute_input": "2021-09-19T20:33:12.790029Z",
     "iopub.status.busy": "2021-09-19T20:33:12.789474Z",
     "iopub.status.idle": "2021-09-19T20:33:12.792269Z",
     "shell.execute_reply": "2021-09-19T20:33:12.791698Z"
    }
   },
   "outputs": [],
   "source": [
    "candidate15405_2 = candidates15405_2[0]"
   ]
  },
  {
   "cell_type": "code",
   "execution_count": 60,
   "metadata": {
    "execution": {
     "iopub.execute_input": "2021-09-19T20:33:12.796362Z",
     "iopub.status.busy": "2021-09-19T20:33:12.795770Z",
     "iopub.status.idle": "2021-09-19T20:33:12.801355Z",
     "shell.execute_reply": "2021-09-19T20:33:12.800521Z"
    }
   },
   "outputs": [
    {
     "data": {
      "text/html": [
       "<pre> -|pLBL3_lin|45\n",
       "|            \\/\n",
       "|            /\\\n",
       "|            45|product_15405_2|45\n",
       "|                               \\/\n",
       "|                               /\\\n",
       "|                               45-\n",
       "|                                  |\n",
       " ----------------------------------</pre>"
      ],
      "text/plain": [
       "Contig(o8923)"
      ]
     },
     "execution_count": 60,
     "metadata": {},
     "output_type": "execute_result"
    }
   ],
   "source": [
    "candidate15405_2"
   ]
  },
  {
   "cell_type": "code",
   "execution_count": 61,
   "metadata": {
    "execution": {
     "iopub.execute_input": "2021-09-19T20:33:12.824896Z",
     "iopub.status.busy": "2021-09-19T20:33:12.809161Z",
     "iopub.status.idle": "2021-09-19T20:33:13.372294Z",
     "shell.execute_reply": "2021-09-19T20:33:13.371842Z"
    }
   },
   "outputs": [],
   "source": [
    "pLBL3_15405_2 = candidate15405_2.synced(pLBL3)"
   ]
  },
  {
   "cell_type": "code",
   "execution_count": 62,
   "metadata": {
    "execution": {
     "iopub.execute_input": "2021-09-19T20:33:13.376148Z",
     "iopub.status.busy": "2021-09-19T20:33:13.375528Z",
     "iopub.status.idle": "2021-09-19T20:33:13.377996Z",
     "shell.execute_reply": "2021-09-19T20:33:13.378353Z"
    }
   },
   "outputs": [
    {
     "data": {
      "text/plain": [
       "Dseqrecord(o8923)"
      ]
     },
     "execution_count": 62,
     "metadata": {},
     "output_type": "execute_result"
    }
   ],
   "source": [
    "pLBL3_15405_2"
   ]
  },
  {
   "cell_type": "code",
   "execution_count": 63,
   "metadata": {
    "execution": {
     "iopub.execute_input": "2021-09-19T20:33:13.391576Z",
     "iopub.status.busy": "2021-09-19T20:33:13.390899Z",
     "iopub.status.idle": "2021-09-19T20:33:13.393900Z",
     "shell.execute_reply": "2021-09-19T20:33:13.394258Z"
    }
   },
   "outputs": [
    {
     "data": {
      "text/plain": [
       "HylWyhxrRssq_qkrJAGeG--pCN0"
      ]
     },
     "execution_count": 63,
     "metadata": {},
     "output_type": "execute_result"
    }
   ],
   "source": [
    "pLBL3_15405_2.cseguid()"
   ]
  },
  {
   "cell_type": "code",
   "execution_count": 64,
   "metadata": {
    "execution": {
     "iopub.execute_input": "2021-09-19T20:33:13.397491Z",
     "iopub.status.busy": "2021-09-19T20:33:13.396996Z",
     "iopub.status.idle": "2021-09-19T20:33:13.399265Z",
     "shell.execute_reply": "2021-09-19T20:33:13.398850Z"
    }
   },
   "outputs": [],
   "source": [
    "assert len(pLBL3_15405_2) == 8923"
   ]
  },
  {
   "cell_type": "code",
   "execution_count": 65,
   "metadata": {
    "execution": {
     "iopub.execute_input": "2021-09-19T20:33:13.421467Z",
     "iopub.status.busy": "2021-09-19T20:33:13.420908Z",
     "iopub.status.idle": "2021-09-19T20:33:13.423461Z",
     "shell.execute_reply": "2021-09-19T20:33:13.422942Z"
    }
   },
   "outputs": [],
   "source": [
    "assert pLBL3_15405_2.cseguid() == theoretical_construct.cseguid() == \"HylWyhxrRssq_qkrJAGeG--pCN0\""
   ]
  },
  {
   "cell_type": "code",
   "execution_count": 66,
   "metadata": {
    "execution": {
     "iopub.execute_input": "2021-09-19T20:33:13.434799Z",
     "iopub.status.busy": "2021-09-19T20:33:13.434171Z",
     "iopub.status.idle": "2021-09-19T20:33:13.437376Z",
     "shell.execute_reply": "2021-09-19T20:33:13.436897Z"
    }
   },
   "outputs": [
    {
     "data": {
      "text/plain": [
       "cSEGUID_HylWyhxrRssq_qkrJAGeG--pCN0"
      ]
     },
     "execution_count": 66,
     "metadata": {},
     "output_type": "execute_result"
    }
   ],
   "source": [
    "pLBL3_15405_2.stamp()"
   ]
  },
  {
   "cell_type": "code",
   "execution_count": 67,
   "metadata": {
    "execution": {
     "iopub.execute_input": "2021-09-19T20:33:13.441538Z",
     "iopub.status.busy": "2021-09-19T20:33:13.440780Z",
     "iopub.status.idle": "2021-09-19T20:33:13.443622Z",
     "shell.execute_reply": "2021-09-19T20:33:13.443054Z"
    }
   },
   "outputs": [],
   "source": [
    "pLBL3_15405_2.name = \"pLBL3_15405_2\""
   ]
  },
  {
   "cell_type": "code",
   "execution_count": 68,
   "metadata": {
    "execution": {
     "iopub.execute_input": "2021-09-19T20:33:13.448130Z",
     "iopub.status.busy": "2021-09-19T20:33:13.447281Z",
     "iopub.status.idle": "2021-09-19T20:33:13.461105Z",
     "shell.execute_reply": "2021-09-19T20:33:13.460703Z"
    }
   },
   "outputs": [
    {
     "data": {
      "text/html": [
       "<font face=monospace><a href='pLBL3_15405_2.gb' target='_blank'>pLBL3_15405_2.gb</a></font><br>"
      ]
     },
     "metadata": {},
     "output_type": "display_data"
    }
   ],
   "source": [
    "pLBL3_15405_2.write(\"pLBL3_15405_2.gb\")"
   ]
  }
 ],
 "metadata": {
  "kernelspec": {
   "display_name": "Python [conda env:bjorn37]",
   "language": "python",
   "name": "conda-env-bjorn37-py"
  },
  "language_info": {
   "codemirror_mode": {
    "name": "ipython",
    "version": 3
   },
   "file_extension": ".py",
   "mimetype": "text/x-python",
   "name": "python",
   "nbconvert_exporter": "python",
   "pygments_lexer": "ipython3",
   "version": "3.9.7"
  }
 },
 "nbformat": 4,
 "nbformat_minor": 4
}
