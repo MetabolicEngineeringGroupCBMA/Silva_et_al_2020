{
 "cells": [
  {
   "cell_type": "markdown",
   "metadata": {},
   "source": [
    "# pLBL3_XI \n",
    "\n",
    "- pLBL3_8054_2\n",
    "- pLBL3_15405_2\n",
    "- pLBL3__1362_2\n",
    "\n",
    "The pLBL3_XI are a series of three vectors expressing one of three metagenomic xylose isomerases (XI).\n",
    "The XI genes were amplified with tailed primers and recombined with [pLBL3](pLBL3.ipynb) linearized with AjiI.\n"
   ]
  },
  {
   "cell_type": "code",
   "execution_count": 1,
   "metadata": {},
   "outputs": [],
   "source": [
    "from pydna.all import *"
   ]
  },
  {
   "cell_type": "code",
   "execution_count": 2,
   "metadata": {},
   "outputs": [],
   "source": [
    "pLBL3 = read(\"pLBL3.gb\")"
   ]
  },
  {
   "cell_type": "code",
   "execution_count": 3,
   "metadata": {},
   "outputs": [],
   "source": [
    "xi_8054_2, xi_1362_2, xi15405_2 = parse(\"Nucleotidic_sequences_optimized (idtdna).txt\")"
   ]
  },
  {
   "cell_type": "code",
   "execution_count": 4,
   "metadata": {},
   "outputs": [
    {
     "data": {
      "text/plain": [
       "[1311, 1347, 1347]"
      ]
     },
     "execution_count": 4,
     "metadata": {},
     "output_type": "execute_result"
    }
   ],
   "source": [
    "[len(x) for x in (xi_8054_2, xi_1362_2, xi15405_2)]"
   ]
  },
  {
   "cell_type": "code",
   "execution_count": 5,
   "metadata": {},
   "outputs": [
    {
     "data": {
      "text/plain": [
       "[True, True, True]"
      ]
     },
     "execution_count": 5,
     "metadata": {},
     "output_type": "execute_result"
    }
   ],
   "source": [
    "[x.isorf() for x in ( xi_8054_2, xi_1362_2, xi15405_2 )]"
   ]
  },
  {
   "cell_type": "code",
   "execution_count": 6,
   "metadata": {},
   "outputs": [],
   "source": [
    "(Fw_8054_2,\n",
    " Rv_8054_2,\n",
    " Fw_15405_2,\n",
    " Rv_15405_2,\n",
    " Fw_1362_6,\n",
    " Rv_1362_6,\n",
    " Fw_flk5_XI,\n",
    " Rv_flk3_XI,\n",
    " \n",
    " Fw_Conf_1362_6,\n",
    " Rv_Conf_1362_6,\n",
    " Fw_Conf_8054_2,\n",
    " Rv_Conf_8054_2,\n",
    " Fw_Conf_15405_2,\n",
    " Rv_Conf_15405_2,\n",
    " \n",
    " Fw_Conf_Piromyces_E2,\n",
    " Rv_Conf_Piromyces_E2,\n",
    " \n",
    " Fw_LEU2,\n",
    " Rv_LEU2, \n",
    " Fw_Flk5_LEU2,\n",
    " Rv_FLK5_LEU2,\n",
    " Fw_Flk3_LEU2,\n",
    " Rv_FlK3_LEU2 )= parse_primers(\"LBL_primers_complete.txt\")"
   ]
  },
  {
   "cell_type": "code",
   "execution_count": 7,
   "metadata": {},
   "outputs": [
    {
     "data": {
      "text/html": [
       "Amplicon(1401)"
      ],
      "text/plain": [
       "Amplicon(1401)"
      ]
     },
     "execution_count": 7,
     "metadata": {},
     "output_type": "execute_result"
    }
   ],
   "source": [
    "product_8054_2 =  pcr( Fw_8054_2, Rv_8054_2, xi_8054_2 )\n",
    "product_8054_2"
   ]
  },
  {
   "cell_type": "code",
   "execution_count": 8,
   "metadata": {},
   "outputs": [
    {
     "data": {
      "text/html": [
       "Amplicon(1437)"
      ],
      "text/plain": [
       "Amplicon(1437)"
      ]
     },
     "execution_count": 8,
     "metadata": {},
     "output_type": "execute_result"
    }
   ],
   "source": [
    "product_15405_2 = pcr( Fw_15405_2, Rv_15405_2, xi15405_2 )\n",
    "product_15405_2"
   ]
  },
  {
   "cell_type": "code",
   "execution_count": 9,
   "metadata": {},
   "outputs": [
    {
     "data": {
      "text/html": [
       "Amplicon(1437)"
      ],
      "text/plain": [
       "Amplicon(1437)"
      ]
     },
     "execution_count": 9,
     "metadata": {},
     "output_type": "execute_result"
    }
   ],
   "source": [
    "product_1362_2 = pcr( Fw_1362_6, Rv_1362_6, xi_1362_2 )\n",
    "product_1362_2"
   ]
  },
  {
   "cell_type": "code",
   "execution_count": 10,
   "metadata": {},
   "outputs": [],
   "source": [
    "pLBL3 = read(\"pLBL3.gb\")"
   ]
  },
  {
   "cell_type": "code",
   "execution_count": 11,
   "metadata": {},
   "outputs": [],
   "source": [
    "from Bio.Restriction import AjiI"
   ]
  },
  {
   "cell_type": "code",
   "execution_count": 12,
   "metadata": {},
   "outputs": [],
   "source": [
    "pLBL3_AjiI = pLBL3.linearize(AjiI)"
   ]
  },
  {
   "cell_type": "markdown",
   "metadata": {},
   "source": [
    "## pLBL3_8054_2\n",
    "\n",
    "cSEGUID = `901r0RNABCaZvc4TWAk5W3OOLLE`"
   ]
  },
  {
   "cell_type": "code",
   "execution_count": 13,
   "metadata": {},
   "outputs": [
    {
     "data": {
      "text/plain": [
       "Assembly\n",
       "fragments..: 7576bp 1401bp\n",
       "limit(bp)..: 25\n",
       "G.nodes....: 4\n",
       "algorithm..: common_sub_strings"
      ]
     },
     "execution_count": 13,
     "metadata": {},
     "output_type": "execute_result"
    }
   ],
   "source": [
    "asm8054_2 = Assembly((pLBL3_AjiI, product_8054_2))\n",
    "asm8054_2"
   ]
  },
  {
   "cell_type": "code",
   "execution_count": 14,
   "metadata": {},
   "outputs": [],
   "source": [
    "candidates8054_2 = asm8054_2.assemble_circular()"
   ]
  },
  {
   "cell_type": "code",
   "execution_count": 15,
   "metadata": {},
   "outputs": [
    {
     "data": {
      "text/plain": [
       "[Contig(o8887), Contig(o8887)]"
      ]
     },
     "execution_count": 15,
     "metadata": {},
     "output_type": "execute_result"
    }
   ],
   "source": [
    "candidates8054_2"
   ]
  },
  {
   "cell_type": "code",
   "execution_count": 16,
   "metadata": {},
   "outputs": [],
   "source": [
    "candidate8054_2 = candidates8054_2[0]"
   ]
  },
  {
   "cell_type": "code",
   "execution_count": 17,
   "metadata": {},
   "outputs": [
    {
     "data": {
      "text/html": [
       "<pre> -|pLBL3_lin|45\n",
       "|            \\/\n",
       "|            /\\\n",
       "|            45|1401bp_PCR_prod|45\n",
       "|                               \\/\n",
       "|                               /\\\n",
       "|                               45-\n",
       "|                                  |\n",
       " ----------------------------------</pre>"
      ],
      "text/plain": [
       "Contig(o8887)"
      ]
     },
     "execution_count": 17,
     "metadata": {},
     "output_type": "execute_result"
    }
   ],
   "source": [
    "candidate8054_2"
   ]
  },
  {
   "cell_type": "code",
   "execution_count": 18,
   "metadata": {},
   "outputs": [],
   "source": [
    "pLBL3_8054_2 = candidate8054_2.synced(pLBL3)"
   ]
  },
  {
   "cell_type": "code",
   "execution_count": 19,
   "metadata": {},
   "outputs": [
    {
     "data": {
      "text/plain": [
       "Dseqrecord(o8887)"
      ]
     },
     "execution_count": 19,
     "metadata": {},
     "output_type": "execute_result"
    }
   ],
   "source": [
    "pLBL3_8054_2"
   ]
  },
  {
   "cell_type": "code",
   "execution_count": 20,
   "metadata": {},
   "outputs": [
    {
     "data": {
      "text/plain": [
       "901r0RNABCaZvc4TWAk5W3OOLLE"
      ]
     },
     "execution_count": 20,
     "metadata": {},
     "output_type": "execute_result"
    }
   ],
   "source": [
    "pLBL3_8054_2.cseguid()"
   ]
  },
  {
   "cell_type": "code",
   "execution_count": 21,
   "metadata": {},
   "outputs": [],
   "source": [
    "assert len(pLBL3_8054_2) == 8887"
   ]
  },
  {
   "cell_type": "code",
   "execution_count": 22,
   "metadata": {},
   "outputs": [],
   "source": [
    "assert pLBL3_8054_2.cseguid() == \"901r0RNABCaZvc4TWAk5W3OOLLE\""
   ]
  },
  {
   "cell_type": "code",
   "execution_count": 23,
   "metadata": {},
   "outputs": [
    {
     "data": {
      "text/plain": [
       "cSEGUID_901r0RNABCaZvc4TWAk5W3OOLLE"
      ]
     },
     "execution_count": 23,
     "metadata": {},
     "output_type": "execute_result"
    }
   ],
   "source": [
    "pLBL3_8054_2.stamp()"
   ]
  },
  {
   "cell_type": "code",
   "execution_count": 24,
   "metadata": {},
   "outputs": [],
   "source": [
    "pLBL3_8054_2.name = \"pLBL3_8054_2\""
   ]
  },
  {
   "cell_type": "code",
   "execution_count": 25,
   "metadata": {},
   "outputs": [
    {
     "data": {
      "text/html": [
       "<font face=monospace><a href='pLBL3_8054_2.gb' target='_blank'>pLBL3_8054_2.gb</a></font><br>"
      ]
     },
     "metadata": {},
     "output_type": "display_data"
    }
   ],
   "source": [
    "pLBL3_8054_2.write(\"pLBL3_8054_2.gb\")"
   ]
  },
  {
   "cell_type": "markdown",
   "metadata": {},
   "source": [
    "## pLBL3_15405_2\n",
    "\n",
    "cSEGUID  = HylWyhxrRssq_qkrJAGeG--pCN0"
   ]
  },
  {
   "cell_type": "code",
   "execution_count": 26,
   "metadata": {},
   "outputs": [
    {
     "data": {
      "text/plain": [
       "Assembly\n",
       "fragments..: 7576bp 1437bp\n",
       "limit(bp)..: 25\n",
       "G.nodes....: 4\n",
       "algorithm..: common_sub_strings"
      ]
     },
     "execution_count": 26,
     "metadata": {},
     "output_type": "execute_result"
    }
   ],
   "source": [
    "asm15405_2 = Assembly((pLBL3_AjiI, product_15405_2))\n",
    "asm15405_2"
   ]
  },
  {
   "cell_type": "code",
   "execution_count": 27,
   "metadata": {},
   "outputs": [],
   "source": [
    "candidates15405_2 = asm15405_2.assemble_circular()"
   ]
  },
  {
   "cell_type": "code",
   "execution_count": 28,
   "metadata": {},
   "outputs": [
    {
     "data": {
      "text/plain": [
       "[Contig(o8923), Contig(o8923)]"
      ]
     },
     "execution_count": 28,
     "metadata": {},
     "output_type": "execute_result"
    }
   ],
   "source": [
    "candidates15405_2"
   ]
  },
  {
   "cell_type": "code",
   "execution_count": 29,
   "metadata": {},
   "outputs": [],
   "source": [
    "candidate15405_2 = candidates15405_2[0]"
   ]
  },
  {
   "cell_type": "code",
   "execution_count": 30,
   "metadata": {},
   "outputs": [
    {
     "data": {
      "text/html": [
       "<pre> -|pLBL3_lin|45\n",
       "|            \\/\n",
       "|            /\\\n",
       "|            45|1437bp_PCR_prod|45\n",
       "|                               \\/\n",
       "|                               /\\\n",
       "|                               45-\n",
       "|                                  |\n",
       " ----------------------------------</pre>"
      ],
      "text/plain": [
       "Contig(o8923)"
      ]
     },
     "execution_count": 30,
     "metadata": {},
     "output_type": "execute_result"
    }
   ],
   "source": [
    "candidate15405_2"
   ]
  },
  {
   "cell_type": "code",
   "execution_count": 31,
   "metadata": {},
   "outputs": [],
   "source": [
    "pLBL3_15405_2 = candidate15405_2.synced(pLBL3)"
   ]
  },
  {
   "cell_type": "code",
   "execution_count": 32,
   "metadata": {},
   "outputs": [
    {
     "data": {
      "text/plain": [
       "Dseqrecord(o8923)"
      ]
     },
     "execution_count": 32,
     "metadata": {},
     "output_type": "execute_result"
    }
   ],
   "source": [
    "pLBL3_15405_2"
   ]
  },
  {
   "cell_type": "code",
   "execution_count": 33,
   "metadata": {},
   "outputs": [
    {
     "data": {
      "text/plain": [
       "HylWyhxrRssq_qkrJAGeG--pCN0"
      ]
     },
     "execution_count": 33,
     "metadata": {},
     "output_type": "execute_result"
    }
   ],
   "source": [
    "pLBL3_15405_2.cseguid()"
   ]
  },
  {
   "cell_type": "code",
   "execution_count": 34,
   "metadata": {},
   "outputs": [],
   "source": [
    "assert len(pLBL3_15405_2) == 8923"
   ]
  },
  {
   "cell_type": "code",
   "execution_count": 35,
   "metadata": {},
   "outputs": [],
   "source": [
    "assert pLBL3_15405_2.cseguid() == \"HylWyhxrRssq_qkrJAGeG--pCN0\""
   ]
  },
  {
   "cell_type": "code",
   "execution_count": 36,
   "metadata": {},
   "outputs": [
    {
     "data": {
      "text/plain": [
       "cSEGUID_HylWyhxrRssq_qkrJAGeG--pCN0"
      ]
     },
     "execution_count": 36,
     "metadata": {},
     "output_type": "execute_result"
    }
   ],
   "source": [
    "pLBL3_15405_2.stamp()"
   ]
  },
  {
   "cell_type": "code",
   "execution_count": 37,
   "metadata": {},
   "outputs": [],
   "source": [
    "pLBL3_15405_2.name = \"pLBL3_15405_2\""
   ]
  },
  {
   "cell_type": "code",
   "execution_count": 38,
   "metadata": {},
   "outputs": [
    {
     "data": {
      "text/html": [
       "<font face=monospace><a href='pLBL3_15405_2.gb' target='_blank'>pLBL3_15405_2.gb</a></font><br>"
      ]
     },
     "metadata": {},
     "output_type": "display_data"
    }
   ],
   "source": [
    "pLBL3_15405_2.write(\"pLBL3_15405_2.gb\")"
   ]
  },
  {
   "cell_type": "markdown",
   "metadata": {},
   "source": [
    "## pLBL3_1362_2\n",
    "\n",
    "cSEGUID  = `BkTMVvkcn1ptfGtISXhfYxR2u8g`"
   ]
  },
  {
   "cell_type": "code",
   "execution_count": 39,
   "metadata": {},
   "outputs": [
    {
     "data": {
      "text/plain": [
       "Assembly\n",
       "fragments..: 7576bp 1437bp\n",
       "limit(bp)..: 25\n",
       "G.nodes....: 4\n",
       "algorithm..: common_sub_strings"
      ]
     },
     "execution_count": 39,
     "metadata": {},
     "output_type": "execute_result"
    }
   ],
   "source": [
    "asm1362_2 = Assembly((pLBL3_AjiI, product_1362_2))\n",
    "asm1362_2"
   ]
  },
  {
   "cell_type": "code",
   "execution_count": 40,
   "metadata": {},
   "outputs": [],
   "source": [
    "candidates1362_2 = asm1362_2.assemble_circular()"
   ]
  },
  {
   "cell_type": "code",
   "execution_count": 41,
   "metadata": {},
   "outputs": [
    {
     "data": {
      "text/plain": [
       "[Contig(o8923), Contig(o8923)]"
      ]
     },
     "execution_count": 41,
     "metadata": {},
     "output_type": "execute_result"
    }
   ],
   "source": [
    "candidates1362_2"
   ]
  },
  {
   "cell_type": "code",
   "execution_count": 42,
   "metadata": {},
   "outputs": [],
   "source": [
    "candidate1362_2 = candidates1362_2[0]"
   ]
  },
  {
   "cell_type": "code",
   "execution_count": 43,
   "metadata": {},
   "outputs": [
    {
     "data": {
      "text/html": [
       "<pre> -|pLBL3_lin|45\n",
       "|            \\/\n",
       "|            /\\\n",
       "|            45|1437bp_PCR_prod|45\n",
       "|                               \\/\n",
       "|                               /\\\n",
       "|                               45-\n",
       "|                                  |\n",
       " ----------------------------------</pre>"
      ],
      "text/plain": [
       "Contig(o8923)"
      ]
     },
     "execution_count": 43,
     "metadata": {},
     "output_type": "execute_result"
    }
   ],
   "source": [
    "candidate1362_2"
   ]
  },
  {
   "cell_type": "code",
   "execution_count": 44,
   "metadata": {},
   "outputs": [],
   "source": [
    "pLBL3_1362_2 = candidate1362_2.synced(pLBL3)"
   ]
  },
  {
   "cell_type": "code",
   "execution_count": 45,
   "metadata": {},
   "outputs": [
    {
     "data": {
      "text/plain": [
       "Dseqrecord(o8923)"
      ]
     },
     "execution_count": 45,
     "metadata": {},
     "output_type": "execute_result"
    }
   ],
   "source": [
    "pLBL3_1362_2"
   ]
  },
  {
   "cell_type": "code",
   "execution_count": 46,
   "metadata": {},
   "outputs": [
    {
     "data": {
      "text/plain": [
       "BkTMVvkcn1ptfGtISXhfYxR2u8g"
      ]
     },
     "execution_count": 46,
     "metadata": {},
     "output_type": "execute_result"
    }
   ],
   "source": [
    "pLBL3_1362_2.cseguid()"
   ]
  },
  {
   "cell_type": "code",
   "execution_count": 47,
   "metadata": {},
   "outputs": [],
   "source": [
    "assert len(pLBL3_1362_2) == 8923"
   ]
  },
  {
   "cell_type": "code",
   "execution_count": 48,
   "metadata": {},
   "outputs": [],
   "source": [
    "assert pLBL3_1362_2.cseguid() == \"BkTMVvkcn1ptfGtISXhfYxR2u8g\""
   ]
  },
  {
   "cell_type": "code",
   "execution_count": 49,
   "metadata": {},
   "outputs": [
    {
     "data": {
      "text/plain": [
       "cSEGUID_BkTMVvkcn1ptfGtISXhfYxR2u8g"
      ]
     },
     "execution_count": 49,
     "metadata": {},
     "output_type": "execute_result"
    }
   ],
   "source": [
    "pLBL3_1362_2.stamp()"
   ]
  },
  {
   "cell_type": "code",
   "execution_count": 50,
   "metadata": {},
   "outputs": [],
   "source": [
    "pLBL3_1362_2.name = \"pLBL3_1362_2\""
   ]
  },
  {
   "cell_type": "code",
   "execution_count": 51,
   "metadata": {},
   "outputs": [
    {
     "data": {
      "text/html": [
       "<font face=monospace><a href='pLBL3_1362_2.gb' target='_blank'>pLBL3_1362_2.gb</a></font><br>"
      ]
     },
     "metadata": {},
     "output_type": "display_data"
    }
   ],
   "source": [
    "pLBL3_1362_2.write(\"pLBL3_1362_2.gb\")"
   ]
  }
 ],
 "metadata": {
  "kernelspec": {
   "display_name": "Python [conda env:bjorn37]",
   "language": "python",
   "name": "conda-env-bjorn37-py"
  },
  "language_info": {
   "codemirror_mode": {
    "name": "ipython",
    "version": 3
   },
   "file_extension": ".py",
   "mimetype": "text/x-python",
   "name": "python",
   "nbconvert_exporter": "python",
   "pygments_lexer": "ipython3",
   "version": "3.7.2"
  }
 },
 "nbformat": 4,
 "nbformat_minor": 2
}
