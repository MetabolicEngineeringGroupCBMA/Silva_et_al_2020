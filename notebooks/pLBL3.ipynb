{
 "cells": [
  {
   "cell_type": "markdown",
   "metadata": {},
   "source": [
    "# Construction of the pLBL3 vector\n",
    "\n",
    "The pLBL3 vector is a derivative of the pLBL2 but with a LEU2 marker instead of the URA3 marker."
   ]
  },
  {
   "cell_type": "code",
   "execution_count": 1,
   "metadata": {
    "collapsed": false,
    "execution": {
     "iopub.execute_input": "2021-09-19T20:33:00.801524Z",
     "iopub.status.busy": "2021-09-19T20:33:00.794797Z",
     "iopub.status.idle": "2021-09-19T20:33:01.258725Z",
     "shell.execute_reply": "2021-09-19T20:33:01.259126Z"
    },
    "jupyter": {
     "outputs_hidden": false
    }
   },
   "outputs": [],
   "source": [
    "from pydna.all import *"
   ]
  },
  {
   "cell_type": "code",
   "execution_count": 2,
   "metadata": {
    "execution": {
     "iopub.execute_input": "2021-09-19T20:33:01.267566Z",
     "iopub.status.busy": "2021-09-19T20:33:01.266967Z",
     "iopub.status.idle": "2021-09-19T20:33:01.268892Z",
     "shell.execute_reply": "2021-09-19T20:33:01.269361Z"
    }
   },
   "outputs": [],
   "source": [
    "gb = Genbank(\"bjornjobb@gmail.com\")"
   ]
  },
  {
   "cell_type": "markdown",
   "metadata": {},
   "source": [
    "The LEU2 marker was taken from YEplac181"
   ]
  },
  {
   "cell_type": "code",
   "execution_count": 3,
   "metadata": {
    "execution": {
     "iopub.execute_input": "2021-09-19T20:33:01.274671Z",
     "iopub.status.busy": "2021-09-19T20:33:01.273722Z",
     "iopub.status.idle": "2021-09-19T20:33:01.287456Z",
     "shell.execute_reply": "2021-09-19T20:33:01.287843Z"
    }
   },
   "outputs": [
    {
     "data": {
      "text/html": [
       "<a href='https://www.ncbi.nlm.nih.gov/nuccore/X75460.1?from=&to=&strand=1' target='_blank'>X75460.1</a>"
      ],
      "text/plain": [
       "Gbank(X75460.1)(-5741)"
      ]
     },
     "execution_count": 3,
     "metadata": {},
     "output_type": "execute_result"
    }
   ],
   "source": [
    "YEplac181 = gb.nucleotide(\"X75460.1\")\n",
    "YEplac181"
   ]
  },
  {
   "cell_type": "markdown",
   "metadata": {},
   "source": [
    "The two primers below were used to amplify the LEU2 marker also providing tails for assembly with pLBL2."
   ]
  },
  {
   "cell_type": "code",
   "execution_count": 4,
   "metadata": {
    "execution": {
     "iopub.execute_input": "2021-09-19T20:33:01.292354Z",
     "iopub.status.busy": "2021-09-19T20:33:01.291615Z",
     "iopub.status.idle": "2021-09-19T20:33:01.301226Z",
     "shell.execute_reply": "2021-09-19T20:33:01.300777Z"
    }
   },
   "outputs": [],
   "source": [
    "fp, rp = parse_primers(\"\"\"\n",
    "\n",
    ">Fw_LEU2\n",
    "tccgtggaattaattctcatctttgacagcttatcatcgataagcGAGGCCAACTGTGGGAATAC\n",
    "\n",
    ">Rv_LEU2\n",
    "taatacagttttttagttttgctggccgcatcttctcaaatatgcCTACCCTATGAACATATTCC\n",
    "\n",
    "\"\"\")"
   ]
  },
  {
   "cell_type": "code",
   "execution_count": 5,
   "metadata": {
    "execution": {
     "iopub.execute_input": "2021-09-19T20:33:01.307301Z",
     "iopub.status.busy": "2021-09-19T20:33:01.306236Z",
     "iopub.status.idle": "2021-09-19T20:33:01.312911Z",
     "shell.execute_reply": "2021-09-19T20:33:01.312379Z"
    }
   },
   "outputs": [
    {
     "data": {
      "text/html": [
       "Amplicon(1700)"
      ],
      "text/plain": [
       "Amplicon(1700)"
      ]
     },
     "execution_count": 5,
     "metadata": {},
     "output_type": "execute_result"
    }
   ],
   "source": [
    "LEU2_product = pcr(fp,rp,YEplac181)\n",
    "LEU2_product"
   ]
  },
  {
   "cell_type": "code",
   "execution_count": 6,
   "metadata": {
    "execution": {
     "iopub.execute_input": "2021-09-19T20:33:01.318549Z",
     "iopub.status.busy": "2021-09-19T20:33:01.317576Z",
     "iopub.status.idle": "2021-09-19T20:33:01.325106Z",
     "shell.execute_reply": "2021-09-19T20:33:01.324359Z"
    }
   },
   "outputs": [
    {
     "data": {
      "text/plain": [
       "                                             5CTACCCTATGAACATATTCC...GTATTCCCACAGTT3\n",
       "                                                                     ||||||||||||||\n",
       "                                                                    3CATAAGGGTGTCAACCGGAGcgaatagctactattcgacagtttctactcttaattaaggtgcct5\n",
       "5taatacagttttttagttttgctggccgcatcttctcaaatatgcCTACCCTATGAACATATTCC3\n",
       "                                              ||||||||||||||||||||\n",
       "                                             3GATGGGATACTTGTATAAGG...CATAAGGGTGTCAA5"
      ]
     },
     "execution_count": 6,
     "metadata": {},
     "output_type": "execute_result"
    }
   ],
   "source": [
    "LEU2_product.figure()"
   ]
  },
  {
   "cell_type": "code",
   "execution_count": 7,
   "metadata": {
    "execution": {
     "iopub.execute_input": "2021-09-19T20:33:01.330234Z",
     "iopub.status.busy": "2021-09-19T20:33:01.329295Z",
     "iopub.status.idle": "2021-09-19T20:33:01.331454Z",
     "shell.execute_reply": "2021-09-19T20:33:01.332310Z"
    }
   },
   "outputs": [],
   "source": [
    "LEU2_product.name=\"LEU2_product\""
   ]
  },
  {
   "cell_type": "code",
   "execution_count": 8,
   "metadata": {
    "collapsed": false,
    "execution": {
     "iopub.execute_input": "2021-09-19T20:33:01.345966Z",
     "iopub.status.busy": "2021-09-19T20:33:01.337702Z",
     "iopub.status.idle": "2021-09-19T20:33:01.348218Z",
     "shell.execute_reply": "2021-09-19T20:33:01.347791Z"
    },
    "jupyter": {
     "outputs_hidden": false
    }
   },
   "outputs": [],
   "source": [
    "pLBL2 = read(\"pLBL2.gb\")"
   ]
  },
  {
   "cell_type": "markdown",
   "metadata": {},
   "source": [
    "The pLBL2 vector was digested with [NcoI](http://rebase.neb.com/rebase/enz/NcoI.html)."
   ]
  },
  {
   "cell_type": "code",
   "execution_count": 9,
   "metadata": {
    "execution": {
     "iopub.execute_input": "2021-09-19T20:33:01.352077Z",
     "iopub.status.busy": "2021-09-19T20:33:01.351632Z",
     "iopub.status.idle": "2021-09-19T20:33:01.353379Z",
     "shell.execute_reply": "2021-09-19T20:33:01.353874Z"
    }
   },
   "outputs": [],
   "source": [
    "from Bio.Restriction import NcoI"
   ]
  },
  {
   "cell_type": "code",
   "execution_count": 10,
   "metadata": {
    "execution": {
     "iopub.execute_input": "2021-09-19T20:33:01.361971Z",
     "iopub.status.busy": "2021-09-19T20:33:01.361336Z",
     "iopub.status.idle": "2021-09-19T20:33:01.363256Z",
     "shell.execute_reply": "2021-09-19T20:33:01.363735Z"
    }
   },
   "outputs": [],
   "source": [
    "pLBL2_linear = pLBL2.linearize(NcoI)"
   ]
  },
  {
   "cell_type": "code",
   "execution_count": 11,
   "metadata": {
    "execution": {
     "iopub.execute_input": "2021-09-19T20:33:01.369320Z",
     "iopub.status.busy": "2021-09-19T20:33:01.368207Z",
     "iopub.status.idle": "2021-09-19T20:33:01.371005Z",
     "shell.execute_reply": "2021-09-19T20:33:01.370508Z"
    }
   },
   "outputs": [],
   "source": [
    "pLBL2_linear.id = pLBL2_linear.name = \"pLBL2_NcoI\""
   ]
  },
  {
   "cell_type": "code",
   "execution_count": 12,
   "metadata": {
    "execution": {
     "iopub.execute_input": "2021-09-19T20:33:01.414018Z",
     "iopub.status.busy": "2021-09-19T20:33:01.378411Z",
     "iopub.status.idle": "2021-09-19T20:33:01.546573Z",
     "shell.execute_reply": "2021-09-19T20:33:01.546064Z"
    }
   },
   "outputs": [
    {
     "data": {
      "text/plain": [
       "Assembly\n",
       "fragments..: 1700bp 6968bp\n",
       "limit(bp)..: 25\n",
       "G.nodes....: 4\n",
       "algorithm..: common_sub_strings"
      ]
     },
     "execution_count": 12,
     "metadata": {},
     "output_type": "execute_result"
    }
   ],
   "source": [
    "asm = Assembly((LEU2_product, pLBL2_linear))\n",
    "asm"
   ]
  },
  {
   "cell_type": "code",
   "execution_count": 13,
   "metadata": {
    "execution": {
     "iopub.execute_input": "2021-09-19T20:33:01.549506Z",
     "iopub.status.busy": "2021-09-19T20:33:01.548260Z",
     "iopub.status.idle": "2021-09-19T20:33:01.744711Z",
     "shell.execute_reply": "2021-09-19T20:33:01.744211Z"
    }
   },
   "outputs": [
    {
     "data": {
      "text/plain": [
       "[Contig(o7576), Contig(o7576)]"
      ]
     },
     "execution_count": 13,
     "metadata": {},
     "output_type": "execute_result"
    }
   ],
   "source": [
    "candidates = asm.assemble_circular()\n",
    "candidates"
   ]
  },
  {
   "cell_type": "code",
   "execution_count": 14,
   "metadata": {
    "execution": {
     "iopub.execute_input": "2021-09-19T20:33:01.749532Z",
     "iopub.status.busy": "2021-09-19T20:33:01.748571Z",
     "iopub.status.idle": "2021-09-19T20:33:01.752339Z",
     "shell.execute_reply": "2021-09-19T20:33:01.751746Z"
    }
   },
   "outputs": [
    {
     "data": {
      "text/html": [
       "<pre> -|LEU2_product|45\n",
       "|               \\/\n",
       "|               /\\\n",
       "|               45|pLBL2_NcoI|45\n",
       "|                             \\/\n",
       "|                             /\\\n",
       "|                             45-\n",
       "|                                |\n",
       " --------------------------------</pre>"
      ],
      "text/plain": [
       "Contig(o7576)"
      ]
     },
     "execution_count": 14,
     "metadata": {},
     "output_type": "execute_result"
    }
   ],
   "source": [
    "candidate = candidates[0]\n",
    "candidate"
   ]
  },
  {
   "cell_type": "code",
   "execution_count": 15,
   "metadata": {
    "execution": {
     "iopub.execute_input": "2021-09-19T20:33:01.763679Z",
     "iopub.status.busy": "2021-09-19T20:33:01.763071Z",
     "iopub.status.idle": "2021-09-19T20:33:01.765904Z",
     "shell.execute_reply": "2021-09-19T20:33:01.765513Z"
    }
   },
   "outputs": [
    {
     "data": {
      "text/plain": [
       "Joos92IiFIJrDvwqO0z-ZBMGR4g"
      ]
     },
     "execution_count": 15,
     "metadata": {},
     "output_type": "execute_result"
    }
   ],
   "source": [
    "candidate.cseguid()"
   ]
  },
  {
   "cell_type": "code",
   "execution_count": 16,
   "metadata": {
    "execution": {
     "iopub.execute_input": "2021-09-19T20:33:01.779177Z",
     "iopub.status.busy": "2021-09-19T20:33:01.778589Z",
     "iopub.status.idle": "2021-09-19T20:33:01.780691Z",
     "shell.execute_reply": "2021-09-19T20:33:01.780290Z"
    }
   },
   "outputs": [],
   "source": [
    "assert candidate.cseguid() == \"Joos92IiFIJrDvwqO0z-ZBMGR4g\""
   ]
  },
  {
   "cell_type": "code",
   "execution_count": 17,
   "metadata": {
    "execution": {
     "iopub.execute_input": "2021-09-19T20:33:01.829061Z",
     "iopub.status.busy": "2021-09-19T20:33:01.793090Z",
     "iopub.status.idle": "2021-09-19T20:33:02.273206Z",
     "shell.execute_reply": "2021-09-19T20:33:02.274350Z"
    }
   },
   "outputs": [],
   "source": [
    "pLBL3 = candidate.synced(pLBL2)"
   ]
  },
  {
   "cell_type": "code",
   "execution_count": 18,
   "metadata": {
    "execution": {
     "iopub.execute_input": "2021-09-19T20:33:02.283179Z",
     "iopub.status.busy": "2021-09-19T20:33:02.282370Z",
     "iopub.status.idle": "2021-09-19T20:33:02.284216Z",
     "shell.execute_reply": "2021-09-19T20:33:02.285200Z"
    }
   },
   "outputs": [],
   "source": [
    "pLBL3.id = pLBL3.name = pLBL3.version = \"pLBL3\""
   ]
  },
  {
   "cell_type": "code",
   "execution_count": 19,
   "metadata": {
    "execution": {
     "iopub.execute_input": "2021-09-19T20:33:02.297645Z",
     "iopub.status.busy": "2021-09-19T20:33:02.296899Z",
     "iopub.status.idle": "2021-09-19T20:33:02.300264Z",
     "shell.execute_reply": "2021-09-19T20:33:02.301882Z"
    }
   },
   "outputs": [
    {
     "data": {
      "text/plain": [
       "cSEGUID_Joos92IiFIJrDvwqO0z-ZBMGR4g"
      ]
     },
     "execution_count": 19,
     "metadata": {},
     "output_type": "execute_result"
    }
   ],
   "source": [
    "pLBL3.stamp()"
   ]
  },
  {
   "cell_type": "code",
   "execution_count": 20,
   "metadata": {
    "execution": {
     "iopub.execute_input": "2021-09-19T20:33:02.308076Z",
     "iopub.status.busy": "2021-09-19T20:33:02.307245Z",
     "iopub.status.idle": "2021-09-19T20:33:02.320282Z",
     "shell.execute_reply": "2021-09-19T20:33:02.321604Z"
    }
   },
   "outputs": [
    {
     "data": {
      "text/html": [
       "<font face=monospace><a href='pLBL3.gb' target='_blank'>pLBL3.gb</a></font><br>"
      ]
     },
     "metadata": {},
     "output_type": "display_data"
    }
   ],
   "source": [
    "pLBL3.write(\"pLBL3.gb\")"
   ]
  }
 ],
 "metadata": {
  "kernelspec": {
   "display_name": "Python [conda env:bjorn38]",
   "language": "python",
   "name": "conda-env-bjorn38-py"
  },
  "language_info": {
   "codemirror_mode": {
    "name": "ipython",
    "version": 3
   },
   "file_extension": ".py",
   "mimetype": "text/x-python",
   "name": "python",
   "nbconvert_exporter": "python",
   "pygments_lexer": "ipython3",
   "version": "3.9.7"
  }
 },
 "nbformat": 4,
 "nbformat_minor": 4
}
