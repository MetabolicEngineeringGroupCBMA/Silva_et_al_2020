{
 "cells": [
  {
   "cell_type": "markdown",
   "metadata": {},
   "source": [
    "# pLBL2_PiXI\n",
    "\n",
    "The pLBL_PiXI is the [pLBL2 vector](pLBL2.ipynb) with the xylose isomerase gene from Piromyces sp. located \n",
    "after the TEF1 promoter. The XI gene is the original gene and was *not* codon optimized.\n",
    "**This plasmid was not used in the publication**.\n",
    "\n",
    "- cseguid = `9QxBJTaIBCCAbMfKLyeedZ73zTE`\n",
    "- size    = 8280 bp\n",
    "- topog   = circular\n"
   ]
  },
  {
   "cell_type": "code",
   "execution_count": 1,
   "metadata": {
    "collapsed": false,
    "execution": {
     "iopub.execute_input": "2021-09-19T20:32:57.942357Z",
     "iopub.status.busy": "2021-09-19T20:32:57.941894Z",
     "iopub.status.idle": "2021-09-19T20:32:58.428574Z",
     "shell.execute_reply": "2021-09-19T20:32:58.427898Z"
    },
    "jupyter": {
     "outputs_hidden": false
    }
   },
   "outputs": [],
   "source": [
    "from pydna.all import *"
   ]
  },
  {
   "cell_type": "code",
   "execution_count": 2,
   "metadata": {
    "collapsed": false,
    "execution": {
     "iopub.execute_input": "2021-09-19T20:32:58.436382Z",
     "iopub.status.busy": "2021-09-19T20:32:58.435930Z",
     "iopub.status.idle": "2021-09-19T20:32:58.450085Z",
     "shell.execute_reply": "2021-09-19T20:32:58.450635Z"
    },
    "jupyter": {
     "outputs_hidden": false
    }
   },
   "outputs": [],
   "source": [
    "pLBL2 = read(\"pLBL2.gb\")"
   ]
  },
  {
   "cell_type": "code",
   "execution_count": 3,
   "metadata": {
    "collapsed": false,
    "execution": {
     "iopub.execute_input": "2021-09-19T20:32:58.457304Z",
     "iopub.status.busy": "2021-09-19T20:32:58.455782Z",
     "iopub.status.idle": "2021-09-19T20:32:58.459315Z",
     "shell.execute_reply": "2021-09-19T20:32:58.458773Z"
    },
    "jupyter": {
     "outputs_hidden": false
    }
   },
   "outputs": [],
   "source": [
    "gb = Genbank(\"bjornjobb@gmail.com\")"
   ]
  },
  {
   "cell_type": "code",
   "execution_count": 4,
   "metadata": {
    "collapsed": false,
    "execution": {
     "iopub.execute_input": "2021-09-19T20:32:58.464099Z",
     "iopub.status.busy": "2021-09-19T20:32:58.463475Z",
     "iopub.status.idle": "2021-09-19T20:32:58.475775Z",
     "shell.execute_reply": "2021-09-19T20:32:58.475378Z"
    },
    "jupyter": {
     "outputs_hidden": false
    }
   },
   "outputs": [
    {
     "data": {
      "text/html": [
       "<a href='https://www.ncbi.nlm.nih.gov/nuccore/AJ249909.1?from=&to=&strand=1' target='_blank'>AJ249909.1</a>"
      ],
      "text/plain": [
       "Gbank(AJ249909.1)(-1669)"
      ]
     },
     "execution_count": 4,
     "metadata": {},
     "output_type": "execute_result"
    }
   ],
   "source": [
    "xyla = gb.nucleotide(\"AJ249909.1\")\n",
    "xyla"
   ]
  },
  {
   "cell_type": "code",
   "execution_count": 5,
   "metadata": {
    "collapsed": false,
    "execution": {
     "iopub.execute_input": "2021-09-19T20:32:58.480503Z",
     "iopub.status.busy": "2021-09-19T20:32:58.479607Z",
     "iopub.status.idle": "2021-09-19T20:32:58.483404Z",
     "shell.execute_reply": "2021-09-19T20:32:58.482805Z"
    },
    "jupyter": {
     "outputs_hidden": false
    }
   },
   "outputs": [],
   "source": [
    "orf = xyla.extract_feature(2)"
   ]
  },
  {
   "cell_type": "code",
   "execution_count": 6,
   "metadata": {
    "collapsed": false,
    "execution": {
     "iopub.execute_input": "2021-09-19T20:32:58.493241Z",
     "iopub.status.busy": "2021-09-19T20:32:58.492532Z",
     "iopub.status.idle": "2021-09-19T20:32:58.494532Z",
     "shell.execute_reply": "2021-09-19T20:32:58.495071Z"
    },
    "jupyter": {
     "outputs_hidden": false
    }
   },
   "outputs": [],
   "source": [
    "amplicon = primer_design(orf)"
   ]
  },
  {
   "cell_type": "code",
   "execution_count": 7,
   "metadata": {
    "execution": {
     "iopub.execute_input": "2021-09-19T20:32:58.499378Z",
     "iopub.status.busy": "2021-09-19T20:32:58.498554Z",
     "iopub.status.idle": "2021-09-19T20:32:58.501495Z",
     "shell.execute_reply": "2021-09-19T20:32:58.502113Z"
    }
   },
   "outputs": [],
   "source": [
    "amplicon.forward_primer = \"gaggaacgccaggttgcccactttctcactagtgacctgcagccgacaa\" + amplicon.forward_primer"
   ]
  },
  {
   "cell_type": "code",
   "execution_count": 8,
   "metadata": {
    "execution": {
     "iopub.execute_input": "2021-09-19T20:32:58.507368Z",
     "iopub.status.busy": "2021-09-19T20:32:58.506689Z",
     "iopub.status.idle": "2021-09-19T20:32:58.510781Z",
     "shell.execute_reply": "2021-09-19T20:32:58.510230Z"
    }
   },
   "outputs": [],
   "source": [
    "amplicon.reverse_primer = \"tggattaaaaatttaaatcctgatgcgtttgtctgcacagatggcac\" + amplicon.reverse_primer"
   ]
  },
  {
   "cell_type": "code",
   "execution_count": 9,
   "metadata": {
    "execution": {
     "iopub.execute_input": "2021-09-19T20:32:58.515940Z",
     "iopub.status.busy": "2021-09-19T20:32:58.515034Z",
     "iopub.status.idle": "2021-09-19T20:32:58.518602Z",
     "shell.execute_reply": "2021-09-19T20:32:58.519369Z"
    }
   },
   "outputs": [
    {
     "data": {
      "text/plain": [
       "f1314\tgaggaacgccaggttgcccactttctcactagtgacctgcagccgacaaATGGCTAAGGAATATTTCC\n"
      ]
     },
     "execution_count": 9,
     "metadata": {},
     "output_type": "execute_result"
    }
   ],
   "source": [
    "amplicon.forward_primer.format(\"tab\")"
   ]
  },
  {
   "cell_type": "code",
   "execution_count": 10,
   "metadata": {
    "execution": {
     "iopub.execute_input": "2021-09-19T20:32:58.523627Z",
     "iopub.status.busy": "2021-09-19T20:32:58.523089Z",
     "iopub.status.idle": "2021-09-19T20:32:58.525492Z",
     "shell.execute_reply": "2021-09-19T20:32:58.525849Z"
    }
   },
   "outputs": [
    {
     "data": {
      "text/plain": [
       "r1314\ttggattaaaaatttaaatcctgatgcgtttgtctgcacagatggcacTTATTGGTACATGGCAAC\n"
      ]
     },
     "execution_count": 10,
     "metadata": {},
     "output_type": "execute_result"
    }
   ],
   "source": [
    "amplicon.reverse_primer.format(\"tab\")"
   ]
  },
  {
   "cell_type": "markdown",
   "metadata": {},
   "source": [
    "The primers actually purchased and used are given below."
   ]
  },
  {
   "cell_type": "code",
   "execution_count": 11,
   "metadata": {
    "execution": {
     "iopub.execute_input": "2021-09-19T20:32:58.529927Z",
     "iopub.status.busy": "2021-09-19T20:32:58.529476Z",
     "iopub.status.idle": "2021-09-19T20:32:58.531159Z",
     "shell.execute_reply": "2021-09-19T20:32:58.531519Z"
    }
   },
   "outputs": [],
   "source": [
    "fp, rp = parse('''\n",
    ">3_PiE2XYLAfw\n",
    "GAG GAA CGC CAG GTT GCC CAC TTT CTC ACT AGT GAC CTG CAG CCG ACA AAT GGC TAA GGA ATA TTT C\n",
    "\n",
    ">4_PiE2XYLArv\n",
    "TGG ATT AAA AAT TTA AAT CCT GAT GCG TTT GTC TGC ACA GAT GGC ACT TAT TGG TAC ATG GCA\n",
    "''', ds=False)"
   ]
  },
  {
   "cell_type": "markdown",
   "metadata": {},
   "source": [
    "As can be seen below, the purchased primer is one nt shorter in the 3' end."
   ]
  },
  {
   "cell_type": "code",
   "execution_count": 12,
   "metadata": {
    "execution": {
     "iopub.execute_input": "2021-09-19T20:32:58.538299Z",
     "iopub.status.busy": "2021-09-19T20:32:58.536953Z",
     "iopub.status.idle": "2021-09-19T20:32:58.545267Z",
     "shell.execute_reply": "2021-09-19T20:32:58.544645Z"
    }
   },
   "outputs": [
    {
     "name": "stdout",
     "output_type": "stream",
     "text": [
      "gaggaacgccaggttgcccactttctcactagtgacctgcagccgacaaATGGCTAAGGAATATTTCC\n",
      "GAGGAACGCCAGGTTGCCCACTTTCTCACTAGTGACCTGCAGCCGACAAATGGCTAAGGAATATTTC\n"
     ]
    }
   ],
   "source": [
    "print(amplicon.forward_primer.seq)\n",
    "print(fp.seq)"
   ]
  },
  {
   "cell_type": "markdown",
   "metadata": {},
   "source": [
    "As can be seen below, the purchased reverse primer is three nt shorter in the 3' end."
   ]
  },
  {
   "cell_type": "code",
   "execution_count": 13,
   "metadata": {
    "execution": {
     "iopub.execute_input": "2021-09-19T20:32:58.549145Z",
     "iopub.status.busy": "2021-09-19T20:32:58.548567Z",
     "iopub.status.idle": "2021-09-19T20:32:58.551903Z",
     "shell.execute_reply": "2021-09-19T20:32:58.551484Z"
    }
   },
   "outputs": [
    {
     "name": "stdout",
     "output_type": "stream",
     "text": [
      "tggattaaaaatttaaatcctgatgcgtttgtctgcacagatggcacTTATTGGTACATGGCAAC\n",
      "TGGATTAAAAATTTAAATCCTGATGCGTTTGTCTGCACAGATGGCACTTATTGGTACATGGCA\n"
     ]
    }
   ],
   "source": [
    "print(amplicon.reverse_primer.seq)\n",
    "print(rp.seq)"
   ]
  },
  {
   "cell_type": "code",
   "execution_count": 14,
   "metadata": {
    "collapsed": false,
    "execution": {
     "iopub.execute_input": "2021-09-19T20:32:58.558441Z",
     "iopub.status.busy": "2021-09-19T20:32:58.557788Z",
     "iopub.status.idle": "2021-09-19T20:32:58.560351Z",
     "shell.execute_reply": "2021-09-19T20:32:58.560860Z"
    },
    "jupyter": {
     "outputs_hidden": false
    }
   },
   "outputs": [],
   "source": [
    "prd = pcr(fp, rp, orf)"
   ]
  },
  {
   "cell_type": "code",
   "execution_count": 15,
   "metadata": {
    "collapsed": false,
    "execution": {
     "iopub.execute_input": "2021-09-19T20:32:58.565393Z",
     "iopub.status.busy": "2021-09-19T20:32:58.564721Z",
     "iopub.status.idle": "2021-09-19T20:32:58.570214Z",
     "shell.execute_reply": "2021-09-19T20:32:58.569816Z"
    },
    "jupyter": {
     "outputs_hidden": false
    }
   },
   "outputs": [],
   "source": [
    "from Bio.Restriction import AjiI"
   ]
  },
  {
   "cell_type": "code",
   "execution_count": 16,
   "metadata": {
    "collapsed": false,
    "execution": {
     "iopub.execute_input": "2021-09-19T20:32:58.578590Z",
     "iopub.status.busy": "2021-09-19T20:32:58.577573Z",
     "iopub.status.idle": "2021-09-19T20:32:58.580611Z",
     "shell.execute_reply": "2021-09-19T20:32:58.581032Z"
    },
    "jupyter": {
     "outputs_hidden": false
    }
   },
   "outputs": [],
   "source": [
    "vl = pLBL2.linearize(AjiI)"
   ]
  },
  {
   "cell_type": "code",
   "execution_count": 17,
   "metadata": {
    "collapsed": false,
    "execution": {
     "iopub.execute_input": "2021-09-19T20:32:58.599876Z",
     "iopub.status.busy": "2021-09-19T20:32:58.593878Z",
     "iopub.status.idle": "2021-09-19T20:32:58.757488Z",
     "shell.execute_reply": "2021-09-19T20:32:58.757868Z"
    },
    "jupyter": {
     "outputs_hidden": false
    }
   },
   "outputs": [
    {
     "data": {
      "text/plain": [
       "Assembly\n",
       "fragments..: 6964bp 1410bp\n",
       "limit(bp)..: 25\n",
       "G.nodes....: 4\n",
       "algorithm..: common_sub_strings"
      ]
     },
     "execution_count": 17,
     "metadata": {},
     "output_type": "execute_result"
    }
   ],
   "source": [
    "asm = Assembly((vl, prd))\n",
    "asm"
   ]
  },
  {
   "cell_type": "code",
   "execution_count": 18,
   "metadata": {
    "execution": {
     "iopub.execute_input": "2021-09-19T20:32:58.762697Z",
     "iopub.status.busy": "2021-09-19T20:32:58.761625Z",
     "iopub.status.idle": "2021-09-19T20:32:58.973166Z",
     "shell.execute_reply": "2021-09-19T20:32:58.972745Z"
    }
   },
   "outputs": [
    {
     "data": {
      "text/plain": [
       "[Contig(o8280), Contig(o8280)]"
      ]
     },
     "execution_count": 18,
     "metadata": {},
     "output_type": "execute_result"
    }
   ],
   "source": [
    "candidates = asm.assemble_circular()\n",
    "candidates"
   ]
  },
  {
   "cell_type": "code",
   "execution_count": 19,
   "metadata": {
    "execution": {
     "iopub.execute_input": "2021-09-19T20:32:58.976470Z",
     "iopub.status.busy": "2021-09-19T20:32:58.975945Z",
     "iopub.status.idle": "2021-09-19T20:32:58.978548Z",
     "shell.execute_reply": "2021-09-19T20:32:58.978020Z"
    }
   },
   "outputs": [],
   "source": [
    "candidate = candidates[0]"
   ]
  },
  {
   "cell_type": "code",
   "execution_count": 20,
   "metadata": {
    "execution": {
     "iopub.execute_input": "2021-09-19T20:32:58.983749Z",
     "iopub.status.busy": "2021-09-19T20:32:58.982913Z",
     "iopub.status.idle": "2021-09-19T20:32:58.986214Z",
     "shell.execute_reply": "2021-09-19T20:32:58.986695Z"
    }
   },
   "outputs": [
    {
     "data": {
      "text/html": [
       "<pre> -|pLBL2_lin|47\n",
       "|            \\/\n",
       "|            /\\\n",
       "|            47|1410bp_PCR_prod|47\n",
       "|                               \\/\n",
       "|                               /\\\n",
       "|                               47-\n",
       "|                                  |\n",
       " ----------------------------------</pre>"
      ],
      "text/plain": [
       "Contig(o8280)"
      ]
     },
     "execution_count": 20,
     "metadata": {},
     "output_type": "execute_result"
    }
   ],
   "source": [
    "candidate"
   ]
  },
  {
   "cell_type": "code",
   "execution_count": 21,
   "metadata": {
    "collapsed": false,
    "execution": {
     "iopub.execute_input": "2021-09-19T20:32:59.035146Z",
     "iopub.status.busy": "2021-09-19T20:32:58.999474Z",
     "iopub.status.idle": "2021-09-19T20:32:59.518760Z",
     "shell.execute_reply": "2021-09-19T20:32:59.519168Z"
    },
    "jupyter": {
     "outputs_hidden": false
    }
   },
   "outputs": [],
   "source": [
    "pLBL2_PiXI = candidate.synced(pLBL2)"
   ]
  },
  {
   "cell_type": "code",
   "execution_count": 22,
   "metadata": {
    "collapsed": false,
    "execution": {
     "iopub.execute_input": "2021-09-19T20:32:59.523624Z",
     "iopub.status.busy": "2021-09-19T20:32:59.522926Z",
     "iopub.status.idle": "2021-09-19T20:32:59.525890Z",
     "shell.execute_reply": "2021-09-19T20:32:59.526410Z"
    },
    "jupyter": {
     "outputs_hidden": false
    }
   },
   "outputs": [
    {
     "data": {
      "text/plain": [
       "Dseqrecord(o8280)"
      ]
     },
     "execution_count": 22,
     "metadata": {},
     "output_type": "execute_result"
    }
   ],
   "source": [
    "pLBL2_PiXI"
   ]
  },
  {
   "cell_type": "code",
   "execution_count": 23,
   "metadata": {
    "execution": {
     "iopub.execute_input": "2021-09-19T20:32:59.537947Z",
     "iopub.status.busy": "2021-09-19T20:32:59.537350Z",
     "iopub.status.idle": "2021-09-19T20:32:59.540306Z",
     "shell.execute_reply": "2021-09-19T20:32:59.539911Z"
    }
   },
   "outputs": [
    {
     "data": {
      "text/plain": [
       "9QxBJTaIBCCAbMfKLyeedZ73zTE"
      ]
     },
     "execution_count": 23,
     "metadata": {},
     "output_type": "execute_result"
    }
   ],
   "source": [
    "pLBL2_PiXI.cseguid()"
   ]
  },
  {
   "cell_type": "code",
   "execution_count": 24,
   "metadata": {
    "execution": {
     "iopub.execute_input": "2021-09-19T20:32:59.550050Z",
     "iopub.status.busy": "2021-09-19T20:32:59.549496Z",
     "iopub.status.idle": "2021-09-19T20:32:59.551174Z",
     "shell.execute_reply": "2021-09-19T20:32:59.551533Z"
    }
   },
   "outputs": [],
   "source": [
    "assert pLBL2_PiXI.cseguid() == \"9QxBJTaIBCCAbMfKLyeedZ73zTE\""
   ]
  },
  {
   "cell_type": "code",
   "execution_count": 25,
   "metadata": {
    "execution": {
     "iopub.execute_input": "2021-09-19T20:32:59.555236Z",
     "iopub.status.busy": "2021-09-19T20:32:59.554637Z",
     "iopub.status.idle": "2021-09-19T20:32:59.557203Z",
     "shell.execute_reply": "2021-09-19T20:32:59.556603Z"
    }
   },
   "outputs": [],
   "source": [
    "pLBL2_PiXI.locus = \"pLBL2_PiXI\""
   ]
  },
  {
   "cell_type": "code",
   "execution_count": 26,
   "metadata": {
    "collapsed": false,
    "execution": {
     "iopub.execute_input": "2021-09-19T20:32:59.561263Z",
     "iopub.status.busy": "2021-09-19T20:32:59.560654Z",
     "iopub.status.idle": "2021-09-19T20:32:59.575710Z",
     "shell.execute_reply": "2021-09-19T20:32:59.575322Z"
    },
    "jupyter": {
     "outputs_hidden": false
    }
   },
   "outputs": [
    {
     "data": {
      "text/html": [
       "<font face=monospace><a href='pLBL2_PiXI.gb' target='_blank'>pLBL2_PiXI.gb</a></font><br>"
      ]
     },
     "metadata": {},
     "output_type": "display_data"
    }
   ],
   "source": [
    "pLBL2_PiXI.write(\"pLBL2_PiXI.gb\")"
   ]
  }
 ],
 "metadata": {
  "kernelspec": {
   "display_name": "Python [conda env:bjorn37]",
   "language": "python",
   "name": "conda-env-bjorn37-py"
  },
  "language_info": {
   "codemirror_mode": {
    "name": "ipython",
    "version": 3
   },
   "file_extension": ".py",
   "mimetype": "text/x-python",
   "name": "python",
   "nbconvert_exporter": "python",
   "pygments_lexer": "ipython3",
   "version": "3.9.7"
  }
 },
 "nbformat": 4,
 "nbformat_minor": 4
}
