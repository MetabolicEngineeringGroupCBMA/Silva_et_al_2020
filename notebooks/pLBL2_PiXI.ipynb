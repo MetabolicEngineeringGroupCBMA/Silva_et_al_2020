{
 "cells": [
  {
   "cell_type": "markdown",
   "metadata": {},
   "source": [
    "# pLBL2_PiXI\n",
    "\n",
    "The pLBL_PiXI is the [pLBL2 vector](pLBL2.ipynb) with the xylose isomerase gene from Piromyces sp. located \n",
    "after the TEF1 promoter. The XI gene is the original gene and was *not* codon optimized.\n",
    "**This plasmid was not used in the publication**.\n",
    "\n",
    "- cseguid = `9QxBJTaIBCCAbMfKLyeedZ73zTE`\n",
    "- size    = 8280 bp\n",
    "- topog   = circular\n"
   ]
  },
  {
   "cell_type": "code",
   "execution_count": 1,
   "metadata": {
    "collapsed": false,
    "jupyter": {
     "outputs_hidden": false
    }
   },
   "outputs": [],
   "source": [
    "from pydna.all import *"
   ]
  },
  {
   "cell_type": "code",
   "execution_count": 2,
   "metadata": {
    "collapsed": false,
    "jupyter": {
     "outputs_hidden": false
    }
   },
   "outputs": [],
   "source": [
    "pLBL2 = read(\"pLBL2.gb\")"
   ]
  },
  {
   "cell_type": "code",
   "execution_count": 3,
   "metadata": {
    "collapsed": false,
    "jupyter": {
     "outputs_hidden": false
    }
   },
   "outputs": [],
   "source": [
    "gb = Genbank(\"bjornjobb@gmail.com\")"
   ]
  },
  {
   "cell_type": "code",
   "execution_count": 4,
   "metadata": {
    "collapsed": false,
    "jupyter": {
     "outputs_hidden": false
    }
   },
   "outputs": [
    {
     "data": {
      "text/html": [
       "<a href='https://www.ncbi.nlm.nih.gov/nuccore/AJ249909.1?from=&to=&strand=1' target='_blank'>AJ249909.1</a>"
      ],
      "text/plain": [
       "Gbank(AJ249909.1)(-1669)"
      ]
     },
     "execution_count": 4,
     "metadata": {},
     "output_type": "execute_result"
    }
   ],
   "source": [
    "xyla = gb.nucleotide(\"AJ249909.1\")\n",
    "xyla"
   ]
  },
  {
   "cell_type": "code",
   "execution_count": 5,
   "metadata": {
    "collapsed": false,
    "jupyter": {
     "outputs_hidden": false
    }
   },
   "outputs": [],
   "source": [
    "orf = xyla.extract_feature(2)"
   ]
  },
  {
   "cell_type": "code",
   "execution_count": 6,
   "metadata": {
    "collapsed": false,
    "jupyter": {
     "outputs_hidden": false
    }
   },
   "outputs": [],
   "source": [
    "amplicon = primer_design(orf)"
   ]
  },
  {
   "cell_type": "code",
   "execution_count": 7,
   "metadata": {},
   "outputs": [],
   "source": [
    "amplicon.forward_primer = \"gaggaacgccaggttgcccactttctcactagtgacctgcagccgacaa\" + amplicon.forward_primer"
   ]
  },
  {
   "cell_type": "code",
   "execution_count": 8,
   "metadata": {},
   "outputs": [],
   "source": [
    "amplicon.reverse_primer = \"tggattaaaaatttaaatcctgatgcgtttgtctgcacagatggcac\" + amplicon.reverse_primer"
   ]
  },
  {
   "cell_type": "code",
   "execution_count": 9,
   "metadata": {},
   "outputs": [
    {
     "data": {
      "text/plain": [
       "f1314\tgaggaacgccaggttgcccactttctcactagtgacctgcagccgacaaATGGCTAAGGAATATTTCC\n"
      ]
     },
     "execution_count": 9,
     "metadata": {},
     "output_type": "execute_result"
    }
   ],
   "source": [
    "amplicon.forward_primer.format(\"tab\")"
   ]
  },
  {
   "cell_type": "code",
   "execution_count": 10,
   "metadata": {},
   "outputs": [
    {
     "data": {
      "text/plain": [
       "r1314\ttggattaaaaatttaaatcctgatgcgtttgtctgcacagatggcacTTATTGGTACATGGCAAC\n"
      ]
     },
     "execution_count": 10,
     "metadata": {},
     "output_type": "execute_result"
    }
   ],
   "source": [
    "amplicon.reverse_primer.format(\"tab\")"
   ]
  },
  {
   "cell_type": "markdown",
   "metadata": {},
   "source": [
    "The primers actually purchased and used are given below."
   ]
  },
  {
   "cell_type": "code",
   "execution_count": 11,
   "metadata": {},
   "outputs": [],
   "source": [
    "fp, rp = parse('''\n",
    ">3_PiE2XYLAfw\n",
    "GAG GAA CGC CAG GTT GCC CAC TTT CTC ACT AGT GAC CTG CAG CCG ACA AAT GGC TAA GGA ATA TTT C\n",
    "\n",
    ">4_PiE2XYLArv\n",
    "TGG ATT AAA AAT TTA AAT CCT GAT GCG TTT GTC TGC ACA GAT GGC ACT TAT TGG TAC ATG GCA\n",
    "''', ds=False)"
   ]
  },
  {
   "cell_type": "markdown",
   "metadata": {},
   "source": [
    "As can be seen below, the purchased primer is one nt shorter in the 3' end."
   ]
  },
  {
   "cell_type": "code",
   "execution_count": 12,
   "metadata": {},
   "outputs": [
    {
     "name": "stdout",
     "output_type": "stream",
     "text": [
      "gaggaacgccaggttgcccactttctcactagtgacctgcagccgacaaATGGCTAAGGAATATTTCC\n",
      "GAGGAACGCCAGGTTGCCCACTTTCTCACTAGTGACCTGCAGCCGACAAATGGCTAAGGAATATTTC\n"
     ]
    }
   ],
   "source": [
    "print(amplicon.forward_primer.seq)\n",
    "print(fp.seq)"
   ]
  },
  {
   "cell_type": "markdown",
   "metadata": {},
   "source": [
    "As can be seen below, the purchased reverse primer is three nt shorter in the 3' end."
   ]
  },
  {
   "cell_type": "code",
   "execution_count": 13,
   "metadata": {},
   "outputs": [
    {
     "name": "stdout",
     "output_type": "stream",
     "text": [
      "tggattaaaaatttaaatcctgatgcgtttgtctgcacagatggcacTTATTGGTACATGGCAAC\n",
      "TGGATTAAAAATTTAAATCCTGATGCGTTTGTCTGCACAGATGGCACTTATTGGTACATGGCA\n"
     ]
    }
   ],
   "source": [
    "print(amplicon.reverse_primer.seq)\n",
    "print(rp.seq)"
   ]
  },
  {
   "cell_type": "code",
   "execution_count": 14,
   "metadata": {
    "collapsed": false,
    "jupyter": {
     "outputs_hidden": false
    }
   },
   "outputs": [],
   "source": [
    "prd = pcr(fp, rp, orf)"
   ]
  },
  {
   "cell_type": "code",
   "execution_count": 15,
   "metadata": {
    "collapsed": false,
    "jupyter": {
     "outputs_hidden": false
    }
   },
   "outputs": [],
   "source": [
    "from Bio.Restriction import AjiI"
   ]
  },
  {
   "cell_type": "code",
   "execution_count": 16,
   "metadata": {
    "collapsed": false,
    "jupyter": {
     "outputs_hidden": false
    }
   },
   "outputs": [],
   "source": [
    "vl = pLBL2.linearize(AjiI)"
   ]
  },
  {
   "cell_type": "code",
   "execution_count": 17,
   "metadata": {
    "collapsed": false,
    "jupyter": {
     "outputs_hidden": false
    }
   },
   "outputs": [
    {
     "data": {
      "text/plain": [
       "Assembly\n",
       "fragments..: 6964bp 1410bp\n",
       "limit(bp)..: 25\n",
       "G.nodes....: 4\n",
       "algorithm..: common_sub_strings"
      ]
     },
     "execution_count": 17,
     "metadata": {},
     "output_type": "execute_result"
    }
   ],
   "source": [
    "asm = Assembly((vl, prd))\n",
    "asm"
   ]
  },
  {
   "cell_type": "code",
   "execution_count": 18,
   "metadata": {},
   "outputs": [
    {
     "data": {
      "text/plain": [
       "[Contig(o8280), Contig(o8280)]"
      ]
     },
     "execution_count": 18,
     "metadata": {},
     "output_type": "execute_result"
    }
   ],
   "source": [
    "candidates = asm.assemble_circular()\n",
    "candidates"
   ]
  },
  {
   "cell_type": "code",
   "execution_count": 19,
   "metadata": {},
   "outputs": [],
   "source": [
    "candidate = candidates[0]"
   ]
  },
  {
   "cell_type": "code",
   "execution_count": 20,
   "metadata": {},
   "outputs": [
    {
     "data": {
      "text/html": [
       "<pre> -|pLBL2_lin|47\n",
       "|            \\/\n",
       "|            /\\\n",
       "|            47|1410bp_PCR_prod|47\n",
       "|                               \\/\n",
       "|                               /\\\n",
       "|                               47-\n",
       "|                                  |\n",
       " ----------------------------------</pre>"
      ],
      "text/plain": [
       "Contig(o8280)"
      ]
     },
     "execution_count": 20,
     "metadata": {},
     "output_type": "execute_result"
    }
   ],
   "source": [
    "candidate"
   ]
  },
  {
   "cell_type": "code",
   "execution_count": 21,
   "metadata": {
    "collapsed": false,
    "jupyter": {
     "outputs_hidden": false
    }
   },
   "outputs": [],
   "source": [
    "pLBL2_PiXI = candidate.synced(pLBL2)"
   ]
  },
  {
   "cell_type": "code",
   "execution_count": 22,
   "metadata": {
    "collapsed": false,
    "jupyter": {
     "outputs_hidden": false
    }
   },
   "outputs": [
    {
     "data": {
      "text/plain": [
       "Dseqrecord(o8280)"
      ]
     },
     "execution_count": 22,
     "metadata": {},
     "output_type": "execute_result"
    }
   ],
   "source": [
    "pLBL2_PiXI"
   ]
  },
  {
   "cell_type": "code",
   "execution_count": 23,
   "metadata": {},
   "outputs": [
    {
     "data": {
      "text/plain": [
       "9QxBJTaIBCCAbMfKLyeedZ73zTE"
      ]
     },
     "execution_count": 23,
     "metadata": {},
     "output_type": "execute_result"
    }
   ],
   "source": [
    "pLBL2_PiXI.cseguid()"
   ]
  },
  {
   "cell_type": "code",
   "execution_count": 24,
   "metadata": {},
   "outputs": [],
   "source": [
    "assert pLBL2_PiXI.cseguid() == \"9QxBJTaIBCCAbMfKLyeedZ73zTE\""
   ]
  },
  {
   "cell_type": "code",
   "execution_count": 25,
   "metadata": {},
   "outputs": [],
   "source": [
    "pLBL2_PiXI.locus = \"pLBL2_PiXI\""
   ]
  },
  {
   "cell_type": "code",
   "execution_count": 26,
   "metadata": {
    "collapsed": false,
    "jupyter": {
     "outputs_hidden": false
    }
   },
   "outputs": [
    {
     "data": {
      "text/html": [
       "<font face=monospace><a href='pLBL2_PiXI.gb' target='_blank'>pLBL2_PiXI.gb</a></font><br>"
      ]
     },
     "metadata": {},
     "output_type": "display_data"
    }
   ],
   "source": [
    "pLBL2_PiXI.write(\"pLBL2_PiXI.gb\")"
   ]
  }
 ],
 "metadata": {
  "kernelspec": {
   "display_name": "Python [conda env:bjorn37]",
   "language": "python",
   "name": "conda-env-bjorn37-py"
  },
  "language_info": {
   "codemirror_mode": {
    "name": "ipython",
    "version": 3
   },
   "file_extension": ".py",
   "mimetype": "text/x-python",
   "name": "python",
   "nbconvert_exporter": "python",
   "pygments_lexer": "ipython3",
   "version": "3.8.5"
  }
 },
 "nbformat": 4,
 "nbformat_minor": 4
}
