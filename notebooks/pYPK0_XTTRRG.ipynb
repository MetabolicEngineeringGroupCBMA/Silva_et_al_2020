{
 "cells": [
  {
   "cell_type": "markdown",
   "metadata": {},
   "source": [
    "# pYPK0_XTTRRG\n",
    "\n",
    "The pYPK0_XTTRRG vector expresses the follwing six genes:\n",
    "\n",
    "- [XKS1](https://www.yeastgenome.org/locus/XKS1)\n",
    "- [TAL1](https://www.yeastgenome.org/locus/TAL1)\n",
    "- [TKL1](https://www.yeastgenome.org/locus/TKL1)\n",
    "- [RPE1](https://www.yeastgenome.org/locus/RPE1)\n",
    "- [RKI1](https://www.yeastgenome.org/locus/RKI1)\n",
    "- [GXF1](https://www.ncbi.nlm.nih.gov/nuccore/AJ937350)\n",
    "\n",
    "These genes constitute a partial D-xylose metabolic pathway for _S. cerevisiae_. The missing step is the isomerization\n",
    "of D-xylose into D-xylulose.\n",
    "\n",
    "Additional expression of a xylose isomerase should enable growth with D-xylose as the sole carbon source.\n",
    "\n",
    "cseguid =`YzEjELBF9xMs9G2s561-rLLBmpg`\n",
    "length  = 19096bp"
   ]
  },
  {
   "cell_type": "code",
   "execution_count": 1,
   "metadata": {},
   "outputs": [],
   "source": [
    "from pydna.all import *"
   ]
  },
  {
   "cell_type": "markdown",
   "metadata": {},
   "source": [
    "The pYPK0_T vector expresses TKL1, RPE1, RKI1 and GXF1"
   ]
  },
  {
   "cell_type": "code",
   "execution_count": 2,
   "metadata": {},
   "outputs": [],
   "source": [
    "pYPK0_T = read(download_text(\"https://raw.githubusercontent.com/BjornFJohansson/ypk-xylose-pathways/master/notebooks/pMEC1137.gb\"))"
   ]
  },
  {
   "cell_type": "code",
   "execution_count": 3,
   "metadata": {},
   "outputs": [
    {
     "data": {
      "text/plain": [
       "(Dseqrecord(o14484), 6E0AGs78NqyqjtuAWRWhkIGlLnI)"
      ]
     },
     "execution_count": 3,
     "metadata": {},
     "output_type": "execute_result"
    }
   ],
   "source": [
    "pYPK0_T, pYPK0_T.cseguid()"
   ]
  },
  {
   "cell_type": "markdown",
   "metadata": {},
   "source": [
    "The pYPK0_FBA1_ScTAL1_PDC1 vector has a TAL1 expression cassette"
   ]
  },
  {
   "cell_type": "code",
   "execution_count": 4,
   "metadata": {},
   "outputs": [],
   "source": [
    "pYPK0_FBA1_ScTAL1_PDC1 = read(download_text(\"https://raw.github.com/BjornFJohansson/ypk-xylose-pathways/master/notebooks/pYPK0_FBA1_ScTAL1_PDC1.gb\"))"
   ]
  },
  {
   "cell_type": "code",
   "execution_count": 5,
   "metadata": {},
   "outputs": [
    {
     "data": {
      "text/plain": [
       "(Dseqrecord(o8374), z56XvyucVzpo2iNPYy5TbXbxWlk)"
      ]
     },
     "execution_count": 5,
     "metadata": {},
     "output_type": "execute_result"
    }
   ],
   "source": [
    "pYPK0_FBA1_ScTAL1_PDC1, pYPK0_FBA1_ScTAL1_PDC1.cseguid()"
   ]
  },
  {
   "cell_type": "markdown",
   "metadata": {},
   "source": [
    "The pYPK0_PGI1_ScXKS1_FBA1 has a XKS1 expression cassette."
   ]
  },
  {
   "cell_type": "code",
   "execution_count": 6,
   "metadata": {},
   "outputs": [],
   "source": [
    "pYPK0_PGI1_ScXKS1_FBA1 = read(download_text(\"https://raw.github.com/BjornFJohansson/ypk-xylose-pathways/master/notebooks/pYPK0_PGI1_ScXKS1_FBA1.gb\"))"
   ]
  },
  {
   "cell_type": "code",
   "execution_count": 7,
   "metadata": {},
   "outputs": [
    {
     "data": {
      "text/plain": [
       "(Dseqrecord(o9213), tDAwCS0RGOllmBII5oQTORuFXpw)"
      ]
     },
     "execution_count": 7,
     "metadata": {},
     "output_type": "execute_result"
    }
   ],
   "source": [
    "pYPK0_PGI1_ScXKS1_FBA1, pYPK0_PGI1_ScXKS1_FBA1.cseguid()"
   ]
  },
  {
   "cell_type": "markdown",
   "metadata": {},
   "source": [
    "The pYPK0_T pathway is linearized upstream of the promoter of the first gene (TKL1) using NotI"
   ]
  },
  {
   "cell_type": "code",
   "execution_count": 8,
   "metadata": {},
   "outputs": [],
   "source": [
    "from Bio.Restriction import NotI"
   ]
  },
  {
   "cell_type": "code",
   "execution_count": 9,
   "metadata": {},
   "outputs": [],
   "source": [
    "pYPK0_T_Not = pYPK0_T.linearize(NotI)                  "
   ]
  },
  {
   "cell_type": "code",
   "execution_count": 10,
   "metadata": {},
   "outputs": [
    {
     "data": {
      "text/plain": [
       "Dseqrecord(-14488)"
      ]
     },
     "execution_count": 10,
     "metadata": {},
     "output_type": "execute_result"
    }
   ],
   "source": [
    "pYPK0_T_Not"
   ]
  },
  {
   "cell_type": "markdown",
   "metadata": {},
   "source": [
    "The primers below are specific for the [Yeast Pathway Kit](https://pubmed.ncbi.nlm.nih.gov/26916955/)."
   ]
  },
  {
   "cell_type": "code",
   "execution_count": 11,
   "metadata": {},
   "outputs": [],
   "source": [
    "p567,p577,p468,p467,p568,p578,p775,p778 = parse_primers(''' >567_pCAPsAjiIF (23-mer)\n",
    "                                                            GTcggctgcaggtcactagtgag\n",
    "                                                            >577_crp585-557 (29-mer)\n",
    "                                                            gttctgatcctcgagcatcttaagaattc\n",
    "\n",
    "                                                            >468_pCAPs_release_fw (25-mer)\n",
    "                                                            gtcgaggaacgccaggttgcccact\n",
    "                                                            >467_pCAPs_release_re (31-mer) \n",
    "                                                            ATTTAAatcctgatgcgtttgtctgcacaga\n",
    "\n",
    "                                                            >568_pCAPsAjiIR (22-mer) \n",
    "                                                            GTGCcatctgtgcagacaaacg\n",
    "                                                            >578_crp42-70 (29-mer)\n",
    "                                                            gttcttgtctcattgccacattcataagt\n",
    "\n",
    "                                                            >775_tp_ZraI_fwd (18-mer)\n",
    "                                                            gcggccgctgacTTAAAT\n",
    "                                                            >778_tp_Eco32I_rev (20-mer)\n",
    "                                                            ggtaaatccggatTAATTAA''')"
   ]
  },
  {
   "cell_type": "markdown",
   "metadata": {},
   "source": [
    "The first gene in the sequence is amplified with 577 and 778. This gives the PCR product a region of homology with the linear pYPK0_T vector. "
   ]
  },
  {
   "cell_type": "code",
   "execution_count": 12,
   "metadata": {},
   "outputs": [],
   "source": [
    "xk = pcr(p577, p778, pYPK0_PGI1_ScXKS1_FBA1)      # xk pcr product"
   ]
  },
  {
   "cell_type": "code",
   "execution_count": 13,
   "metadata": {},
   "outputs": [
    {
     "data": {
      "text/html": [
       "Amplicon(3713)"
      ],
      "text/plain": [
       "Amplicon(3713)"
      ]
     },
     "execution_count": 13,
     "metadata": {},
     "output_type": "execute_result"
    }
   ],
   "source": [
    "xk"
   ]
  },
  {
   "cell_type": "code",
   "execution_count": 14,
   "metadata": {},
   "outputs": [],
   "source": [
    "xk.name=\"XKS1\""
   ]
  },
  {
   "cell_type": "markdown",
   "metadata": {},
   "source": [
    "The second gene in the sequence is amplified with 775 and 778. This gives the PCR product including the promoter gene and terminator but very little additional sequence in each end."
   ]
  },
  {
   "cell_type": "code",
   "execution_count": 15,
   "metadata": {},
   "outputs": [],
   "source": [
    "tal = pcr(p775, p778, pYPK0_FBA1_ScTAL1_PDC1)   # tal pcr product"
   ]
  },
  {
   "cell_type": "code",
   "execution_count": 16,
   "metadata": {},
   "outputs": [
    {
     "data": {
      "text/html": [
       "Amplicon(2718)"
      ],
      "text/plain": [
       "Amplicon(2718)"
      ]
     },
     "execution_count": 16,
     "metadata": {},
     "output_type": "execute_result"
    }
   ],
   "source": [
    "tal"
   ]
  },
  {
   "cell_type": "code",
   "execution_count": 17,
   "metadata": {},
   "outputs": [],
   "source": [
    "tal.name = \"TAL\""
   ]
  },
  {
   "cell_type": "markdown",
   "metadata": {},
   "source": [
    "The three linar fragments were recombined in yeast by homologous recombination. "
   ]
  },
  {
   "cell_type": "code",
   "execution_count": 18,
   "metadata": {},
   "outputs": [
    {
     "data": {
      "text/plain": [
       "Assembly\n",
       "fragments..: 14488bp 3713bp 2718bp\n",
       "limit(bp)..: 162\n",
       "G.nodes....: 6\n",
       "algorithm..: common_sub_strings"
      ]
     },
     "execution_count": 18,
     "metadata": {},
     "output_type": "execute_result"
    }
   ],
   "source": [
    "asm = Assembly((pYPK0_T_Not, xk, tal), limit = 162)        \n",
    "asm"
   ]
  },
  {
   "cell_type": "code",
   "execution_count": 19,
   "metadata": {},
   "outputs": [
    {
     "data": {
      "text/plain": [
       "[Contig(o19096), Contig(o19096)]"
      ]
     },
     "execution_count": 19,
     "metadata": {},
     "output_type": "execute_result"
    }
   ],
   "source": [
    "candidates = asm.assemble_circular()\n",
    "candidates"
   ]
  },
  {
   "cell_type": "code",
   "execution_count": 20,
   "metadata": {},
   "outputs": [
    {
     "data": {
      "text/html": [
       "<pre> -|pMEC1137_lin|162\n",
       "|               \\/\n",
       "|               /\\\n",
       "|               162|XKS1|644\n",
       "|                        \\/\n",
       "|                        /\\\n",
       "|                        644|TAL|969\n",
       "|                                \\/\n",
       "|                                /\\\n",
       "|                                969-\n",
       "|                                   |\n",
       " -----------------------------------</pre>"
      ],
      "text/plain": [
       "Contig(o19096)"
      ]
     },
     "execution_count": 20,
     "metadata": {},
     "output_type": "execute_result"
    }
   ],
   "source": [
    "candidate=candidates[0]\n",
    "candidate"
   ]
  },
  {
   "cell_type": "code",
   "execution_count": 21,
   "metadata": {},
   "outputs": [],
   "source": [
    "pYPKa = read(download_text(\"https://raw.github.com/BjornFJohansson/ypk-xylose-pathways/master/notebooks/pYPKa.gb\"))"
   ]
  },
  {
   "cell_type": "code",
   "execution_count": 22,
   "metadata": {},
   "outputs": [],
   "source": [
    "pYPK0_XTTRRG = candidate.synced(pYPKa)"
   ]
  },
  {
   "cell_type": "code",
   "execution_count": 23,
   "metadata": {},
   "outputs": [
    {
     "data": {
      "text/plain": [
       "Dseqrecord(o19096)"
      ]
     },
     "execution_count": 23,
     "metadata": {},
     "output_type": "execute_result"
    }
   ],
   "source": [
    "pYPK0_XTTRRG"
   ]
  },
  {
   "cell_type": "code",
   "execution_count": 24,
   "metadata": {},
   "outputs": [
    {
     "data": {
      "text/plain": [
       "YzEjELBF9xMs9G2s561-rLLBmpg"
      ]
     },
     "execution_count": 24,
     "metadata": {},
     "output_type": "execute_result"
    }
   ],
   "source": [
    "pYPK0_XTTRRG.cseguid()"
   ]
  },
  {
   "cell_type": "code",
   "execution_count": 25,
   "metadata": {},
   "outputs": [],
   "source": [
    "assert pYPK0_XTTRRG.cseguid() == \"YzEjELBF9xMs9G2s561-rLLBmpg\""
   ]
  },
  {
   "cell_type": "code",
   "execution_count": 26,
   "metadata": {},
   "outputs": [],
   "source": [
    "assert len(pYPK0_XTTRRG) == 19096"
   ]
  },
  {
   "cell_type": "code",
   "execution_count": 27,
   "metadata": {},
   "outputs": [
    {
     "data": {
      "text/plain": [
       "cSEGUID_YzEjELBF9xMs9G2s561-rLLBmpg"
      ]
     },
     "execution_count": 27,
     "metadata": {},
     "output_type": "execute_result"
    }
   ],
   "source": [
    "pYPK0_XTTRRG.stamp()"
   ]
  },
  {
   "cell_type": "code",
   "execution_count": 28,
   "metadata": {},
   "outputs": [
    {
     "data": {
      "text/html": [
       "<font face=monospace><a href='pYPK0_XTTRRG.gb' target='_blank'>pYPK0_XTTRRG.gb</a></font><br>"
      ]
     },
     "metadata": {},
     "output_type": "display_data"
    }
   ],
   "source": [
    "pYPK0_XTTRRG.write(\"pYPK0_XTTRRG.gb\")"
   ]
  }
 ],
 "metadata": {
  "kernelspec": {
   "display_name": "Python [conda env:bjorn37]",
   "language": "python",
   "name": "conda-env-bjorn37-py"
  },
  "language_info": {
   "codemirror_mode": {
    "name": "ipython",
    "version": 3
   },
   "file_extension": ".py",
   "mimetype": "text/x-python",
   "name": "python",
   "nbconvert_exporter": "python",
   "pygments_lexer": "ipython3",
   "version": "3.8.5"
  }
 },
 "nbformat": 4,
 "nbformat_minor": 4
}
