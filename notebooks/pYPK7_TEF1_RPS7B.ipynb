{
 "cells": [
  {
   "cell_type": "markdown",
   "metadata": {},
   "source": [
    "# Construction of the pYPK7_TEF1_RPS7B expression vector\n",
    "\n",
    "The pLBL2 is a yeast/E. coli shuttle vector for expression of genes in S. cerevisiae. \n",
    "The expressed gene is controlled by the TEF1 promoter and RPS7B terminator.\n",
    "\n",
    "The vector has:\n",
    "- a pUC origin of replication\n",
    "- an ampiccilin marker\n",
    "- a kanMX4 hygromycin marker\n",
    "- a 2µ origin of replication\n",
    "\n",
    "A single AjiI site was removed from the 2µ sequence in the construction process.\n",
    "\n",
    "cSEGUID = VuKjAmG4X02Zo7pJAK_ncuxOKas"
   ]
  },
  {
   "cell_type": "code",
   "execution_count": 1,
   "metadata": {
    "collapsed": true
   },
   "outputs": [],
   "source": [
    "from pydna.all import *"
   ]
  },
  {
   "cell_type": "code",
   "execution_count": 2,
   "metadata": {
    "collapsed": true
   },
   "outputs": [],
   "source": [
    "p577, p775, p468, p567, p568, p467, p778, p578  =        parse_primers('''>577_crp585-557 (29-mer)\n",
    "                                                                          gttctgatcctcgagcatcttaagaattc\n",
    "                                                                          >775_tp_ZraI_fwd (18-mer)\n",
    "                                                                          gcggccgctgacTTAAAT\n",
    "                                                                          >468_pCAPs_release_fw (25-mer) 79.66\n",
    "                                                                          gtcgaggaacgccaggttgcccact\n",
    "                                                                          >567_pCAPsAjiIF (23-mer)\n",
    "                                                                          GTcggctgcaggtcactagtgag\n",
    "                                                                          >568_pCAPsAjiIR (22-mer)\n",
    "                                                                          GTGCcatctgtgcagacaaacg\n",
    "                                                                          >467_pCAPs_release_re (31-mer)\n",
    "                                                                          ATTTAAatcctgatgcgtttgtctgcacaga\n",
    "                                                                          >778_tp_Eco32I_rev (20-mer)\n",
    "                                                                          ggtaaatccggatTAATTAA\n",
    "                                                                          >578_crp42-70 (29-mer)\n",
    "                                                                          gttcttgtctcattgccacattcataagt ''')"
   ]
  },
  {
   "cell_type": "code",
   "execution_count": 3,
   "metadata": {
    "collapsed": true
   },
   "outputs": [],
   "source": [
    "pYPKa_Z_TEF1 =  read(download_text(\"https://raw.github.com/BjornFJohansson/ypk-xylose-pathways/master/notebooks/pYPKa_Z_TEF1.gb\"))"
   ]
  },
  {
   "cell_type": "code",
   "execution_count": 4,
   "metadata": {
    "collapsed": true
   },
   "outputs": [],
   "source": [
    "pYPKa_E_RPS7B = read(download_text(\"https://raw.github.com/BjornFJohansson/pYPKa_ZE//master/notebooks/pYPKa_E_RPS7B.gb\"))"
   ]
  },
  {
   "cell_type": "code",
   "execution_count": 5,
   "metadata": {
    "collapsed": true
   },
   "outputs": [],
   "source": [
    "pYPKp7 = read(download_text(\"https://raw.github.com/BjornFJohansson/ypk-xylose-pathways/master/notebooks/pYPKp7.gb\"))"
   ]
  },
  {
   "cell_type": "code",
   "execution_count": 6,
   "metadata": {},
   "outputs": [],
   "source": [
    "first  = pcr( p577, p467, pYPKa_Z_TEF1)"
   ]
  },
  {
   "cell_type": "code",
   "execution_count": 7,
   "metadata": {},
   "outputs": [],
   "source": [
    "last   = pcr( p468, p578, pYPKa_E_RPS7B)"
   ]
  },
  {
   "cell_type": "code",
   "execution_count": 8,
   "metadata": {},
   "outputs": [],
   "source": [
    "from Bio.Restriction import ZraI"
   ]
  },
  {
   "cell_type": "code",
   "execution_count": 9,
   "metadata": {},
   "outputs": [],
   "source": [
    "pYPKp7_Z = pYPKp7.linearize(ZraI)"
   ]
  },
  {
   "cell_type": "code",
   "execution_count": 10,
   "metadata": {},
   "outputs": [
    {
     "data": {
      "text/plain": [
       "Assembly\n",
       "fragments..: 6180bp 848bp 985bp\n",
       "limit(bp)..: 87\n",
       "G.nodes....: 6\n",
       "algorithm..: common_sub_strings"
      ]
     },
     "execution_count": 10,
     "metadata": {},
     "output_type": "execute_result"
    }
   ],
   "source": [
    "asm = Assembly((pYPKp7_Z, first, last), limit=87)\n",
    "asm"
   ]
  },
  {
   "cell_type": "code",
   "execution_count": 11,
   "metadata": {},
   "outputs": [
    {
     "data": {
      "text/plain": [
       "[Contig(o7541), Contig(o7541)]"
      ]
     },
     "execution_count": 11,
     "metadata": {},
     "output_type": "execute_result"
    }
   ],
   "source": [
    "candidates = asm.assemble_circular()\n",
    "candidates"
   ]
  },
  {
   "cell_type": "code",
   "execution_count": 12,
   "metadata": {},
   "outputs": [
    {
     "data": {
      "text/html": [
       "<pre> -|pYPKp7_lin|124\n",
       "|             \\/\n",
       "|             /\\\n",
       "|             124|848bp_PCR_prod|87\n",
       "|                                \\/\n",
       "|                                /\\\n",
       "|                                87|985bp_PCR_prod|242\n",
       "|                                                  \\/\n",
       "|                                                  /\\\n",
       "|                                                  242-\n",
       "|                                                     |\n",
       " -----------------------------------------------------</pre>"
      ],
      "text/plain": [
       "Contig(o7541)"
      ]
     },
     "execution_count": 12,
     "metadata": {},
     "output_type": "execute_result"
    }
   ],
   "source": [
    "candidate = candidates[0]\n",
    "candidate"
   ]
  },
  {
   "cell_type": "code",
   "execution_count": 13,
   "metadata": {},
   "outputs": [],
   "source": [
    "pYPK7_TEF1_RPS7B = candidate.synced(pYPKp7)"
   ]
  },
  {
   "cell_type": "code",
   "execution_count": 14,
   "metadata": {},
   "outputs": [],
   "source": [
    "assert pYPK7_TEF1_RPS7B.cseguid() == \"VuKjAmG4X02Zo7pJAK_ncuxOKas\""
   ]
  },
  {
   "cell_type": "code",
   "execution_count": 15,
   "metadata": {},
   "outputs": [
    {
     "data": {
      "text/plain": [
       "cSEGUID_VuKjAmG4X02Zo7pJAK_ncuxOKas"
      ]
     },
     "execution_count": 15,
     "metadata": {},
     "output_type": "execute_result"
    }
   ],
   "source": [
    "pYPK7_TEF1_RPS7B.stamp()"
   ]
  },
  {
   "cell_type": "code",
   "execution_count": 16,
   "metadata": {},
   "outputs": [],
   "source": [
    "pYPK7_TEF1_RPS7B.locus = \"pYPK7_TEF1_RPS7B\""
   ]
  },
  {
   "cell_type": "code",
   "execution_count": 17,
   "metadata": {},
   "outputs": [
    {
     "data": {
      "text/html": [
       "<font face=monospace><a href='pYPK7_TEF1_RPS7B.gb' target='_blank'>pYPK7_TEF1_RPS7B.gb</a></font><br>"
      ]
     },
     "metadata": {},
     "output_type": "display_data"
    }
   ],
   "source": [
    "pYPK7_TEF1_RPS7B.write()"
   ]
  }
 ],
 "metadata": {
  "anaconda-cloud": {},
  "kernelspec": {
   "display_name": "Python [conda env:bjorn37]",
   "language": "python",
   "name": "conda-env-bjorn37-py"
  },
  "language_info": {
   "codemirror_mode": {
    "name": "ipython",
    "version": 3
   },
   "file_extension": ".py",
   "mimetype": "text/x-python",
   "name": "python",
   "nbconvert_exporter": "python",
   "pygments_lexer": "ipython3",
   "version": "3.7.2"
  }
 },
 "nbformat": 4,
 "nbformat_minor": 2
}
