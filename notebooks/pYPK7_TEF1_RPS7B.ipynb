{
 "cells": [
  {
   "cell_type": "markdown",
   "metadata": {},
   "source": [
    "# Construction of the pYPK7_TEF1_RPS7B expression vector\n",
    "\n",
    "The pYPK7_TEF1_RPS7B is a _Saccharomyces cerevisiae_/_E. coli_ shuttle vector for expression of genes in S. cerevisiae. \n",
    "The expressed gene is controlled by the TEF1 promoter and RPS7B terminator.\n",
    "\n",
    "- The TEF1 promoter is the intergenic sequence between MRL1(YPR079W) and TEF1(YPR080W).\n",
    "- The RPS7B terminator is the intergenic sequence between YNL095C and RPS7B(YNL096C).\n",
    "\n",
    "Additionally, the vector has the following features:\n",
    "\n",
    "- a pUC origin of replication\n",
    "- an ampicillin marker\n",
    "- a kanMX4 geneticin marker\n",
    "- a 2µ origin of replication\n",
    "\n",
    "The python package [pydna](https://github.com/BjornFJohansson/pydna) was used to simulate the cloning."
   ]
  },
  {
   "cell_type": "code",
   "execution_count": 1,
   "metadata": {
    "execution": {
     "iopub.execute_input": "2021-09-19T20:33:22.708891Z",
     "iopub.status.busy": "2021-09-19T20:33:22.699807Z",
     "iopub.status.idle": "2021-09-19T20:33:23.212915Z",
     "shell.execute_reply": "2021-09-19T20:33:23.213309Z"
    }
   },
   "outputs": [],
   "source": [
    "from pydna.all import *"
   ]
  },
  {
   "cell_type": "markdown",
   "metadata": {},
   "source": [
    "The eight primers below are standard primers for the [yeast pathway kit](https://pubmed.ncbi.nlm.nih.gov/26916955)"
   ]
  },
  {
   "cell_type": "code",
   "execution_count": 2,
   "metadata": {
    "execution": {
     "iopub.execute_input": "2021-09-19T20:33:23.223214Z",
     "iopub.status.busy": "2021-09-19T20:33:23.221028Z",
     "iopub.status.idle": "2021-09-19T20:33:23.232339Z",
     "shell.execute_reply": "2021-09-19T20:33:23.231772Z"
    }
   },
   "outputs": [],
   "source": [
    "p577, p775, p468, p567, p568, p467, p778, p578  =        parse_primers('''>577_crp585-557 (29-mer)\n",
    "                                                                          gttctgatcctcgagcatcttaagaattc\n",
    "                                                                          >775_tp_ZraI_fwd (18-mer)\n",
    "                                                                          gcggccgctgacTTAAAT\n",
    "                                                                          >468_pCAPs_release_fw (25-mer) 79.66\n",
    "                                                                          gtcgaggaacgccaggttgcccact\n",
    "                                                                          >567_pCAPsAjiIF (23-mer)\n",
    "                                                                          GTcggctgcaggtcactagtgag\n",
    "                                                                          >568_pCAPsAjiIR (22-mer)\n",
    "                                                                          GTGCcatctgtgcagacaaacg\n",
    "                                                                          >467_pCAPs_release_re (31-mer)\n",
    "                                                                          ATTTAAatcctgatgcgtttgtctgcacaga\n",
    "                                                                          >778_tp_Eco32I_rev (20-mer)\n",
    "                                                                          ggtaaatccggatTAATTAA\n",
    "                                                                          >578_crp42-70 (29-mer)\n",
    "                                                                          gttcttgtctcattgccacattcataagt ''')"
   ]
  },
  {
   "cell_type": "markdown",
   "metadata": {},
   "source": [
    "The [pYPKa_Z_TEF1](https://github.com/MetabolicEngineeringGroupCBMA/ypk-xylose-pathways/blob/master/notebooks/pYPKa_Z_TEF1.gb) vector contains the promoter."
   ]
  },
  {
   "cell_type": "code",
   "execution_count": 3,
   "metadata": {
    "execution": {
     "iopub.execute_input": "2021-09-19T20:33:23.236929Z",
     "iopub.status.busy": "2021-09-19T20:33:23.235012Z",
     "iopub.status.idle": "2021-09-19T20:33:23.905476Z",
     "shell.execute_reply": "2021-09-19T20:33:23.905834Z"
    }
   },
   "outputs": [
    {
     "data": {
      "text/plain": [
       "(Dseqrecord(o3721), inRfvhISKV2ATGWH7MRU60tr5sk)"
      ]
     },
     "execution_count": 3,
     "metadata": {},
     "output_type": "execute_result"
    }
   ],
   "source": [
    "pYPKa_Z_TEF1 =  read(download_text(\"https://raw.github.com/MetabolicEngineeringGroupCBMA/ypk-xylose-pathways/master/notebooks/pYPKa_Z_TEF1.gb\"))\n",
    "pYPKa_Z_TEF1, pYPKa_Z_TEF1.cseguid()"
   ]
  },
  {
   "cell_type": "markdown",
   "metadata": {},
   "source": [
    "The [pYPKa_E_RPS7B](https://github.com/MetabolicEngineeringGroupCBMA/pYPKa_ZE/blob/master/notebooks/pYPKa_E_RPS7B.gb) contains the terminator."
   ]
  },
  {
   "cell_type": "code",
   "execution_count": 4,
   "metadata": {
    "execution": {
     "iopub.execute_input": "2021-09-19T20:33:23.911745Z",
     "iopub.status.busy": "2021-09-19T20:33:23.910994Z",
     "iopub.status.idle": "2021-09-19T20:33:24.042856Z",
     "shell.execute_reply": "2021-09-19T20:33:24.042401Z"
    }
   },
   "outputs": [
    {
     "data": {
      "text/plain": [
       "(Dseqrecord(o3737), eQrot5NFmMjgV23mD_5DXsCoUA4)"
      ]
     },
     "execution_count": 4,
     "metadata": {},
     "output_type": "execute_result"
    }
   ],
   "source": [
    "pYPKa_E_RPS7B = read(download_text(\"https://raw.githubusercontent.com/MetabolicEngineeringGroupCBMA/YeastPathwayKit/master/sequences/pYPKa_E_RPS7B.gb\"))\n",
    "pYPKa_E_RPS7B, pYPKa_E_RPS7B.cseguid()"
   ]
  },
  {
   "cell_type": "markdown",
   "metadata": {},
   "source": [
    "The [pYPKp7](https://github.com/MetabolicEngineeringGroupCBMA/ypk-xylose-pathways/blob/master/notebooks/pYPKp7.ipynb) vector contains the rest of the features."
   ]
  },
  {
   "cell_type": "code",
   "execution_count": 5,
   "metadata": {
    "execution": {
     "iopub.execute_input": "2021-09-19T20:33:24.048906Z",
     "iopub.status.busy": "2021-09-19T20:33:24.048241Z",
     "iopub.status.idle": "2021-09-19T20:33:24.394467Z",
     "shell.execute_reply": "2021-09-19T20:33:24.393947Z"
    }
   },
   "outputs": [
    {
     "data": {
      "text/plain": [
       "(Dseqrecord(o6180), w8zCE05nnVaKMSe-K0q29kjVt4k)"
      ]
     },
     "execution_count": 5,
     "metadata": {},
     "output_type": "execute_result"
    }
   ],
   "source": [
    "pYPKp7 = read(download_text(\"https://raw.github.com/MetabolicEngineeringGroupCBMA/ypk-xylose-pathways/master/notebooks/pYPKp7.gb\"))\n",
    "pYPKp7, pYPKp7.cseguid()"
   ]
  },
  {
   "cell_type": "markdown",
   "metadata": {},
   "source": [
    "The promoter is amplified from the pYPKa_Z_TEF1 vector."
   ]
  },
  {
   "cell_type": "code",
   "execution_count": 6,
   "metadata": {
    "execution": {
     "iopub.execute_input": "2021-09-19T20:33:24.402057Z",
     "iopub.status.busy": "2021-09-19T20:33:24.401482Z",
     "iopub.status.idle": "2021-09-19T20:33:24.408436Z",
     "shell.execute_reply": "2021-09-19T20:33:24.407832Z"
    }
   },
   "outputs": [],
   "source": [
    "promoter  = pcr( p577, p467, pYPKa_Z_TEF1)"
   ]
  },
  {
   "cell_type": "code",
   "execution_count": 7,
   "metadata": {
    "execution": {
     "iopub.execute_input": "2021-09-19T20:33:24.413071Z",
     "iopub.status.busy": "2021-09-19T20:33:24.412327Z",
     "iopub.status.idle": "2021-09-19T20:33:24.414503Z",
     "shell.execute_reply": "2021-09-19T20:33:24.415048Z"
    }
   },
   "outputs": [],
   "source": [
    "promoter.name = \"promoter\""
   ]
  },
  {
   "cell_type": "markdown",
   "metadata": {},
   "source": [
    "The terminator is amplified from the pYPKa_E_RPS7B vector."
   ]
  },
  {
   "cell_type": "code",
   "execution_count": 8,
   "metadata": {
    "execution": {
     "iopub.execute_input": "2021-09-19T20:33:24.429008Z",
     "iopub.status.busy": "2021-09-19T20:33:24.428573Z",
     "iopub.status.idle": "2021-09-19T20:33:24.430410Z",
     "shell.execute_reply": "2021-09-19T20:33:24.430844Z"
    }
   },
   "outputs": [],
   "source": [
    "terminator   = pcr( p468, p578, pYPKa_E_RPS7B)"
   ]
  },
  {
   "cell_type": "code",
   "execution_count": 9,
   "metadata": {
    "execution": {
     "iopub.execute_input": "2021-09-19T20:33:24.434595Z",
     "iopub.status.busy": "2021-09-19T20:33:24.434014Z",
     "iopub.status.idle": "2021-09-19T20:33:24.436023Z",
     "shell.execute_reply": "2021-09-19T20:33:24.436504Z"
    }
   },
   "outputs": [],
   "source": [
    "terminator.name = \"terminator\""
   ]
  },
  {
   "cell_type": "markdown",
   "metadata": {},
   "source": [
    "The pYPKp7 vector is linearized with [ZraI](http://rebase.neb.com/rebase/enz/ZraI.html)."
   ]
  },
  {
   "cell_type": "code",
   "execution_count": 10,
   "metadata": {
    "execution": {
     "iopub.execute_input": "2021-09-19T20:33:24.440986Z",
     "iopub.status.busy": "2021-09-19T20:33:24.440140Z",
     "iopub.status.idle": "2021-09-19T20:33:24.442874Z",
     "shell.execute_reply": "2021-09-19T20:33:24.442268Z"
    }
   },
   "outputs": [],
   "source": [
    "from Bio.Restriction import ZraI"
   ]
  },
  {
   "cell_type": "code",
   "execution_count": 11,
   "metadata": {
    "execution": {
     "iopub.execute_input": "2021-09-19T20:33:24.451250Z",
     "iopub.status.busy": "2021-09-19T20:33:24.450385Z",
     "iopub.status.idle": "2021-09-19T20:33:24.453409Z",
     "shell.execute_reply": "2021-09-19T20:33:24.452798Z"
    }
   },
   "outputs": [],
   "source": [
    "pYPKp7_Z = pYPKp7.linearize(ZraI)"
   ]
  },
  {
   "cell_type": "markdown",
   "metadata": {},
   "source": [
    "The three linar DNA fragments are assembled by homologous recombination."
   ]
  },
  {
   "cell_type": "code",
   "execution_count": 12,
   "metadata": {
    "execution": {
     "iopub.execute_input": "2021-09-19T20:33:24.512057Z",
     "iopub.status.busy": "2021-09-19T20:33:24.486698Z",
     "iopub.status.idle": "2021-09-19T20:33:24.784454Z",
     "shell.execute_reply": "2021-09-19T20:33:24.783999Z"
    }
   },
   "outputs": [
    {
     "data": {
      "text/plain": [
       "Assembly\n",
       "fragments..: 6180bp 848bp 985bp\n",
       "limit(bp)..: 87\n",
       "G.nodes....: 6\n",
       "algorithm..: common_sub_strings"
      ]
     },
     "execution_count": 12,
     "metadata": {},
     "output_type": "execute_result"
    }
   ],
   "source": [
    "asm = Assembly((pYPKp7_Z, promoter, terminator), limit=87)\n",
    "asm"
   ]
  },
  {
   "cell_type": "code",
   "execution_count": 13,
   "metadata": {
    "execution": {
     "iopub.execute_input": "2021-09-19T20:33:24.788803Z",
     "iopub.status.busy": "2021-09-19T20:33:24.788164Z",
     "iopub.status.idle": "2021-09-19T20:33:24.975699Z",
     "shell.execute_reply": "2021-09-19T20:33:24.976090Z"
    }
   },
   "outputs": [
    {
     "data": {
      "text/plain": [
       "[Contig(o7541), Contig(o7541)]"
      ]
     },
     "execution_count": 13,
     "metadata": {},
     "output_type": "execute_result"
    }
   ],
   "source": [
    "candidates = asm.assemble_circular()\n",
    "candidates"
   ]
  },
  {
   "cell_type": "markdown",
   "metadata": {},
   "source": [
    "Two candidates are assembled, these should be identical. We pick the first one.\n",
    "We can see that the three fragments assembled by homologous sequences between 87 and 242 bp long."
   ]
  },
  {
   "cell_type": "code",
   "execution_count": 14,
   "metadata": {
    "execution": {
     "iopub.execute_input": "2021-09-19T20:33:24.980417Z",
     "iopub.status.busy": "2021-09-19T20:33:24.979684Z",
     "iopub.status.idle": "2021-09-19T20:33:24.984457Z",
     "shell.execute_reply": "2021-09-19T20:33:24.983820Z"
    }
   },
   "outputs": [
    {
     "data": {
      "text/html": [
       "<pre> -|pYPKp7_lin|124\n",
       "|             \\/\n",
       "|             /\\\n",
       "|             124|promoter|87\n",
       "|                          \\/\n",
       "|                          /\\\n",
       "|                          87|terminator|242\n",
       "|                                        \\/\n",
       "|                                        /\\\n",
       "|                                        242-\n",
       "|                                           |\n",
       " -------------------------------------------</pre>"
      ],
      "text/plain": [
       "Contig(o7541)"
      ]
     },
     "execution_count": 14,
     "metadata": {},
     "output_type": "execute_result"
    }
   ],
   "source": [
    "candidate = candidates[0]\n",
    "candidate"
   ]
  },
  {
   "cell_type": "markdown",
   "metadata": {},
   "source": [
    "We call the resulting vector pYPK7_TEF1_RPS7B and we synchronize the circular sequence so that it starts at the same position."
   ]
  },
  {
   "cell_type": "code",
   "execution_count": 15,
   "metadata": {
    "execution": {
     "iopub.execute_input": "2021-09-19T20:33:25.028147Z",
     "iopub.status.busy": "2021-09-19T20:33:24.992313Z",
     "iopub.status.idle": "2021-09-19T20:33:25.451615Z",
     "shell.execute_reply": "2021-09-19T20:33:25.451165Z"
    }
   },
   "outputs": [],
   "source": [
    "pYPK7_TEF1_RPS7B = candidate.synced(pYPKp7)"
   ]
  },
  {
   "cell_type": "code",
   "execution_count": 16,
   "metadata": {
    "execution": {
     "iopub.execute_input": "2021-09-19T20:33:25.461008Z",
     "iopub.status.busy": "2021-09-19T20:33:25.460468Z",
     "iopub.status.idle": "2021-09-19T20:33:25.462947Z",
     "shell.execute_reply": "2021-09-19T20:33:25.462403Z"
    }
   },
   "outputs": [],
   "source": [
    "assert pYPK7_TEF1_RPS7B.cseguid() == \"VuKjAmG4X02Zo7pJAK_ncuxOKas\""
   ]
  },
  {
   "cell_type": "code",
   "execution_count": 17,
   "metadata": {
    "execution": {
     "iopub.execute_input": "2021-09-19T20:33:25.475403Z",
     "iopub.status.busy": "2021-09-19T20:33:25.474610Z",
     "iopub.status.idle": "2021-09-19T20:33:25.477443Z",
     "shell.execute_reply": "2021-09-19T20:33:25.477892Z"
    }
   },
   "outputs": [
    {
     "data": {
      "text/plain": [
       "cSEGUID_VuKjAmG4X02Zo7pJAK_ncuxOKas"
      ]
     },
     "execution_count": 17,
     "metadata": {},
     "output_type": "execute_result"
    }
   ],
   "source": [
    "pYPK7_TEF1_RPS7B.stamp()"
   ]
  },
  {
   "cell_type": "code",
   "execution_count": 18,
   "metadata": {
    "execution": {
     "iopub.execute_input": "2021-09-19T20:33:25.482372Z",
     "iopub.status.busy": "2021-09-19T20:33:25.481662Z",
     "iopub.status.idle": "2021-09-19T20:33:25.484990Z",
     "shell.execute_reply": "2021-09-19T20:33:25.484247Z"
    }
   },
   "outputs": [],
   "source": [
    "pYPK7_TEF1_RPS7B.locus = \"pYPK7_TEF1_RPS7B\""
   ]
  },
  {
   "cell_type": "code",
   "execution_count": 19,
   "metadata": {
    "execution": {
     "iopub.execute_input": "2021-09-19T20:33:25.500033Z",
     "iopub.status.busy": "2021-09-19T20:33:25.498329Z",
     "iopub.status.idle": "2021-09-19T20:33:25.504875Z",
     "shell.execute_reply": "2021-09-19T20:33:25.505358Z"
    }
   },
   "outputs": [
    {
     "data": {
      "text/html": [
       "<font face=monospace><a href='pYPK7_TEF1_RPS7B.gb' target='_blank'>pYPK7_TEF1_RPS7B.gb</a></font><br>"
      ]
     },
     "metadata": {},
     "output_type": "display_data"
    }
   ],
   "source": [
    "pYPK7_TEF1_RPS7B.write()"
   ]
  }
 ],
 "metadata": {
  "anaconda-cloud": {},
  "kernelspec": {
   "display_name": "Python [conda env:bjorn37]",
   "language": "python",
   "name": "conda-env-bjorn37-py"
  },
  "language_info": {
   "codemirror_mode": {
    "name": "ipython",
    "version": 3
   },
   "file_extension": ".py",
   "mimetype": "text/x-python",
   "name": "python",
   "nbconvert_exporter": "python",
   "pygments_lexer": "ipython3",
   "version": "3.9.7"
  }
 },
 "nbformat": 4,
 "nbformat_minor": 4
}
