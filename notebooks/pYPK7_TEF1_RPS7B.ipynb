{
 "cells": [
  {
   "cell_type": "markdown",
   "metadata": {},
   "source": [
    "# Construction of the pYPK7_TEF1_RPS7B expression vector\n",
    "\n",
    "The pYPK7_TEF1_RPS7B is a _Saccharomyces cerevisiae_/_E. coli_ shuttle vector for expression of genes in S. cerevisiae. \n",
    "The expressed gene is controlled by the TEF1 promoter and RPS7B terminator.\n",
    "\n",
    "- The TEF1 promoter is the intergenic sequence between MRL1(YPR079W) and TEF1(YPR080W).\n",
    "- The RPS7B terminator is the intergenic sequence between YNL095C and RPS7B(YNL096C).\n",
    "\n",
    "Additionally, the vector has the following features:\n",
    "\n",
    "- a pUC origin of replication\n",
    "- an ampicillin marker\n",
    "- a kanMX4 geneticin marker\n",
    "- a 2µ origin of replication\n",
    "\n",
    "The python package [pydna](https://github.com/BjornFJohansson/pydna) was used to simulate the cloning."
   ]
  },
  {
   "cell_type": "code",
   "execution_count": 1,
   "metadata": {},
   "outputs": [],
   "source": [
    "from pydna.all import *"
   ]
  },
  {
   "cell_type": "markdown",
   "metadata": {},
   "source": [
    "The eight primers below are standard primers for the [yeast pathway kit](https://pubmed.ncbi.nlm.nih.gov/26916955)"
   ]
  },
  {
   "cell_type": "code",
   "execution_count": 2,
   "metadata": {},
   "outputs": [],
   "source": [
    "p577, p775, p468, p567, p568, p467, p778, p578  =        parse_primers('''>577_crp585-557 (29-mer)\n",
    "                                                                          gttctgatcctcgagcatcttaagaattc\n",
    "                                                                          >775_tp_ZraI_fwd (18-mer)\n",
    "                                                                          gcggccgctgacTTAAAT\n",
    "                                                                          >468_pCAPs_release_fw (25-mer) 79.66\n",
    "                                                                          gtcgaggaacgccaggttgcccact\n",
    "                                                                          >567_pCAPsAjiIF (23-mer)\n",
    "                                                                          GTcggctgcaggtcactagtgag\n",
    "                                                                          >568_pCAPsAjiIR (22-mer)\n",
    "                                                                          GTGCcatctgtgcagacaaacg\n",
    "                                                                          >467_pCAPs_release_re (31-mer)\n",
    "                                                                          ATTTAAatcctgatgcgtttgtctgcacaga\n",
    "                                                                          >778_tp_Eco32I_rev (20-mer)\n",
    "                                                                          ggtaaatccggatTAATTAA\n",
    "                                                                          >578_crp42-70 (29-mer)\n",
    "                                                                          gttcttgtctcattgccacattcataagt ''')"
   ]
  },
  {
   "cell_type": "markdown",
   "metadata": {},
   "source": [
    "The [pYPKa_Z_TEF1](https://github.com/BjornFJohansson/ypk-xylose-pathways/blob/master/notebooks/pYPKa_Z_TEF1.gb) vector contains the promoter."
   ]
  },
  {
   "cell_type": "code",
   "execution_count": 3,
   "metadata": {},
   "outputs": [
    {
     "data": {
      "text/plain": [
       "(Dseqrecord(o3721), inRfvhISKV2ATGWH7MRU60tr5sk)"
      ]
     },
     "execution_count": 3,
     "metadata": {},
     "output_type": "execute_result"
    }
   ],
   "source": [
    "pYPKa_Z_TEF1 =  read(download_text(\"https://raw.github.com/BjornFJohansson/ypk-xylose-pathways/master/notebooks/pYPKa_Z_TEF1.gb\"))\n",
    "pYPKa_Z_TEF1, pYPKa_Z_TEF1.cseguid()"
   ]
  },
  {
   "cell_type": "markdown",
   "metadata": {},
   "source": [
    "The [pYPKa_E_RPS7B](https://github.com/BjornFJohansson/pYPKa_ZE/blob/master/notebooks/pYPKa_E_RPS7B.gb) contains the terminator."
   ]
  },
  {
   "cell_type": "code",
   "execution_count": 4,
   "metadata": {},
   "outputs": [
    {
     "data": {
      "text/plain": [
       "(Dseqrecord(o3737), eQrot5NFmMjgV23mD_5DXsCoUA4)"
      ]
     },
     "execution_count": 4,
     "metadata": {},
     "output_type": "execute_result"
    }
   ],
   "source": [
    "pYPKa_E_RPS7B = read(download_text(\"https://raw.github.com/BjornFJohansson/pYPKa_ZE/master/notebooks/pYPKa_E_RPS7B.gb\"))\n",
    "pYPKa_E_RPS7B, pYPKa_E_RPS7B.cseguid()"
   ]
  },
  {
   "cell_type": "markdown",
   "metadata": {},
   "source": [
    "The [pYPKp7](https://github.com/BjornFJohansson/ypk-xylose-pathways/blob/master/notebooks/pYPKp7.ipynb) vector contains the rest of the features."
   ]
  },
  {
   "cell_type": "code",
   "execution_count": 5,
   "metadata": {},
   "outputs": [
    {
     "data": {
      "text/plain": [
       "(Dseqrecord(o6180), w8zCE05nnVaKMSe-K0q29kjVt4k)"
      ]
     },
     "execution_count": 5,
     "metadata": {},
     "output_type": "execute_result"
    }
   ],
   "source": [
    "pYPKp7 = read(download_text(\"https://raw.github.com/BjornFJohansson/ypk-xylose-pathways/master/notebooks/pYPKp7.gb\"))\n",
    "pYPKp7, pYPKp7.cseguid()"
   ]
  },
  {
   "cell_type": "markdown",
   "metadata": {},
   "source": [
    "The promoter is amplified from the pYPKa_Z_TEF1 vector."
   ]
  },
  {
   "cell_type": "code",
   "execution_count": 6,
   "metadata": {},
   "outputs": [],
   "source": [
    "promoter  = pcr( p577, p467, pYPKa_Z_TEF1)"
   ]
  },
  {
   "cell_type": "code",
   "execution_count": 7,
   "metadata": {},
   "outputs": [],
   "source": [
    "promoter.name = \"promoter\""
   ]
  },
  {
   "cell_type": "markdown",
   "metadata": {},
   "source": [
    "The terminator is amplified from the pYPKa_E_RPS7B vector."
   ]
  },
  {
   "cell_type": "code",
   "execution_count": 8,
   "metadata": {},
   "outputs": [],
   "source": [
    "terminator   = pcr( p468, p578, pYPKa_E_RPS7B)"
   ]
  },
  {
   "cell_type": "code",
   "execution_count": 9,
   "metadata": {},
   "outputs": [],
   "source": [
    "terminator.name = \"terminator\""
   ]
  },
  {
   "cell_type": "markdown",
   "metadata": {},
   "source": [
    "The pYPKp7 vector is linearized with [ZraI](http://rebase.neb.com/rebase/enz/ZraI.html)."
   ]
  },
  {
   "cell_type": "code",
   "execution_count": 10,
   "metadata": {},
   "outputs": [],
   "source": [
    "from Bio.Restriction import ZraI"
   ]
  },
  {
   "cell_type": "code",
   "execution_count": 11,
   "metadata": {},
   "outputs": [],
   "source": [
    "pYPKp7_Z = pYPKp7.linearize(ZraI)"
   ]
  },
  {
   "cell_type": "markdown",
   "metadata": {},
   "source": [
    "The three linar DNA fragments are assembled by homologous recombination."
   ]
  },
  {
   "cell_type": "code",
   "execution_count": 12,
   "metadata": {},
   "outputs": [
    {
     "data": {
      "text/plain": [
       "Assembly\n",
       "fragments..: 6180bp 848bp 985bp\n",
       "limit(bp)..: 87\n",
       "G.nodes....: 6\n",
       "algorithm..: common_sub_strings"
      ]
     },
     "execution_count": 12,
     "metadata": {},
     "output_type": "execute_result"
    }
   ],
   "source": [
    "asm = Assembly((pYPKp7_Z, promoter, terminator), limit=87)\n",
    "asm"
   ]
  },
  {
   "cell_type": "code",
   "execution_count": 13,
   "metadata": {},
   "outputs": [
    {
     "data": {
      "text/plain": [
       "[Contig(o7541), Contig(o7541)]"
      ]
     },
     "execution_count": 13,
     "metadata": {},
     "output_type": "execute_result"
    }
   ],
   "source": [
    "candidates = asm.assemble_circular()\n",
    "candidates"
   ]
  },
  {
   "cell_type": "markdown",
   "metadata": {},
   "source": [
    "Two candidates are assembled, these should be identical. We pick the first one.\n",
    "We can see that the three fragments assembled by homologous sequences between 87 and 242 bp long."
   ]
  },
  {
   "cell_type": "code",
   "execution_count": 14,
   "metadata": {},
   "outputs": [
    {
     "data": {
      "text/html": [
       "<pre> -|pYPKp7_lin|124\n",
       "|             \\/\n",
       "|             /\\\n",
       "|             124|promoter|87\n",
       "|                          \\/\n",
       "|                          /\\\n",
       "|                          87|terminator|242\n",
       "|                                        \\/\n",
       "|                                        /\\\n",
       "|                                        242-\n",
       "|                                           |\n",
       " -------------------------------------------</pre>"
      ],
      "text/plain": [
       "Contig(o7541)"
      ]
     },
     "execution_count": 14,
     "metadata": {},
     "output_type": "execute_result"
    }
   ],
   "source": [
    "candidate = candidates[0]\n",
    "candidate"
   ]
  },
  {
   "cell_type": "markdown",
   "metadata": {},
   "source": [
    "We call the resulting vector pYPK7_TEF1_RPS7B and we synchronize the circular sequence so that it starts at the same position."
   ]
  },
  {
   "cell_type": "code",
   "execution_count": 15,
   "metadata": {},
   "outputs": [],
   "source": [
    "pYPK7_TEF1_RPS7B = candidate.synced(pYPKp7)"
   ]
  },
  {
   "cell_type": "code",
   "execution_count": 16,
   "metadata": {},
   "outputs": [],
   "source": [
    "assert pYPK7_TEF1_RPS7B.cseguid() == \"VuKjAmG4X02Zo7pJAK_ncuxOKas\""
   ]
  },
  {
   "cell_type": "code",
   "execution_count": 17,
   "metadata": {},
   "outputs": [
    {
     "data": {
      "text/plain": [
       "cSEGUID_VuKjAmG4X02Zo7pJAK_ncuxOKas"
      ]
     },
     "execution_count": 17,
     "metadata": {},
     "output_type": "execute_result"
    }
   ],
   "source": [
    "pYPK7_TEF1_RPS7B.stamp()"
   ]
  },
  {
   "cell_type": "code",
   "execution_count": 18,
   "metadata": {},
   "outputs": [],
   "source": [
    "pYPK7_TEF1_RPS7B.locus = \"pYPK7_TEF1_RPS7B\""
   ]
  },
  {
   "cell_type": "code",
   "execution_count": 19,
   "metadata": {},
   "outputs": [
    {
     "data": {
      "text/html": [
       "<font face=monospace><a href='pYPK7_TEF1_RPS7B.gb' target='_blank'>pYPK7_TEF1_RPS7B.gb</a></font><br>"
      ]
     },
     "metadata": {},
     "output_type": "display_data"
    }
   ],
   "source": [
    "pYPK7_TEF1_RPS7B.write()"
   ]
  }
 ],
 "metadata": {
  "anaconda-cloud": {},
  "kernelspec": {
   "display_name": "Python [conda env:bjorn37]",
   "language": "python",
   "name": "conda-env-bjorn37-py"
  },
  "language_info": {
   "codemirror_mode": {
    "name": "ipython",
    "version": 3
   },
   "file_extension": ".py",
   "mimetype": "text/x-python",
   "name": "python",
   "nbconvert_exporter": "python",
   "pygments_lexer": "ipython3",
   "version": "3.8.5"
  }
 },
 "nbformat": 4,
 "nbformat_minor": 4
}
