{
 "cells": [
  {
   "cell_type": "markdown",
   "metadata": {},
   "source": [
    "# Construction of the pLBL2 vector\n",
    "\n",
    "The pLBL2 vector is a yeast/E. coli shuttle vector for expression of genes in S. cerevisiae.\n",
    "It is a derivative of pYPK7_TEF1_RPS7B but with a URA3 marker instead of the kanMX4 of pYPK7_TEF1_RPS7B.\n",
    "\n",
    "An AjiI site was removed from the 2µ sequence during the construction process."
   ]
  },
  {
   "cell_type": "code",
   "execution_count": 1,
   "metadata": {},
   "outputs": [],
   "source": [
    "from pydna.all import *"
   ]
  },
  {
   "cell_type": "markdown",
   "metadata": {},
   "source": [
    "### Larger fragment from pYPK7_TEF1_RPS7B\n",
    "\n",
    "This fragment contains The TEF1 promoter and RPS7B terminator, amp marker and a part of the 2µ ORI"
   ]
  },
  {
   "cell_type": "code",
   "execution_count": 2,
   "metadata": {},
   "outputs": [],
   "source": [
    "pYPK7_TEF1_RPS7B = read(\"pYPK7_TEF1_RPS7B.gb\")"
   ]
  },
  {
   "cell_type": "code",
   "execution_count": 3,
   "metadata": {},
   "outputs": [],
   "source": [
    "f4008 = pYPK7_TEF1_RPS7B[5399:1866]"
   ]
  },
  {
   "cell_type": "code",
   "execution_count": 4,
   "metadata": {},
   "outputs": [
    {
     "data": {
      "text/plain": [
       "Dseqrecord(-4008)"
      ]
     },
     "execution_count": 4,
     "metadata": {},
     "output_type": "execute_result"
    }
   ],
   "source": [
    "f4008"
   ]
  },
  {
   "cell_type": "markdown",
   "metadata": {},
   "source": [
    "### Smaller fragment from pYPKpw\n",
    "\n",
    "the 2.9kb fragment contains the pUC origin, URA3 and a part of the 2µ"
   ]
  },
  {
   "cell_type": "code",
   "execution_count": 5,
   "metadata": {},
   "outputs": [],
   "source": [
    "pYPKpw = read(\"pYPKpw.gb\")"
   ]
  },
  {
   "cell_type": "code",
   "execution_count": 6,
   "metadata": {},
   "outputs": [],
   "source": [
    "f2955 = pYPKpw[505:3460]"
   ]
  },
  {
   "cell_type": "code",
   "execution_count": 7,
   "metadata": {},
   "outputs": [
    {
     "data": {
      "text/plain": [
       "Dseq(-2955)\n",
       "CTTC..GCAC\n",
       "GAAG..CGTG"
      ]
     },
     "execution_count": 7,
     "metadata": {},
     "output_type": "execute_result"
    }
   ],
   "source": [
    "f2955.seq"
   ]
  },
  {
   "cell_type": "markdown",
   "metadata": {},
   "source": [
    "The theoretically expected sequence of pLBL2 is the two fragments (f4008, f2955) ligated together with one mutated nucleotide \n",
    "to form a 6964 bp circular DNA molecule. The nucleotide can be A or C or T (IUPAC DNA code H ) in order to remove one AjiI site from the 2µ sequence. "
   ]
  },
  {
   "cell_type": "code",
   "execution_count": 8,
   "metadata": {},
   "outputs": [
    {
     "data": {
      "text/plain": [
       "(Dseqrecord(o6964), Y9N9GHq6Rkv4mVbKbZXcWmMSOg0)"
      ]
     },
     "execution_count": 8,
     "metadata": {},
     "output_type": "execute_result"
    }
   ],
   "source": [
    "theoretical_pLBL2_sequence = (f2955+Dseqrecord(\"h\")+f4008).looped().synced(pYPKpw)\n",
    "theoretical_pLBL2_sequence, theoretical_pLBL2_sequence.cseguid()"
   ]
  },
  {
   "cell_type": "markdown",
   "metadata": {},
   "source": [
    "Design two primer pairs for the gibson assembly of pLBL2. \n",
    "The objects below are instances of the Amplicon class storing a forward primers and a reverse primer."
   ]
  },
  {
   "cell_type": "code",
   "execution_count": 9,
   "metadata": {},
   "outputs": [],
   "source": [
    "f2955product = primer_design(f2955)\n",
    "f4008product = primer_design(f4008)"
   ]
  },
  {
   "cell_type": "markdown",
   "metadata": {},
   "source": [
    "The f2955tails, f4008tails are modified with tails to allow assembly by homologous recombination. The \"h\" nucleotide is incorporated into the \n",
    "PCR primer tails."
   ]
  },
  {
   "cell_type": "code",
   "execution_count": 10,
   "metadata": {},
   "outputs": [],
   "source": [
    "f2955tails, f4008tails = circular_assembly_fragments((f2955product, Dseqrecord(\"h\"),f4008product), overlap=25)"
   ]
  },
  {
   "cell_type": "code",
   "execution_count": 11,
   "metadata": {},
   "outputs": [
    {
     "data": {
      "text/plain": [
       "(Amplicon(2982), Amplicon(4035))"
      ]
     },
     "execution_count": 11,
     "metadata": {},
     "output_type": "execute_result"
    }
   ],
   "source": [
    "f2955tails, f4008tails"
   ]
  },
  {
   "cell_type": "markdown",
   "metadata": {},
   "source": [
    "The two fragments are assembled by homologous recombination."
   ]
  },
  {
   "cell_type": "code",
   "execution_count": 12,
   "metadata": {},
   "outputs": [],
   "source": [
    "f2955tails.name=\"f2955\"\n",
    "f4008tails.name=\"f4008\""
   ]
  },
  {
   "cell_type": "code",
   "execution_count": 13,
   "metadata": {},
   "outputs": [
    {
     "data": {
      "text/plain": [
       "Assembly\n",
       "fragments..: 2982bp 4035bp\n",
       "limit(bp)..: 25\n",
       "G.nodes....: 6\n",
       "algorithm..: common_sub_strings"
      ]
     },
     "execution_count": 13,
     "metadata": {},
     "output_type": "execute_result"
    }
   ],
   "source": [
    "asm = Assembly((f2955tails, f4008tails), limit=25)\n",
    "asm"
   ]
  },
  {
   "cell_type": "code",
   "execution_count": 14,
   "metadata": {},
   "outputs": [
    {
     "data": {
      "text/plain": [
       "[Contig(o6964),\n",
       " Contig(o6964),\n",
       " Contig(o4871),\n",
       " Contig(o4871),\n",
       " Contig(o2093),\n",
       " Contig(o2093)]"
      ]
     },
     "execution_count": 14,
     "metadata": {},
     "output_type": "execute_result"
    }
   ],
   "source": [
    "candidates = asm.assemble_circular()\n",
    "candidates"
   ]
  },
  {
   "cell_type": "markdown",
   "metadata": {},
   "source": [
    "Apparently several circular products are possible. Care should be taken when confirming this construct.\n",
    "We assume that the first one is correct since it has the expected size."
   ]
  },
  {
   "cell_type": "code",
   "execution_count": 15,
   "metadata": {},
   "outputs": [
    {
     "data": {
      "text/html": [
       "<pre> -|f2955|27\n",
       "|        \\/\n",
       "|        /\\\n",
       "|        27|f4008|26\n",
       "|                 \\/\n",
       "|                 /\\\n",
       "|                 26-\n",
       "|                    |\n",
       " --------------------</pre>"
      ],
      "text/plain": [
       "Contig(o6964)"
      ]
     },
     "execution_count": 15,
     "metadata": {},
     "output_type": "execute_result"
    }
   ],
   "source": [
    "candidate = candidates[0]\n",
    "candidate"
   ]
  },
  {
   "cell_type": "code",
   "execution_count": 16,
   "metadata": {},
   "outputs": [
    {
     "data": {
      "text/plain": [
       "Y9N9GHq6Rkv4mVbKbZXcWmMSOg0"
      ]
     },
     "execution_count": 16,
     "metadata": {},
     "output_type": "execute_result"
    }
   ],
   "source": [
    "pYPK0_TEF1_RPS7B = candidate.synced(pYPKpw)\n",
    "pYPK0_TEF1_RPS7B.cseguid()"
   ]
  },
  {
   "cell_type": "code",
   "execution_count": 17,
   "metadata": {},
   "outputs": [],
   "source": [
    "pLBL2 = pYPK0_TEF1_RPS7B\n",
    "assert pLBL2.seguid() == theoretical_pLBL2_sequence.seguid() == 'ouH9liSpWQvjZEhoT3kScn2aTHk'"
   ]
  },
  {
   "cell_type": "code",
   "execution_count": 18,
   "metadata": {},
   "outputs": [
    {
     "name": "stdout",
     "output_type": "stream",
     "text": [
      "f2955\tGAAATTTCAGCCACTTCACAGGCGGTT\n",
      "\n",
      "r2955\tACCGGGGATGCGAdGTGCAAGATTACCTATGC\n",
      "\n",
      "f4008\tGGTAATCTTGCAChTCGCATCCCCGGT\n",
      "\n",
      "r4008\tACCGCCTGTGAAGTGGCTGAAATTTCGTACAAAAAATTTC\n",
      "\n"
     ]
    }
   ],
   "source": [
    "print(f2955tails.forward_primer.format(\"tab\"))\n",
    "print(f2955tails.reverse_primer.format(\"tab\"))\n",
    "print(f4008tails.forward_primer.format(\"tab\"))\n",
    "print(f4008tails.reverse_primer.format(\"tab\"))"
   ]
  },
  {
   "cell_type": "markdown",
   "metadata": {},
   "source": [
    "The primers below were bought from IDT. They were designed manually, so they are not identical to the ones above."
   ]
  },
  {
   "cell_type": "code",
   "execution_count": 19,
   "metadata": {},
   "outputs": [],
   "source": [
    "p1s,p2s,p3s,p4s = parse_primers('''\n",
    ">2954fw\n",
    "GAA ATT TCA GCC ACT TCA CAG GCG GTT TT\n",
    ">2954rv2\n",
    "CCGGGGATGCGAdgTGCAAGATTACCTATGC\n",
    ">4009fw2\n",
    "AGGTAATCTTGCAchTCGCATCCCCGGTTC\n",
    ">4009rv\n",
    "ACC GCC TGT GAA GTG GCT GAA ATT TCG TA''')"
   ]
  },
  {
   "cell_type": "markdown",
   "metadata": {},
   "source": [
    "To confirm that the primers used results in the same result, the simulation above is repeated with the new primers."
   ]
  },
  {
   "cell_type": "code",
   "execution_count": 20,
   "metadata": {},
   "outputs": [],
   "source": [
    "product_2954fw_2954rv2 = pcr(p1s, p2s, pYPKpw)"
   ]
  },
  {
   "cell_type": "code",
   "execution_count": 21,
   "metadata": {},
   "outputs": [],
   "source": [
    "product_4009fw2_4009rv = pcr(p3s,p4s,pYPK7_TEF1_RPS7B)"
   ]
  },
  {
   "cell_type": "code",
   "execution_count": 22,
   "metadata": {},
   "outputs": [],
   "source": [
    "asm = Assembly((product_2954fw_2954rv2, product_4009fw2_4009rv), limit=25)"
   ]
  },
  {
   "cell_type": "code",
   "execution_count": 23,
   "metadata": {},
   "outputs": [],
   "source": [
    "candidate = candidates[0]"
   ]
  },
  {
   "cell_type": "code",
   "execution_count": 24,
   "metadata": {},
   "outputs": [],
   "source": [
    "assert pLBL2.cseguid() == candidate.cseguid() == 'Y9N9GHq6Rkv4mVbKbZXcWmMSOg0'"
   ]
  },
  {
   "cell_type": "markdown",
   "metadata": {},
   "source": [
    "The plasmid assembled with the purchased primers is identical to the planned as can be seen form their identical cseguid checksums."
   ]
  },
  {
   "cell_type": "markdown",
   "metadata": {},
   "source": [
    "pLBL2 should only have one AjiI site, as this was one of the design goals."
   ]
  },
  {
   "cell_type": "code",
   "execution_count": 25,
   "metadata": {},
   "outputs": [],
   "source": [
    "from Bio.Restriction import AjiI"
   ]
  },
  {
   "cell_type": "code",
   "execution_count": 26,
   "metadata": {},
   "outputs": [
    {
     "data": {
      "text/plain": [
       "Dseqrecord(-6964)"
      ]
     },
     "execution_count": 26,
     "metadata": {},
     "output_type": "execute_result"
    }
   ],
   "source": [
    "pLBL2.linearize(AjiI)"
   ]
  },
  {
   "cell_type": "code",
   "execution_count": 27,
   "metadata": {},
   "outputs": [],
   "source": [
    "pLBL2.locus = \"pLBL2\"\n",
    "pLBL2.definition = \"pYPK0_TEF1_RPS7B\""
   ]
  },
  {
   "cell_type": "code",
   "execution_count": 28,
   "metadata": {},
   "outputs": [
    {
     "data": {
      "text/plain": [
       "cSEGUID_Y9N9GHq6Rkv4mVbKbZXcWmMSOg0"
      ]
     },
     "execution_count": 28,
     "metadata": {},
     "output_type": "execute_result"
    }
   ],
   "source": [
    "pLBL2.stamp()"
   ]
  },
  {
   "cell_type": "code",
   "execution_count": 29,
   "metadata": {},
   "outputs": [
    {
     "data": {
      "text/html": [
       "<font face=monospace><a href='pLBL2.gb' target='_blank'>pLBL2.gb</a></font><br>"
      ]
     },
     "metadata": {},
     "output_type": "display_data"
    }
   ],
   "source": [
    "pLBL2.write(\"pLBL2.gb\")"
   ]
  },
  {
   "cell_type": "markdown",
   "metadata": {},
   "source": [
    "### Analysis\n",
    "\n",
    "Two colony PCRs were performed to verify the plasmid. One amplifies the ura3 marker and the other the 2µ sequence."
   ]
  },
  {
   "cell_type": "code",
   "execution_count": 30,
   "metadata": {},
   "outputs": [],
   "source": [
    "URA3f, URA3r, _2mu_f, _2mu_r = parse('''\n",
    "\n",
    ">17_URA3f\n",
    "TAA TAA CTG ATA TAA TTA AAT TGA AGC\n",
    "\n",
    ">18_URA3r\n",
    "CGG TTT CTT TGA AAT TTT TTT GAT TCG\n",
    "\n",
    ">19_2mu_f\n",
    "GCG CTT TAC GGA AGA CAA TGT\n",
    "\n",
    ">20_2mu_r\n",
    "GGG AAG TGG AGT CAG GCT TT\n",
    "\n",
    "''', ds=False)"
   ]
  },
  {
   "cell_type": "code",
   "execution_count": 31,
   "metadata": {},
   "outputs": [
    {
     "data": {
      "text/html": [
       "Amplicon(1056)"
      ],
      "text/plain": [
       "Amplicon(1056)"
      ]
     },
     "execution_count": 31,
     "metadata": {},
     "output_type": "execute_result"
    }
   ],
   "source": [
    "pcr(URA3f, URA3r, pLBL2)"
   ]
  },
  {
   "cell_type": "code",
   "execution_count": 32,
   "metadata": {},
   "outputs": [
    {
     "data": {
      "text/html": [
       "Amplicon(602)"
      ],
      "text/plain": [
       "Amplicon(602)"
      ]
     },
     "execution_count": 32,
     "metadata": {},
     "output_type": "execute_result"
    }
   ],
   "source": [
    "pcr(_2mu_f, _2mu_r, pLBL2)"
   ]
  }
 ],
 "metadata": {
  "kernelspec": {
   "display_name": "Python [conda env:bjorn37]",
   "language": "python",
   "name": "conda-env-bjorn37-py"
  },
  "language_info": {
   "codemirror_mode": {
    "name": "ipython",
    "version": 3
   },
   "file_extension": ".py",
   "mimetype": "text/x-python",
   "name": "python",
   "nbconvert_exporter": "python",
   "pygments_lexer": "ipython3",
   "version": "3.8.5"
  }
 },
 "nbformat": 4,
 "nbformat_minor": 4
}
