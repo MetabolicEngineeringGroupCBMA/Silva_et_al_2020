{
 "cells": [
  {
   "cell_type": "markdown",
   "metadata": {},
   "source": [
    "# Construction of the pLBL2 vector\n",
    "\n",
    "The pLBL2 is a yeast/E. coli shuttle vector for expression of genes in S. cerevisiae. \n",
    "The expressed gene is controlled by the TEF1 promoter and RPS7B terminator.\n",
    "\n",
    "The vector has:\n",
    "- a pUC origin of replication\n",
    "- an ampiccilin marker\n",
    "- a URA3 marker\n",
    "- a 2µ origin of replication\n",
    "\n",
    "A single AjiI site was removed from the 2µ sequence in the construction process.\n",
    "\n",
    "cSEGUID = Y9N9GHq6Rkv4mVbKbZXcWmMSOg0"
   ]
  },
  {
   "cell_type": "code",
   "execution_count": 37,
   "metadata": {},
   "outputs": [],
   "source": [
    "from pydna.all import *"
   ]
  },
  {
   "cell_type": "markdown",
   "metadata": {},
   "source": [
    "### Larger fragment from pYPK7_TEF1_RPS7B\n",
    "\n",
    "This fragment contains The TEF1 promoter and RPS7B terminator, amp marker and a part of the 2µ ORI"
   ]
  },
  {
   "cell_type": "code",
   "execution_count": 38,
   "metadata": {},
   "outputs": [],
   "source": [
    "pYPK7_TEF1_RPS7B = read(\"pYPK7_TEF1_RPS7B.gb\")"
   ]
  },
  {
   "cell_type": "code",
   "execution_count": 39,
   "metadata": {},
   "outputs": [],
   "source": [
    "f4008 = pYPK7_TEF1_RPS7B[5399:1866]"
   ]
  },
  {
   "cell_type": "code",
   "execution_count": 40,
   "metadata": {},
   "outputs": [
    {
     "data": {
      "text/plain": [
       "Dseqrecord(-4008)"
      ]
     },
     "execution_count": 40,
     "metadata": {},
     "output_type": "execute_result"
    }
   ],
   "source": [
    "f4008"
   ]
  },
  {
   "cell_type": "markdown",
   "metadata": {},
   "source": [
    "### Smaller fragment from pYPKpw\n",
    "\n",
    "the 2.9kb fragment contains the pBR322 ori, URA3 and a part of the 2µ"
   ]
  },
  {
   "cell_type": "code",
   "execution_count": 41,
   "metadata": {},
   "outputs": [],
   "source": [
    "pYPKpw = read(\"pYPKpw.gb\")"
   ]
  },
  {
   "cell_type": "code",
   "execution_count": 42,
   "metadata": {},
   "outputs": [],
   "source": [
    "f2955 = pYPKpw[505:3460]"
   ]
  },
  {
   "cell_type": "code",
   "execution_count": 43,
   "metadata": {},
   "outputs": [
    {
     "data": {
      "text/plain": [
       "Dseq(-2955)\n",
       "CTTC..GCAC\n",
       "GAAG..CGTG"
      ]
     },
     "execution_count": 43,
     "metadata": {},
     "output_type": "execute_result"
    }
   ],
   "source": [
    "f2955.seq"
   ]
  },
  {
   "cell_type": "markdown",
   "metadata": {},
   "source": [
    "Theoretically expected sequence of pLBL2"
   ]
  },
  {
   "cell_type": "code",
   "execution_count": 44,
   "metadata": {},
   "outputs": [],
   "source": [
    "theoretical_pLBL2_sequence = (f2955+Dseqrecord(\"h\")+f4008).looped().synced(pYPKpw)"
   ]
  },
  {
   "cell_type": "code",
   "execution_count": 45,
   "metadata": {},
   "outputs": [
    {
     "data": {
      "text/plain": [
       "Y9N9GHq6Rkv4mVbKbZXcWmMSOg0"
      ]
     },
     "execution_count": 45,
     "metadata": {},
     "output_type": "execute_result"
    }
   ],
   "source": [
    "theoretical_pLBL2_sequence.cseguid()"
   ]
  },
  {
   "cell_type": "markdown",
   "metadata": {},
   "source": [
    "Design two primer pairs for the gibson assembly of pLBL2"
   ]
  },
  {
   "cell_type": "code",
   "execution_count": 46,
   "metadata": {},
   "outputs": [],
   "source": [
    "f2955product = primer_design(f2955)\n",
    "f4008product = primer_design(f4008)"
   ]
  },
  {
   "cell_type": "code",
   "execution_count": 47,
   "metadata": {},
   "outputs": [],
   "source": [
    "f2955tails, f4008tails = circular_assembly_fragments((f2955product, Dseqrecord(\"h\"),f4008product), overlap=25)"
   ]
  },
  {
   "cell_type": "code",
   "execution_count": 48,
   "metadata": {},
   "outputs": [
    {
     "data": {
      "text/plain": [
       "(Amplicon(2982), Amplicon(4035))"
      ]
     },
     "execution_count": 48,
     "metadata": {},
     "output_type": "execute_result"
    }
   ],
   "source": [
    "f2955tails, f4008tails"
   ]
  },
  {
   "cell_type": "code",
   "execution_count": 49,
   "metadata": {},
   "outputs": [
    {
     "data": {
      "text/plain": [
       "Assembly\n",
       "fragments..: 2982bp 4035bp\n",
       "limit(bp)..: 25\n",
       "G.nodes....: 6\n",
       "algorithm..: common_sub_strings"
      ]
     },
     "execution_count": 49,
     "metadata": {},
     "output_type": "execute_result"
    }
   ],
   "source": [
    "asm = Assembly((f2955tails, f4008tails), limit=25)\n",
    "asm"
   ]
  },
  {
   "cell_type": "code",
   "execution_count": 50,
   "metadata": {},
   "outputs": [
    {
     "data": {
      "text/plain": [
       "[Contig(o6964),\n",
       " Contig(o6964),\n",
       " Contig(o4871),\n",
       " Contig(o4871),\n",
       " Contig(o2093),\n",
       " Contig(o2093)]"
      ]
     },
     "execution_count": 50,
     "metadata": {},
     "output_type": "execute_result"
    }
   ],
   "source": [
    "candidates = asm.assemble_circular()\n",
    "candidates"
   ]
  },
  {
   "cell_type": "code",
   "execution_count": 51,
   "metadata": {},
   "outputs": [
    {
     "data": {
      "text/html": [
       "<pre> -|2982bp_PCR_prod|27\n",
       "|                  \\/\n",
       "|                  /\\\n",
       "|                  27|4035bp_PCR_prod|26\n",
       "|                                     \\/\n",
       "|                                     /\\\n",
       "|                                     26-\n",
       "|                                        |\n",
       " ----------------------------------------</pre>"
      ],
      "text/plain": [
       "Contig(o6964)"
      ]
     },
     "execution_count": 51,
     "metadata": {},
     "output_type": "execute_result"
    }
   ],
   "source": [
    "candidate = candidates[0]\n",
    "candidate"
   ]
  },
  {
   "cell_type": "code",
   "execution_count": 52,
   "metadata": {},
   "outputs": [
    {
     "data": {
      "text/plain": [
       "Y9N9GHq6Rkv4mVbKbZXcWmMSOg0"
      ]
     },
     "execution_count": 52,
     "metadata": {},
     "output_type": "execute_result"
    }
   ],
   "source": [
    "candidate.cseguid()"
   ]
  },
  {
   "cell_type": "code",
   "execution_count": 53,
   "metadata": {},
   "outputs": [],
   "source": [
    "pYPK0_TEF1_RPS7B = candidate.synced(pYPKpw)"
   ]
  },
  {
   "cell_type": "code",
   "execution_count": 54,
   "metadata": {},
   "outputs": [],
   "source": [
    "pLBL2 = pYPK0_TEF1_RPS7B\n",
    "assert pLBL2.seguid() == theoretical_pLBL2_sequence.seguid() == 'ouH9liSpWQvjZEhoT3kScn2aTHk'"
   ]
  },
  {
   "cell_type": "code",
   "execution_count": 55,
   "metadata": {},
   "outputs": [
    {
     "name": "stdout",
     "output_type": "stream",
     "text": [
      "f2955\tGAAATTTCAGCCACTTCACAGGCGGTTT\n",
      "\n",
      "r2955\tACCGGGGATGCGAdGTGCAAGATTACCTATGCA\n",
      "\n",
      "f4008\tGGTAATCTTGCAChTCGCATCCCCGGT\n",
      "\n",
      "r4008\tACCGCCTGTGAAGTGGCTGAAATTTCGTACAAAAA\n",
      "\n"
     ]
    }
   ],
   "source": [
    "print(f2955tails.forward_primer.format(\"tab\"))\n",
    "print(f2955tails.reverse_primer.format(\"tab\"))\n",
    "print(f4008tails.forward_primer.format(\"tab\"))\n",
    "print(f4008tails.reverse_primer.format(\"tab\"))"
   ]
  },
  {
   "cell_type": "markdown",
   "metadata": {},
   "source": [
    "The primers below were bought from IDT. They are virtually the same as the designed ones, but for some trimming for technical reasons."
   ]
  },
  {
   "cell_type": "code",
   "execution_count": 56,
   "metadata": {},
   "outputs": [],
   "source": [
    "p1s,p2s,p3s,p4s = parse_primers('''\n",
    ">2954fw\n",
    "GAA ATT TCA GCC ACT TCA CAG GCG GTT TT\n",
    ">2954rv2\n",
    "CCGGGGATGCGAdgTGCAAGATTACCTATGC\n",
    ">4009fw2\n",
    "AGGTAATCTTGCAchTCGCATCCCCGGTTC\n",
    ">4009rv\n",
    "ACC GCC TGT GAA GTG GCT GAA ATT TCG TA''')"
   ]
  },
  {
   "cell_type": "code",
   "execution_count": 57,
   "metadata": {},
   "outputs": [
    {
     "name": "stdout",
     "output_type": "stream",
     "text": [
      "2954fw\tGAAATTTCAGCCACTTCACAGGCGGTTTT\n",
      "\n",
      "f2955\tGAAATTTCAGCCACTTCACAGGCGGTTT\n",
      "\n",
      "2954rv2\tCCGGGGATGCGAdgTGCAAGATTACCTATGC\n",
      "\n",
      "r2955\tACCGGGGATGCGAdGTGCAAGATTACCTATGCA\n",
      "\n",
      "4009fw2\tAGGTAATCTTGCAchTCGCATCCCCGGTTC\n",
      "\n",
      "f4008\tGGTAATCTTGCAChTCGCATCCCCGGT\n",
      "\n",
      "4009rv\tACCGCCTGTGAAGTGGCTGAAATTTCGTA\n",
      "\n",
      "r4008\tACCGCCTGTGAAGTGGCTGAAATTTCGTACAAAAA\n",
      "\n"
     ]
    }
   ],
   "source": [
    "print(p1s.format(\"tab\"))\n",
    "print(f2955tails.forward_primer.format(\"tab\"))\n",
    "\n",
    "print(p2s.format(\"tab\"))\n",
    "print(f2955tails.reverse_primer.format(\"tab\"))\n",
    "\n",
    "print(p3s.format(\"tab\"))\n",
    "print(f4008tails.forward_primer.format(\"tab\"))\n",
    "\n",
    "print(p4s.format(\"tab\"))\n",
    "print(f4008tails.reverse_primer.format(\"tab\"))"
   ]
  },
  {
   "cell_type": "markdown",
   "metadata": {},
   "source": [
    "Tthe two fragments from each vector were PCR amplified using the purchased primers."
   ]
  },
  {
   "cell_type": "code",
   "execution_count": 58,
   "metadata": {},
   "outputs": [
    {
     "data": {
      "text/html": [
       "Amplicon(2981)"
      ],
      "text/plain": [
       "Amplicon(2981)"
      ]
     },
     "execution_count": 58,
     "metadata": {},
     "output_type": "execute_result"
    }
   ],
   "source": [
    "f2981 = pcr(p1s, p2s, pYPKpw)\n",
    "f2981"
   ]
  },
  {
   "cell_type": "code",
   "execution_count": 59,
   "metadata": {},
   "outputs": [
    {
     "data": {
      "text/html": [
       "Amplicon(4036)"
      ],
      "text/plain": [
       "Amplicon(4036)"
      ]
     },
     "execution_count": 59,
     "metadata": {},
     "output_type": "execute_result"
    }
   ],
   "source": [
    "f4036 = pcr(p3s,p4s,pYPK7_TEF1_RPS7B)\n",
    "f4036"
   ]
  },
  {
   "cell_type": "code",
   "execution_count": 60,
   "metadata": {},
   "outputs": [],
   "source": [
    "asm = Assembly((f2981, f4036), limit=25)"
   ]
  },
  {
   "cell_type": "code",
   "execution_count": 61,
   "metadata": {},
   "outputs": [
    {
     "data": {
      "text/plain": [
       "[Contig(o6964),\n",
       " Contig(o6964),\n",
       " Contig(o4871),\n",
       " Contig(o4871),\n",
       " Contig(o2093),\n",
       " Contig(o2093)]"
      ]
     },
     "execution_count": 61,
     "metadata": {},
     "output_type": "execute_result"
    }
   ],
   "source": [
    "candidates = asm.assemble_circular()\n",
    "candidates"
   ]
  },
  {
   "cell_type": "markdown",
   "metadata": {},
   "source": [
    "Examine the largest sequence"
   ]
  },
  {
   "cell_type": "code",
   "execution_count": 62,
   "metadata": {},
   "outputs": [
    {
     "data": {
      "text/html": [
       "<pre> -|2981bp_PCR_prod|27\n",
       "|                  \\/\n",
       "|                  /\\\n",
       "|                  27|4036bp_PCR_prod|26\n",
       "|                                     \\/\n",
       "|                                     /\\\n",
       "|                                     26-\n",
       "|                                        |\n",
       " ----------------------------------------</pre>"
      ],
      "text/plain": [
       "Contig(o6964)"
      ]
     },
     "execution_count": 62,
     "metadata": {},
     "output_type": "execute_result"
    }
   ],
   "source": [
    "candidate = candidates[0]\n",
    "candidate"
   ]
  },
  {
   "cell_type": "code",
   "execution_count": 63,
   "metadata": {},
   "outputs": [
    {
     "data": {
      "text/plain": [
       "Y9N9GHq6Rkv4mVbKbZXcWmMSOg0"
      ]
     },
     "execution_count": 63,
     "metadata": {},
     "output_type": "execute_result"
    }
   ],
   "source": [
    "candidate.cseguid()"
   ]
  },
  {
   "cell_type": "code",
   "execution_count": 64,
   "metadata": {},
   "outputs": [],
   "source": [
    "assert pLBL2.cseguid() == candidate.cseguid() == 'Y9N9GHq6Rkv4mVbKbZXcWmMSOg0'"
   ]
  },
  {
   "cell_type": "markdown",
   "metadata": {},
   "source": [
    "The plasmid assembled with the purchased primers is identical to the planned as can be seen form their identical cseguid checksums."
   ]
  },
  {
   "cell_type": "markdown",
   "metadata": {},
   "source": [
    "pLBL2 should only have one AjiI site"
   ]
  },
  {
   "cell_type": "code",
   "execution_count": 65,
   "metadata": {},
   "outputs": [],
   "source": [
    "from Bio.Restriction import AjiI"
   ]
  },
  {
   "cell_type": "code",
   "execution_count": 66,
   "metadata": {},
   "outputs": [
    {
     "data": {
      "text/plain": [
       "Dseqrecord(-6964)"
      ]
     },
     "execution_count": 66,
     "metadata": {},
     "output_type": "execute_result"
    }
   ],
   "source": [
    "pLBL2.linearize(AjiI)"
   ]
  },
  {
   "cell_type": "code",
   "execution_count": 67,
   "metadata": {},
   "outputs": [],
   "source": [
    "pLBL2.locus = \"pLBL2\"\n",
    "pLBL2.definition = \"pYPK0_TEF1_RPS7B\""
   ]
  },
  {
   "cell_type": "code",
   "execution_count": 68,
   "metadata": {},
   "outputs": [
    {
     "data": {
      "text/plain": [
       "cSEGUID_Y9N9GHq6Rkv4mVbKbZXcWmMSOg0"
      ]
     },
     "execution_count": 68,
     "metadata": {},
     "output_type": "execute_result"
    }
   ],
   "source": [
    "pLBL2.stamp()"
   ]
  },
  {
   "cell_type": "code",
   "execution_count": 69,
   "metadata": {},
   "outputs": [
    {
     "data": {
      "text/html": [
       "<font face=monospace><a href='pLBL2.gb' target='_blank'>pLBL2.gb</a></font><br>"
      ]
     },
     "metadata": {},
     "output_type": "display_data"
    }
   ],
   "source": [
    "pLBL2.write(\"pLBL2.gb\")"
   ]
  },
  {
   "cell_type": "markdown",
   "metadata": {},
   "source": [
    "### Analysis\n",
    "\n",
    "Two colony PCRs were performed to verify the plasmid. One amplifies the ura3 marker and the other the 2µ sequence."
   ]
  },
  {
   "cell_type": "code",
   "execution_count": 70,
   "metadata": {},
   "outputs": [],
   "source": [
    "URA3f, URA3r, _2mu_f, _2mu_r = parse('''\n",
    "\n",
    ">17_URA3f\n",
    "TAA TAA CTG ATA TAA TTA AAT TGA AGC\n",
    "\n",
    ">18_URA3r\n",
    "CGG TTT CTT TGA AAT TTT TTT GAT TCG\n",
    "\n",
    ">19_2mu_f\n",
    "GCG CTT TAC GGA AGA CAA TGT\n",
    "\n",
    ">20_2mu_r\n",
    "GGG AAG TGG AGT CAG GCT TT\n",
    "\n",
    "''', ds=False)"
   ]
  },
  {
   "cell_type": "code",
   "execution_count": 71,
   "metadata": {},
   "outputs": [
    {
     "data": {
      "text/html": [
       "Amplicon(1056)"
      ],
      "text/plain": [
       "Amplicon(1056)"
      ]
     },
     "execution_count": 71,
     "metadata": {},
     "output_type": "execute_result"
    }
   ],
   "source": [
    "pcr(URA3f, URA3r, pLBL2)"
   ]
  },
  {
   "cell_type": "code",
   "execution_count": 72,
   "metadata": {},
   "outputs": [
    {
     "data": {
      "text/html": [
       "Amplicon(602)"
      ],
      "text/plain": [
       "Amplicon(602)"
      ]
     },
     "execution_count": 72,
     "metadata": {},
     "output_type": "execute_result"
    }
   ],
   "source": [
    "pcr(_2mu_f, _2mu_r, pLBL2)"
   ]
  }
 ],
 "metadata": {
  "kernelspec": {
   "display_name": "Python [conda env:bjorn37]",
   "language": "python",
   "name": "conda-env-bjorn37-py"
  },
  "language_info": {
   "codemirror_mode": {
    "name": "ipython",
    "version": 3
   },
   "file_extension": ".py",
   "mimetype": "text/x-python",
   "name": "python",
   "nbconvert_exporter": "python",
   "pygments_lexer": "ipython3",
   "version": "3.7.2"
  }
 },
 "nbformat": 4,
 "nbformat_minor": 2
}
