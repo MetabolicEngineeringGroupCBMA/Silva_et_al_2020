{
 "cells": [
  {
   "cell_type": "markdown",
   "metadata": {},
   "source": [
    "# pLBL3_PiXI_opt\n",
    "\n",
    "The pLBL_PiXI is the [pLBL3 vector](pLBL3.ipynb) with the xylose isomerase gene from [Piromyces sp](https://en.wikipedia.org/wiki/Piromyces) located \n",
    "between the TEF1 promoter and the RPS7B terminator.\n",
    "\n",
    "The XI gene is the codon optimized gene described by [Brat et al. 2009](https://www.ncbi.nlm.nih.gov/pubmed/19218403)."
   ]
  },
  {
   "cell_type": "code",
   "execution_count": 1,
   "metadata": {
    "execution": {
     "iopub.execute_input": "2021-09-19T20:33:03.785282Z",
     "iopub.status.busy": "2021-09-19T20:33:03.784682Z",
     "iopub.status.idle": "2021-09-19T20:33:04.233968Z",
     "shell.execute_reply": "2021-09-19T20:33:04.234390Z"
    }
   },
   "outputs": [],
   "source": [
    "from pydna.all import *"
   ]
  },
  {
   "cell_type": "code",
   "execution_count": 2,
   "metadata": {
    "execution": {
     "iopub.execute_input": "2021-09-19T20:33:04.244410Z",
     "iopub.status.busy": "2021-09-19T20:33:04.236435Z",
     "iopub.status.idle": "2021-09-19T20:33:04.260402Z",
     "shell.execute_reply": "2021-09-19T20:33:04.259872Z"
    }
   },
   "outputs": [],
   "source": [
    "pLBL3 = read(\"pLBL3.gb\")"
   ]
  },
  {
   "cell_type": "code",
   "execution_count": 3,
   "metadata": {
    "execution": {
     "iopub.execute_input": "2021-09-19T20:33:04.271854Z",
     "iopub.status.busy": "2021-09-19T20:33:04.263029Z",
     "iopub.status.idle": "2021-09-19T20:33:04.274772Z",
     "shell.execute_reply": "2021-09-19T20:33:04.274388Z"
    }
   },
   "outputs": [
    {
     "data": {
      "text/html": [
       "<a href='../data/raw/fwdcodonoptimizedpiromycesxyloseisomerasegene/p426H7-opt.XI-Piro.gbk' target='_blank'>../data/raw/fwdcodonoptimizedpiromycesxyloseisomerasegene/p426H7-opt.XI-Piro.gbk</a><br>"
      ],
      "text/plain": [
       "File(p426H7-opt.XI-Pi)(o7590)"
      ]
     },
     "execution_count": 3,
     "metadata": {},
     "output_type": "execute_result"
    }
   ],
   "source": [
    "p426H7_opt_XI_Piro = read(\"../data/raw/fwdcodonoptimizedpiromycesxyloseisomerasegene/p426H7-opt.XI-Piro.gbk\")\n",
    "p426H7_opt_XI_Piro"
   ]
  },
  {
   "cell_type": "code",
   "execution_count": 4,
   "metadata": {
    "execution": {
     "iopub.execute_input": "2021-09-19T20:33:04.278741Z",
     "iopub.status.busy": "2021-09-19T20:33:04.278003Z",
     "iopub.status.idle": "2021-09-19T20:33:04.289663Z",
     "shell.execute_reply": "2021-09-19T20:33:04.289189Z"
    }
   },
   "outputs": [
    {
     "data": {
      "text/markdown": [
       "| Ft# | Label or Note | Dir | Sta  | End  |  Len | type         | orf? |\n",
       "|-----|---------------|-----|------|------|------|--------------|------|\n",
       "|   0 | nd            | --> | 389  | 1703 | 1314 | CDS          | yes  |\n",
       "|   1 | nd            | --> | 1715 | 1976 |  261 | misc_feature |  no  |\n",
       "|   2 | nd            | <-- | 2750 | 3554 |  804 | CDS          | yes  |\n",
       "|   3 | nd            | --> | 5512 | 6373 |  861 | CDS          | yes  |\n",
       "|   4 | nd            | --> | 0    | 7590 |  394 | misc_feature |  no  |"
      ],
      "text/plain": [
       "+-----+---------------+-----+------+------+------+--------------+------+\n",
       "| Ft# | Label or Note | Dir | Sta  | End  |  Len | type         | orf? |\n",
       "+-----+---------------+-----+------+------+------+--------------+------+\n",
       "|   0 | nd            | --> | 389  | 1703 | 1314 | CDS          | yes  |\n",
       "|   1 | nd            | --> | 1715 | 1976 |  261 | misc_feature |  no  |\n",
       "|   2 | nd            | <-- | 2750 | 3554 |  804 | CDS          | yes  |\n",
       "|   3 | nd            | --> | 5512 | 6373 |  861 | CDS          | yes  |\n",
       "|   4 | nd            | --> | 0    | 7590 |  394 | misc_feature |  no  |\n",
       "+-----+---------------+-----+------+------+------+--------------+------+"
      ]
     },
     "execution_count": 4,
     "metadata": {},
     "output_type": "execute_result"
    }
   ],
   "source": [
    "p426H7_opt_XI_Piro.list_features()"
   ]
  },
  {
   "cell_type": "code",
   "execution_count": 5,
   "metadata": {
    "execution": {
     "iopub.execute_input": "2021-09-19T20:33:04.292919Z",
     "iopub.status.busy": "2021-09-19T20:33:04.292479Z",
     "iopub.status.idle": "2021-09-19T20:33:04.294616Z",
     "shell.execute_reply": "2021-09-19T20:33:04.294242Z"
    }
   },
   "outputs": [],
   "source": [
    "PiXI_opt_orf = p426H7_opt_XI_Piro.extract_feature(0)"
   ]
  },
  {
   "cell_type": "code",
   "execution_count": 6,
   "metadata": {
    "execution": {
     "iopub.execute_input": "2021-09-19T20:33:04.299384Z",
     "iopub.status.busy": "2021-09-19T20:33:04.298197Z",
     "iopub.status.idle": "2021-09-19T20:33:04.302098Z",
     "shell.execute_reply": "2021-09-19T20:33:04.302743Z"
    }
   },
   "outputs": [
    {
     "name": "stdout",
     "output_type": "stream",
     "text": [
      "MAKEYFPQIQKIKFEGKDSKNPLAFHYYDAEKEVMGKKMKDWLRFAMAWWHTLCAEGADQFGGGTKSFPWNEGTDAIEIAKQKVDAGFEIMQKLGIPYYCFHDVDLVSEGNSIEEYESNLKAVVAYLKEKQKETGIKLLWSTANVFGHKRYMNGASTNPDFDVVARAIVQIKNAIDAGIELGAENYVFWGGREGYMSLLNTDQKREKEHMATMLTMARDYARSKGFKGTFLIEPKPMEPTKHQYDVDTETAIGFLKAHNLDKDFKVNIEVNHATLAGHTFEHELACAVDAGMLGSIDANRGDYQNGWDTDQFPIDQYELVQAWMEIIRGGGFVTGGTNFDAKTRRNSTDLEDIIIAHVSGMDAMARALENAAKLLQESPYTKMKKERYASFDSGIGKDFEDGKLTLEQVYEYGKKNGEPKQTSGKQELYEAIVAMYQ*\n"
     ]
    }
   ],
   "source": [
    "print(str(PiXI_opt_orf.translate().seq))"
   ]
  },
  {
   "cell_type": "code",
   "execution_count": 7,
   "metadata": {
    "execution": {
     "iopub.execute_input": "2021-09-19T20:33:04.312524Z",
     "iopub.status.busy": "2021-09-19T20:33:04.311955Z",
     "iopub.status.idle": "2021-09-19T20:33:04.313941Z",
     "shell.execute_reply": "2021-09-19T20:33:04.314389Z"
    }
   },
   "outputs": [],
   "source": [
    "product = primer_design(PiXI_opt_orf)"
   ]
  },
  {
   "cell_type": "code",
   "execution_count": 8,
   "metadata": {
    "execution": {
     "iopub.execute_input": "2021-09-19T20:33:04.318628Z",
     "iopub.status.busy": "2021-09-19T20:33:04.318048Z",
     "iopub.status.idle": "2021-09-19T20:33:04.319948Z",
     "shell.execute_reply": "2021-09-19T20:33:04.320394Z"
    }
   },
   "outputs": [],
   "source": [
    "from Bio.Restriction import AjiI"
   ]
  },
  {
   "cell_type": "code",
   "execution_count": 9,
   "metadata": {
    "execution": {
     "iopub.execute_input": "2021-09-19T20:33:04.331168Z",
     "iopub.status.busy": "2021-09-19T20:33:04.330680Z",
     "iopub.status.idle": "2021-09-19T20:33:04.333390Z",
     "shell.execute_reply": "2021-09-19T20:33:04.332915Z"
    }
   },
   "outputs": [],
   "source": [
    "pLBL3_lin = pLBL3.linearize(AjiI)"
   ]
  },
  {
   "cell_type": "code",
   "execution_count": 10,
   "metadata": {
    "execution": {
     "iopub.execute_input": "2021-09-19T20:33:04.339018Z",
     "iopub.status.busy": "2021-09-19T20:33:04.338430Z",
     "iopub.status.idle": "2021-09-19T20:33:04.340466Z",
     "shell.execute_reply": "2021-09-19T20:33:04.340934Z"
    }
   },
   "outputs": [],
   "source": [
    "slask, product_tails = circular_assembly_fragments((pLBL3_lin,Dseqrecord(\"AA\"),product), overlap=35)"
   ]
  },
  {
   "cell_type": "code",
   "execution_count": 11,
   "metadata": {
    "execution": {
     "iopub.execute_input": "2021-09-19T20:33:04.346427Z",
     "iopub.status.busy": "2021-09-19T20:33:04.344955Z",
     "iopub.status.idle": "2021-09-19T20:33:04.350045Z",
     "shell.execute_reply": "2021-09-19T20:33:04.350527Z"
    }
   },
   "outputs": [
    {
     "data": {
      "text/plain": [
       "                                     5ATGGCTAAGGAATACTTC...TGTTGCTATGTACCAATAA3\n",
       "                                                           |||||||||||||||||||\n",
       "                                                          3ACAACGATACATGGTTATTCACGGTAGACACGTCTGTTTGCGTAGTCCTAAATT5\n",
       "5GTTGCCCACTTTCTCACTAGTGACCTGCAGCCGACAAATGGCTAAGGAATACTTC3\n",
       "                                      ||||||||||||||||||\n",
       "                                     3TACCGATTCCTTATGAAG...ACAACGATACATGGTTATT5"
      ]
     },
     "execution_count": 11,
     "metadata": {},
     "output_type": "execute_result"
    }
   ],
   "source": [
    "product_tails.figure()"
   ]
  },
  {
   "cell_type": "code",
   "execution_count": 12,
   "metadata": {
    "execution": {
     "iopub.execute_input": "2021-09-19T20:33:04.354883Z",
     "iopub.status.busy": "2021-09-19T20:33:04.354094Z",
     "iopub.status.idle": "2021-09-19T20:33:04.356123Z",
     "shell.execute_reply": "2021-09-19T20:33:04.356576Z"
    }
   },
   "outputs": [],
   "source": [
    "product_tails.name = \"PiXI_opt\""
   ]
  },
  {
   "cell_type": "code",
   "execution_count": 13,
   "metadata": {
    "execution": {
     "iopub.execute_input": "2021-09-19T20:33:04.430312Z",
     "iopub.status.busy": "2021-09-19T20:33:04.394568Z",
     "iopub.status.idle": "2021-09-19T20:33:04.538131Z",
     "shell.execute_reply": "2021-09-19T20:33:04.535556Z"
    }
   },
   "outputs": [
    {
     "data": {
      "text/plain": [
       "Assembly\n",
       "fragments..: 7576bp 1386bp\n",
       "limit(bp)..: 25\n",
       "G.nodes....: 4\n",
       "algorithm..: common_sub_strings"
      ]
     },
     "execution_count": 13,
     "metadata": {},
     "output_type": "execute_result"
    }
   ],
   "source": [
    "asm = Assembly((pLBL3_lin, product_tails))\n",
    "asm"
   ]
  },
  {
   "cell_type": "code",
   "execution_count": 14,
   "metadata": {
    "execution": {
     "iopub.execute_input": "2021-09-19T20:33:04.544453Z",
     "iopub.status.busy": "2021-09-19T20:33:04.543309Z",
     "iopub.status.idle": "2021-09-19T20:33:04.748391Z",
     "shell.execute_reply": "2021-09-19T20:33:04.748848Z"
    }
   },
   "outputs": [
    {
     "data": {
      "text/plain": [
       "[Contig(o8892), Contig(o8892)]"
      ]
     },
     "execution_count": 14,
     "metadata": {},
     "output_type": "execute_result"
    }
   ],
   "source": [
    "candidates = asm.assemble_circular()\n",
    "candidates"
   ]
  },
  {
   "cell_type": "code",
   "execution_count": 15,
   "metadata": {
    "execution": {
     "iopub.execute_input": "2021-09-19T20:33:04.754088Z",
     "iopub.status.busy": "2021-09-19T20:33:04.751597Z",
     "iopub.status.idle": "2021-09-19T20:33:04.757151Z",
     "shell.execute_reply": "2021-09-19T20:33:04.757521Z"
    }
   },
   "outputs": [
    {
     "data": {
      "text/html": [
       "<pre> -|pLBL3_lin|35\n",
       "|            \\/\n",
       "|            /\\\n",
       "|            35|PiXI_opt|35\n",
       "|                        \\/\n",
       "|                        /\\\n",
       "|                        35-\n",
       "|                           |\n",
       " ---------------------------</pre>"
      ],
      "text/plain": [
       "Contig(o8892)"
      ]
     },
     "execution_count": 15,
     "metadata": {},
     "output_type": "execute_result"
    }
   ],
   "source": [
    "candidate = candidates[0]\n",
    "candidate"
   ]
  },
  {
   "cell_type": "code",
   "execution_count": 16,
   "metadata": {
    "execution": {
     "iopub.execute_input": "2021-09-19T20:33:04.833877Z",
     "iopub.status.busy": "2021-09-19T20:33:04.797646Z",
     "iopub.status.idle": "2021-09-19T20:33:05.371953Z",
     "shell.execute_reply": "2021-09-19T20:33:05.371419Z"
    }
   },
   "outputs": [],
   "source": [
    "pLBL3_PiXI_opt = candidate.synced(pLBL3)"
   ]
  },
  {
   "cell_type": "code",
   "execution_count": 17,
   "metadata": {
    "execution": {
     "iopub.execute_input": "2021-09-19T20:33:05.377098Z",
     "iopub.status.busy": "2021-09-19T20:33:05.376203Z",
     "iopub.status.idle": "2021-09-19T20:33:05.379163Z",
     "shell.execute_reply": "2021-09-19T20:33:05.379745Z"
    }
   },
   "outputs": [
    {
     "data": {
      "text/plain": [
       "Dseqrecord(o8892)"
      ]
     },
     "execution_count": 17,
     "metadata": {},
     "output_type": "execute_result"
    }
   ],
   "source": [
    "pLBL3_PiXI_opt"
   ]
  },
  {
   "cell_type": "code",
   "execution_count": 18,
   "metadata": {
    "execution": {
     "iopub.execute_input": "2021-09-19T20:33:05.392475Z",
     "iopub.status.busy": "2021-09-19T20:33:05.391979Z",
     "iopub.status.idle": "2021-09-19T20:33:05.394281Z",
     "shell.execute_reply": "2021-09-19T20:33:05.394727Z"
    }
   },
   "outputs": [],
   "source": [
    "assert pLBL3_PiXI_opt.cseguid() ==\"DR2uis2xRt9A-Gc_zYizL1N_jiI\""
   ]
  },
  {
   "cell_type": "code",
   "execution_count": 19,
   "metadata": {
    "execution": {
     "iopub.execute_input": "2021-09-19T20:33:05.408470Z",
     "iopub.status.busy": "2021-09-19T20:33:05.407594Z",
     "iopub.status.idle": "2021-09-19T20:33:05.410519Z",
     "shell.execute_reply": "2021-09-19T20:33:05.410916Z"
    }
   },
   "outputs": [
    {
     "data": {
      "text/plain": [
       "cSEGUID_DR2uis2xRt9A-Gc_zYizL1N_jiI"
      ]
     },
     "execution_count": 19,
     "metadata": {},
     "output_type": "execute_result"
    }
   ],
   "source": [
    "pLBL3_PiXI_opt.stamp()"
   ]
  },
  {
   "cell_type": "code",
   "execution_count": 20,
   "metadata": {
    "execution": {
     "iopub.execute_input": "2021-09-19T20:33:05.414596Z",
     "iopub.status.busy": "2021-09-19T20:33:05.413903Z",
     "iopub.status.idle": "2021-09-19T20:33:05.416303Z",
     "shell.execute_reply": "2021-09-19T20:33:05.416666Z"
    }
   },
   "outputs": [],
   "source": [
    "pLBL3_PiXI_opt.locus = \"pLBL3_PiXI_opt\""
   ]
  },
  {
   "cell_type": "code",
   "execution_count": 21,
   "metadata": {
    "execution": {
     "iopub.execute_input": "2021-09-19T20:33:05.420083Z",
     "iopub.status.busy": "2021-09-19T20:33:05.419068Z",
     "iopub.status.idle": "2021-09-19T20:33:05.435535Z",
     "shell.execute_reply": "2021-09-19T20:33:05.435068Z"
    }
   },
   "outputs": [
    {
     "data": {
      "text/html": [
       "<font face=monospace><a href='pLBL3_PiXI_opt.gb' target='_blank'>pLBL3_PiXI_opt.gb</a></font><br>"
      ]
     },
     "metadata": {},
     "output_type": "display_data"
    }
   ],
   "source": [
    "pLBL3_PiXI_opt.write()"
   ]
  },
  {
   "cell_type": "markdown",
   "metadata": {},
   "source": [
    "The primers below are the ones actually used. These were manually designed but give the same result as the ones designed above."
   ]
  },
  {
   "cell_type": "code",
   "execution_count": 22,
   "metadata": {
    "execution": {
     "iopub.execute_input": "2021-09-19T20:33:05.439412Z",
     "iopub.status.busy": "2021-09-19T20:33:05.438969Z",
     "iopub.status.idle": "2021-09-19T20:33:05.440604Z",
     "shell.execute_reply": "2021-09-19T20:33:05.440975Z"
    }
   },
   "outputs": [],
   "source": [
    "fp, rp = parse_primers(\"\"\"\n",
    ">1125_PiXYLAoptfw\n",
    "gaggaacgccaggttgcccactttctcactagtgacctgcagccgacaaATGGCTAAGGAATACTTCC\n",
    "\n",
    ">1124_PiXYLAoptrv\n",
    "tggattaaaaatttaaatcctgatgcgtttgtctgcacagatggcacTTATTGGTACATAGCAACAATAG\"\"\")"
   ]
  },
  {
   "cell_type": "code",
   "execution_count": 23,
   "metadata": {
    "execution": {
     "iopub.execute_input": "2021-09-19T20:33:05.450631Z",
     "iopub.status.busy": "2021-09-19T20:33:05.449874Z",
     "iopub.status.idle": "2021-09-19T20:33:05.452175Z",
     "shell.execute_reply": "2021-09-19T20:33:05.452776Z"
    }
   },
   "outputs": [],
   "source": [
    "product_tails2 = pcr(fp,rp,p426H7_opt_XI_Piro)"
   ]
  },
  {
   "cell_type": "code",
   "execution_count": 24,
   "metadata": {
    "execution": {
     "iopub.execute_input": "2021-09-19T20:33:05.480743Z",
     "iopub.status.busy": "2021-09-19T20:33:05.465725Z",
     "iopub.status.idle": "2021-09-19T20:33:05.634237Z",
     "shell.execute_reply": "2021-09-19T20:33:05.633779Z"
    }
   },
   "outputs": [
    {
     "data": {
      "text/plain": [
       "Assembly\n",
       "fragments..: 7576bp 1410bp\n",
       "limit(bp)..: 25\n",
       "G.nodes....: 4\n",
       "algorithm..: common_sub_strings"
      ]
     },
     "execution_count": 24,
     "metadata": {},
     "output_type": "execute_result"
    }
   ],
   "source": [
    "asm2 = Assembly((pLBL3_lin, product_tails2))\n",
    "asm2"
   ]
  },
  {
   "cell_type": "code",
   "execution_count": 25,
   "metadata": {
    "execution": {
     "iopub.execute_input": "2021-09-19T20:33:05.643966Z",
     "iopub.status.busy": "2021-09-19T20:33:05.643206Z",
     "iopub.status.idle": "2021-09-19T20:33:05.667724Z",
     "shell.execute_reply": "2021-09-19T20:33:05.667189Z"
    }
   },
   "outputs": [],
   "source": [
    "assert asm2.assemble_circular()[0].cseguid() == \"DR2uis2xRt9A-Gc_zYizL1N_jiI\" == pLBL3_PiXI_opt.cseguid()"
   ]
  }
 ],
 "metadata": {
  "kernelspec": {
   "display_name": "Python [conda env:bjorn37]",
   "language": "python",
   "name": "conda-env-bjorn37-py"
  },
  "language_info": {
   "codemirror_mode": {
    "name": "ipython",
    "version": 3
   },
   "file_extension": ".py",
   "mimetype": "text/x-python",
   "name": "python",
   "nbconvert_exporter": "python",
   "pygments_lexer": "ipython3",
   "version": "3.9.7"
  }
 },
 "nbformat": 4,
 "nbformat_minor": 4
}
