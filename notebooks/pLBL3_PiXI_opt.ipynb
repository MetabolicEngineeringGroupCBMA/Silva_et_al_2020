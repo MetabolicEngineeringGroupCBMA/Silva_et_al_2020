{
 "cells": [
  {
   "cell_type": "markdown",
   "metadata": {},
   "source": [
    "# pLBL3_PiXI_opt\n",
    "\n",
    "The pLBL_PiXI is the [pLBL3 vector](pLBL3.ipynb) with the xylose isomerase gene from [Piromyces sp](https://en.wikipedia.org/wiki/Piromyces) located \n",
    "between the TEF1 promoter and the RPS7B terminator.\n",
    "\n",
    "The XI gene is the codon optimized gene described by [Brat et al. 2009](https://www.ncbi.nlm.nih.gov/pubmed/19218403)."
   ]
  },
  {
   "cell_type": "code",
   "execution_count": 1,
   "metadata": {},
   "outputs": [],
   "source": [
    "from pydna.all import *"
   ]
  },
  {
   "cell_type": "code",
   "execution_count": 2,
   "metadata": {},
   "outputs": [],
   "source": [
    "pLBL3 = read(\"pLBL3.gb\")"
   ]
  },
  {
   "cell_type": "code",
   "execution_count": 3,
   "metadata": {},
   "outputs": [
    {
     "data": {
      "text/html": [
       "<a href='./data/raw/fwdcodonoptimizedpiromycesxyloseisomerasegene/p426H7-opt.XI-Piro.gbk' target='_blank'>./data/raw/fwdcodonoptimizedpiromycesxyloseisomerasegene/p426H7-opt.XI-Piro.gbk</a><br>"
      ],
      "text/plain": [
       "File(p426H7-opt.XI-Pi)(o7590)"
      ]
     },
     "execution_count": 3,
     "metadata": {},
     "output_type": "execute_result"
    }
   ],
   "source": [
    "p426H7_opt_XI_Piro = read(\"./data/raw/fwdcodonoptimizedpiromycesxyloseisomerasegene/p426H7-opt.XI-Piro.gbk\")\n",
    "p426H7_opt_XI_Piro"
   ]
  },
  {
   "cell_type": "code",
   "execution_count": 4,
   "metadata": {},
   "outputs": [
    {
     "data": {
      "text/plain": [
       "+-----+---------------+-----+------+------+------+--------------+------+\n",
       "| Ft# | Label or Note | Dir | Sta  | End  |  Len | type         | orf? |\n",
       "+-----+---------------+-----+------+------+------+--------------+------+\n",
       "|   0 | nd            | --> | 389  | 1703 | 1314 | CDS          | yes  |\n",
       "|   1 | nd            | --> | 1715 | 1976 |  261 | misc_feature |  no  |\n",
       "|   2 | nd            | <-- | 2750 | 3554 |  804 | CDS          | yes  |\n",
       "|   3 | nd            | --> | 5512 | 6373 |  861 | CDS          | yes  |\n",
       "|   4 | nd            | --> | 0    | 7590 |  394 | misc_feature |  no  |\n",
       "+-----+---------------+-----+------+------+------+--------------+------+"
      ]
     },
     "execution_count": 4,
     "metadata": {},
     "output_type": "execute_result"
    }
   ],
   "source": [
    "p426H7_opt_XI_Piro.list_features()"
   ]
  },
  {
   "cell_type": "code",
   "execution_count": 5,
   "metadata": {},
   "outputs": [],
   "source": [
    "PiXI_opt_orf = p426H7_opt_XI_Piro.extract_feature(0)"
   ]
  },
  {
   "cell_type": "code",
   "execution_count": 6,
   "metadata": {},
   "outputs": [
    {
     "name": "stdout",
     "output_type": "stream",
     "text": [
      "MAKEYFPQIQKIKFEGKDSKNPLAFHYYDAEKEVMGKKMKDWLRFAMAWWHTLCAEGADQFGGGTKSFPWNEGTDAIEIAKQKVDAGFEIMQKLGIPYYCFHDVDLVSEGNSIEEYESNLKAVVAYLKEKQKETGIKLLWSTANVFGHKRYMNGASTNPDFDVVARAIVQIKNAIDAGIELGAENYVFWGGREGYMSLLNTDQKREKEHMATMLTMARDYARSKGFKGTFLIEPKPMEPTKHQYDVDTETAIGFLKAHNLDKDFKVNIEVNHATLAGHTFEHELACAVDAGMLGSIDANRGDYQNGWDTDQFPIDQYELVQAWMEIIRGGGFVTGGTNFDAKTRRNSTDLEDIIIAHVSGMDAMARALENAAKLLQESPYTKMKKERYASFDSGIGKDFEDGKLTLEQVYEYGKKNGEPKQTSGKQELYEAIVAMYQ*\n"
     ]
    }
   ],
   "source": [
    "print(str(PiXI_opt_orf.translate().seq))"
   ]
  },
  {
   "cell_type": "code",
   "execution_count": 7,
   "metadata": {},
   "outputs": [],
   "source": [
    "product = primer_design(PiXI_opt_orf)"
   ]
  },
  {
   "cell_type": "code",
   "execution_count": 8,
   "metadata": {},
   "outputs": [],
   "source": [
    "from Bio.Restriction import AjiI"
   ]
  },
  {
   "cell_type": "code",
   "execution_count": 9,
   "metadata": {},
   "outputs": [],
   "source": [
    "pLBL3_lin = pLBL3.linearize(AjiI)"
   ]
  },
  {
   "cell_type": "code",
   "execution_count": 10,
   "metadata": {},
   "outputs": [],
   "source": [
    "slask, product_tails = circular_assembly_fragments((pLBL3_lin,Dseqrecord(\"AA\"),product), overlap=35)"
   ]
  },
  {
   "cell_type": "code",
   "execution_count": 11,
   "metadata": {},
   "outputs": [
    {
     "data": {
      "text/plain": [
       "                                     5ATGGCTAAGGAATACTTC...TGTTGCTATGTACCAATAA3\n",
       "                                                           |||||||||||||||||||\n",
       "                                                          3ACAACGATACATGGTTATTCACGGTAGACACGTCTGTTTGCGTAGTCCTAAATT5\n",
       "5GTTGCCCACTTTCTCACTAGTGACCTGCAGCCGACAAATGGCTAAGGAATACTTC3\n",
       "                                      ||||||||||||||||||\n",
       "                                     3TACCGATTCCTTATGAAG...ACAACGATACATGGTTATT5"
      ]
     },
     "execution_count": 11,
     "metadata": {},
     "output_type": "execute_result"
    }
   ],
   "source": [
    "product_tails.figure()"
   ]
  },
  {
   "cell_type": "code",
   "execution_count": 12,
   "metadata": {},
   "outputs": [],
   "source": [
    "product_tails.name = \"PiXI_opt\""
   ]
  },
  {
   "cell_type": "code",
   "execution_count": 13,
   "metadata": {},
   "outputs": [
    {
     "data": {
      "text/plain": [
       "Assembly\n",
       "fragments..: 7576bp 1386bp\n",
       "limit(bp)..: 25\n",
       "G.nodes....: 4\n",
       "algorithm..: common_sub_strings"
      ]
     },
     "execution_count": 13,
     "metadata": {},
     "output_type": "execute_result"
    }
   ],
   "source": [
    "asm = Assembly((pLBL3_lin, product_tails))\n",
    "asm"
   ]
  },
  {
   "cell_type": "code",
   "execution_count": 14,
   "metadata": {},
   "outputs": [
    {
     "data": {
      "text/plain": [
       "[Contig(o8892), Contig(o8892)]"
      ]
     },
     "execution_count": 14,
     "metadata": {},
     "output_type": "execute_result"
    }
   ],
   "source": [
    "candidates = asm.assemble_circular()\n",
    "candidates"
   ]
  },
  {
   "cell_type": "code",
   "execution_count": 15,
   "metadata": {},
   "outputs": [
    {
     "data": {
      "text/html": [
       "<pre> -|pLBL3_lin|35\n",
       "|            \\/\n",
       "|            /\\\n",
       "|            35|PiXI_opt|35\n",
       "|                        \\/\n",
       "|                        /\\\n",
       "|                        35-\n",
       "|                           |\n",
       " ---------------------------</pre>"
      ],
      "text/plain": [
       "Contig(o8892)"
      ]
     },
     "execution_count": 15,
     "metadata": {},
     "output_type": "execute_result"
    }
   ],
   "source": [
    "candidate = candidates[0]\n",
    "candidate"
   ]
  },
  {
   "cell_type": "code",
   "execution_count": 16,
   "metadata": {},
   "outputs": [],
   "source": [
    "pLBL3_PiXI_opt = candidate.synced(pLBL3)"
   ]
  },
  {
   "cell_type": "code",
   "execution_count": 17,
   "metadata": {},
   "outputs": [
    {
     "data": {
      "text/plain": [
       "Dseqrecord(o8892)"
      ]
     },
     "execution_count": 17,
     "metadata": {},
     "output_type": "execute_result"
    }
   ],
   "source": [
    "pLBL3_PiXI_opt"
   ]
  },
  {
   "cell_type": "code",
   "execution_count": 18,
   "metadata": {},
   "outputs": [],
   "source": [
    "assert pLBL3_PiXI_opt.cseguid() ==\"DR2uis2xRt9A-Gc_zYizL1N_jiI\""
   ]
  },
  {
   "cell_type": "code",
   "execution_count": 19,
   "metadata": {},
   "outputs": [
    {
     "data": {
      "text/plain": [
       "cSEGUID_DR2uis2xRt9A-Gc_zYizL1N_jiI"
      ]
     },
     "execution_count": 19,
     "metadata": {},
     "output_type": "execute_result"
    }
   ],
   "source": [
    "pLBL3_PiXI_opt.stamp()"
   ]
  },
  {
   "cell_type": "code",
   "execution_count": 20,
   "metadata": {},
   "outputs": [],
   "source": [
    "pLBL3_PiXI_opt.locus = \"pLBL3_PiXI_opt\""
   ]
  },
  {
   "cell_type": "code",
   "execution_count": 21,
   "metadata": {},
   "outputs": [
    {
     "data": {
      "text/html": [
       "<font face=monospace><a href='pLBL3_PiXI_opt.gb' target='_blank'>pLBL3_PiXI_opt.gb</a></font><br>"
      ]
     },
     "metadata": {},
     "output_type": "display_data"
    }
   ],
   "source": [
    "pLBL3_PiXI_opt.write()"
   ]
  },
  {
   "cell_type": "markdown",
   "metadata": {},
   "source": [
    "The primers below are the ones actually used. These were manually designed but give the same result as the ones designed above."
   ]
  },
  {
   "cell_type": "code",
   "execution_count": 22,
   "metadata": {},
   "outputs": [],
   "source": [
    "fp, rp = parse_primers(\"\"\"\n",
    ">1125_PiXYLAoptfw\n",
    "gaggaacgccaggttgcccactttctcactagtgacctgcagccgacaaATGGCTAAGGAATACTTCC\n",
    "\n",
    ">1124_PiXYLAoptrv\n",
    "tggattaaaaatttaaatcctgatgcgtttgtctgcacagatggcacTTATTGGTACATAGCAACAATAG\"\"\")"
   ]
  },
  {
   "cell_type": "code",
   "execution_count": 23,
   "metadata": {},
   "outputs": [],
   "source": [
    "product_tails2 = pcr(fp,rp,p426H7_opt_XI_Piro)"
   ]
  },
  {
   "cell_type": "code",
   "execution_count": 24,
   "metadata": {},
   "outputs": [
    {
     "data": {
      "text/plain": [
       "Assembly\n",
       "fragments..: 7576bp 1410bp\n",
       "limit(bp)..: 25\n",
       "G.nodes....: 4\n",
       "algorithm..: common_sub_strings"
      ]
     },
     "execution_count": 24,
     "metadata": {},
     "output_type": "execute_result"
    }
   ],
   "source": [
    "asm2 = Assembly((pLBL3_lin, product_tails2))\n",
    "asm2"
   ]
  },
  {
   "cell_type": "code",
   "execution_count": 25,
   "metadata": {},
   "outputs": [],
   "source": [
    "assert asm2.assemble_circular()[0].cseguid() == \"DR2uis2xRt9A-Gc_zYizL1N_jiI\" == pLBL3_PiXI_opt.cseguid()"
   ]
  }
 ],
 "metadata": {
  "kernelspec": {
   "display_name": "Python [conda env:bjorn37]",
   "language": "python",
   "name": "conda-env-bjorn37-py"
  },
  "language_info": {
   "codemirror_mode": {
    "name": "ipython",
    "version": 3
   },
   "file_extension": ".py",
   "mimetype": "text/x-python",
   "name": "python",
   "nbconvert_exporter": "python",
   "pygments_lexer": "ipython3",
   "version": "3.7.3"
  }
 },
 "nbformat": 4,
 "nbformat_minor": 4
}
